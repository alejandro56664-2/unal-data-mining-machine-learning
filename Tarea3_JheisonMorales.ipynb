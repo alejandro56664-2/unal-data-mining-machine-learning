{
  "nbformat": 4,
  "nbformat_minor": 0,
  "metadata": {
    "colab": {
      "name": "Tarea3_JheisonMorales.ipynb",
      "provenance": [],
      "collapsed_sections": [],
      "toc_visible": true,
      "authorship_tag": "ABX9TyPhg3WwXzEjU+yYdyyq98vW",
      "include_colab_link": true
    },
    "kernelspec": {
      "name": "python3",
      "display_name": "Python 3"
    },
    "language_info": {
      "name": "python"
    }
  },
  "cells": [
    {
      "cell_type": "markdown",
      "metadata": {
        "id": "view-in-github",
        "colab_type": "text"
      },
      "source": [
        "<a href=\"https://colab.research.google.com/github/alejandro56664-adl/unal-data-mining/blob/main/Tarea3_JheisonMorales.ipynb\" target=\"_parent\"><img src=\"https://colab.research.google.com/assets/colab-badge.svg\" alt=\"Open In Colab\"/></a>"
      ]
    },
    {
      "cell_type": "markdown",
      "metadata": {
        "id": "OaouUmObPzeH"
      },
      "source": [
        "\n",
        "# Minería de Datos - 2021-I\n",
        "## Tarea 3 - Asociación\n",
        "\n",
        "![logo_unal](http://seeklogo.com/images/U/Universidad_Nacional_de_Colombia_-_Sede_Bogot_and__225_-logo-A05EAD6D0F-seeklogo.com.png)\n",
        "\n",
        "PROFESORA ELIZABETH LEON GUZMAN\n",
        "\n",
        "Presentado por:\n",
        "- [Jheison Alejandro Morales Vásquez](mailto:jhmoralesva@unal.edu.co)\n",
        "\n",
        "Una copia de esta libreta se puede encontrar en: https://github.com/alejandro56664-adl/unal-data-mining\n",
        "\n",
        "\n"
      ]
    },
    {
      "cell_type": "code",
      "metadata": {
        "colab": {
          "base_uri": "https://localhost:8080/"
        },
        "id": "-g4sSoOJTnN8",
        "outputId": "19c7cb19-0828-4741-8afc-913c4e194d23"
      },
      "source": [
        "!pip install pyfpgrowth\n",
        "!pip install efficient-apriori"
      ],
      "execution_count": 43,
      "outputs": [
        {
          "output_type": "stream",
          "text": [
            "Requirement already satisfied: pyfpgrowth in /usr/local/lib/python3.7/dist-packages (1.0)\n",
            "Requirement already satisfied: efficient-apriori in /usr/local/lib/python3.7/dist-packages (1.1.1)\n"
          ],
          "name": "stdout"
        }
      ]
    },
    {
      "cell_type": "code",
      "metadata": {
        "id": "d5aFGzsATWlK"
      },
      "source": [
        "import numpy as np\n",
        "import pandas as pd\n",
        "import time\n",
        "from sklearn import preprocessing\n",
        "from sklearn.compose import ColumnTransformer\n",
        "from scipy import stats\n",
        "from google.colab import files"
      ],
      "execution_count": 44,
      "outputs": []
    },
    {
      "cell_type": "code",
      "metadata": {
        "id": "-BiUMpN5YXtR"
      },
      "source": [
        "import pyfpgrowth\n",
        "from efficient_apriori import apriori"
      ],
      "execution_count": 45,
      "outputs": []
    },
    {
      "cell_type": "code",
      "metadata": {
        "id": "OMmtcamudRui"
      },
      "source": [
        "import matplotlib.pyplot as plt\n",
        "%matplotlib inline\n",
        "import seaborn as sns"
      ],
      "execution_count": 46,
      "outputs": []
    },
    {
      "cell_type": "code",
      "metadata": {
        "colab": {
          "base_uri": "https://localhost:8080/"
        },
        "id": "7gRrKHEnkB3i",
        "outputId": "42c9fe07-a77c-4842-84ec-2aa15ce99f26"
      },
      "source": [
        "!pip install memory_profiler\n",
        "%load_ext memory_profiler"
      ],
      "execution_count": 47,
      "outputs": [
        {
          "output_type": "stream",
          "text": [
            "Requirement already satisfied: memory_profiler in /usr/local/lib/python3.7/dist-packages (0.58.0)\n",
            "Requirement already satisfied: psutil in /usr/local/lib/python3.7/dist-packages (from memory_profiler) (5.4.8)\n",
            "The memory_profiler extension is already loaded. To reload it, use:\n",
            "  %reload_ext memory_profiler\n"
          ],
          "name": "stdout"
        }
      ]
    },
    {
      "cell_type": "markdown",
      "metadata": {
        "id": "Fl5yKU4QP7fY"
      },
      "source": [
        "## 1.\n",
        "\n",
        "Por cada un de las siguientes preguntas,\n",
        "\n",
        "proveer un ejemplo de una regla de asociación del dominio de “market basket” que satisface las siguientes condiciones. También, describir si las reglas son interesantes (subjetivamente).\n",
        "\n",
        "- Una regla que que tiene alto soporte y alta confianza\n",
        "- Una regla que tiene razonablemente alto soporte pero baja confianza\n",
        "- Una regla que tiene bajo soporte y baja confianza \n",
        "- Una regla que tiene bajo soporte y alta confianza\n",
        "\n",
        "TODO"
      ]
    },
    {
      "cell_type": "markdown",
      "metadata": {
        "id": "cEQx3Ia8QUBz"
      },
      "source": [
        "## 2.\n",
        "\n",
        "¿Por qué el proceso de descubrimiento de reglas de asociación es relativamente simple comparado con la generación de grandes conjuntos de ítems en bases de datos transaccionales?\n",
        "\n",
        "R/: \n",
        "\n",
        "Esto se debe a que la generación de conjuntos de items (si hace a fuerza bruta) requiere realizar varios scan (busquedas que involucran revisar todos los registros de la base de de datos transaccional) lo que eleva la complejidad del algoritmo. \n",
        "\n",
        "Esta complejidad es en notación Big O:\n",
        "\n",
        "![\\Large O(NMw)](https://latex.codecogs.com/svg.latex?\\Large&space;O(NMw)) \n",
        "\n",
        "Donde: \n",
        "\n",
        "- N: Es el número total de transacciones.\n",
        "- M: Es el número total de candidatos. ![ M=2k-1](https://latex.codecogs.com/svg.latex?&space;M=2k-1) \n",
        "- k: es el tamaño del _itemset_ o conjunto de ítems.\n",
        "\n",
        "Por este motivo, se han planteado diferentes algoritmos que buscan reducir esta complejidad usando alguna de estas tres estrategias:\n",
        "\n",
        "- Reducir el número de ítemset candidatos (M). _Principio Apriori_\n",
        "- Reducir el número de comparaciones.\n",
        "- Reducir el número de transacciones a evaluar (N).\n"
      ]
    },
    {
      "cell_type": "markdown",
      "metadata": {
        "id": "5cAT_5mrQZBd"
      },
      "source": [
        "## 3.\n",
        "\n",
        "Considere el siguiente conjunto de datos:\n"
      ]
    },
    {
      "cell_type": "code",
      "metadata": {
        "colab": {
          "base_uri": "https://localhost:8080/",
          "height": 227
        },
        "id": "xf__8zsBgvPl",
        "outputId": "a371af5a-07ce-4fc4-fccb-becaf4039c53"
      },
      "source": [
        "dic_3 = { \n",
        "        'TID': ['T01', 'T02', 'T03', 'T04', 'T05', 'T06', 'T07', 'T08', 'T09', 'T10'],\n",
        "        'Items': ['milk, beer, diapers',\n",
        "                  'bread, butter, milk',\n",
        "                  'milk, diapers, cookies',\n",
        "                  'bread, butter, cookies',\n",
        "                  'beer, cookies, diapers',\n",
        "                  'milk, diapers, bread, butter',\n",
        "                  'bread, butter, diapers',\n",
        "                  'beer, diapers',\n",
        "                  'milk, diapers, bread, butter',\n",
        "                  'beer, cookies']\n",
        "       }\n",
        "df_items_3 = pd.DataFrame.from_dict(dic_3)\n",
        "df_items_3.set_index('TID', inplace=True)\n",
        "df_items_3.head()"
      ],
      "execution_count": 48,
      "outputs": [
        {
          "output_type": "execute_result",
          "data": {
            "text/html": [
              "<div>\n",
              "<style scoped>\n",
              "    .dataframe tbody tr th:only-of-type {\n",
              "        vertical-align: middle;\n",
              "    }\n",
              "\n",
              "    .dataframe tbody tr th {\n",
              "        vertical-align: top;\n",
              "    }\n",
              "\n",
              "    .dataframe thead th {\n",
              "        text-align: right;\n",
              "    }\n",
              "</style>\n",
              "<table border=\"1\" class=\"dataframe\">\n",
              "  <thead>\n",
              "    <tr style=\"text-align: right;\">\n",
              "      <th></th>\n",
              "      <th>Items</th>\n",
              "    </tr>\n",
              "    <tr>\n",
              "      <th>TID</th>\n",
              "      <th></th>\n",
              "    </tr>\n",
              "  </thead>\n",
              "  <tbody>\n",
              "    <tr>\n",
              "      <th>T01</th>\n",
              "      <td>milk, beer, diapers</td>\n",
              "    </tr>\n",
              "    <tr>\n",
              "      <th>T02</th>\n",
              "      <td>bread, butter, milk</td>\n",
              "    </tr>\n",
              "    <tr>\n",
              "      <th>T03</th>\n",
              "      <td>milk, diapers, cookies</td>\n",
              "    </tr>\n",
              "    <tr>\n",
              "      <th>T04</th>\n",
              "      <td>bread, butter, cookies</td>\n",
              "    </tr>\n",
              "    <tr>\n",
              "      <th>T05</th>\n",
              "      <td>beer, cookies, diapers</td>\n",
              "    </tr>\n",
              "  </tbody>\n",
              "</table>\n",
              "</div>"
            ],
            "text/plain": [
              "                      Items\n",
              "TID                        \n",
              "T01     milk, beer, diapers\n",
              "T02     bread, butter, milk\n",
              "T03  milk, diapers, cookies\n",
              "T04  bread, butter, cookies\n",
              "T05  beer, cookies, diapers"
            ]
          },
          "metadata": {
            "tags": []
          },
          "execution_count": 48
        }
      ]
    },
    {
      "cell_type": "markdown",
      "metadata": {
        "id": "beRUe6G2gzU_"
      },
      "source": [
        "- ¿cuál es el número máximo de reglas de asociación que se pueden generar? (incluyendo reglas con soporte 0)"
      ]
    },
    {
      "cell_type": "code",
      "metadata": {
        "id": "0r_KWmZDg-Cs"
      },
      "source": [
        "def get_list_transactions(s):\n",
        "  result = []\n",
        "  all = []\n",
        "  values = s.values\n",
        "  for i in range(len(values)):\n",
        "    values_aux = values[i].split(', ')\n",
        "    result.append(values_aux)\n",
        "    all = all + values_aux\n",
        "  \n",
        "  items = list(set(all))\n",
        "  \n",
        "  return result, items\n"
      ],
      "execution_count": 49,
      "outputs": []
    },
    {
      "cell_type": "code",
      "metadata": {
        "id": "K9ivBVSShtIJ"
      },
      "source": [
        "list_transactions, items = get_list_transactions(df_items_3['Items'])\n"
      ],
      "execution_count": 50,
      "outputs": []
    },
    {
      "cell_type": "code",
      "metadata": {
        "colab": {
          "base_uri": "https://localhost:8080/"
        },
        "id": "GXW6hX7gin11",
        "outputId": "6d8c22bb-60cc-4b7f-e81a-d7f3b6c48075"
      },
      "source": [
        "list_transactions"
      ],
      "execution_count": 51,
      "outputs": [
        {
          "output_type": "execute_result",
          "data": {
            "text/plain": [
              "[['milk', 'beer', 'diapers'],\n",
              " ['bread', 'butter', 'milk'],\n",
              " ['milk', 'diapers', 'cookies'],\n",
              " ['bread', 'butter', 'cookies'],\n",
              " ['beer', 'cookies', 'diapers'],\n",
              " ['milk', 'diapers', 'bread', 'butter'],\n",
              " ['bread', 'butter', 'diapers'],\n",
              " ['beer', 'diapers'],\n",
              " ['milk', 'diapers', 'bread', 'butter'],\n",
              " ['beer', 'cookies']]"
            ]
          },
          "metadata": {
            "tags": []
          },
          "execution_count": 51
        }
      ]
    },
    {
      "cell_type": "code",
      "metadata": {
        "colab": {
          "base_uri": "https://localhost:8080/"
        },
        "id": "tWLO56OOjaHn",
        "outputId": "8ed10d1f-1ee4-42ee-e45a-88d8fa921b96"
      },
      "source": [
        "items"
      ],
      "execution_count": 52,
      "outputs": [
        {
          "output_type": "execute_result",
          "data": {
            "text/plain": [
              "['cookies', 'diapers', 'beer', 'bread', 'milk', 'butter']"
            ]
          },
          "metadata": {
            "tags": []
          },
          "execution_count": 52
        }
      ]
    },
    {
      "cell_type": "code",
      "metadata": {
        "colab": {
          "base_uri": "https://localhost:8080/"
        },
        "id": "IAeOZeuoVZsq",
        "outputId": "dd3bdf6a-6a31-4d32-f9cd-c67ffab749dd"
      },
      "source": [
        "d = len(items)\n",
        "d"
      ],
      "execution_count": 53,
      "outputs": [
        {
          "output_type": "execute_result",
          "data": {
            "text/plain": [
              "6"
            ]
          },
          "metadata": {
            "tags": []
          },
          "execution_count": 53
        }
      ]
    },
    {
      "cell_type": "code",
      "metadata": {
        "colab": {
          "base_uri": "https://localhost:8080/"
        },
        "id": "lnHKvIFC2DYW",
        "outputId": "a437fa5a-79a9-4884-d8a2-ceb6797a8df5"
      },
      "source": [
        "R = 3**d + 2**(d + 1) + 1\n",
        "R"
      ],
      "execution_count": 54,
      "outputs": [
        {
          "output_type": "execute_result",
          "data": {
            "text/plain": [
              "858"
            ]
          },
          "metadata": {
            "tags": []
          },
          "execution_count": 54
        }
      ]
    },
    {
      "cell_type": "markdown",
      "metadata": {
        "id": "D857Wx-3rJJr"
      },
      "source": [
        "- ¿Cuál es el tamaño máximo de los conjuntos de items frecuentes que se pueden extraer (asumir el umbral de minsoporte > 0)?\n"
      ]
    },
    {
      "cell_type": "code",
      "metadata": {
        "colab": {
          "base_uri": "https://localhost:8080/"
        },
        "id": "gnnNCU_9VmDs",
        "outputId": "046b3da8-5b79-4060-b495-542ba999cff9"
      },
      "source": [
        "2**d"
      ],
      "execution_count": 55,
      "outputs": [
        {
          "output_type": "execute_result",
          "data": {
            "text/plain": [
              "64"
            ]
          },
          "metadata": {
            "tags": []
          },
          "execution_count": 55
        }
      ]
    },
    {
      "cell_type": "markdown",
      "metadata": {
        "id": "AXQWEoOxxyrO"
      },
      "source": [
        "- Escribir una regla que contenga 3 ítems que se genere de este conjunto de datos.\n",
        "\n",
        "  - R/: { milk, diapers} → { beer }"
      ]
    },
    {
      "cell_type": "code",
      "metadata": {
        "id": "T7JGEuwCjxD8"
      },
      "source": [
        "#TODO optimizar esto con lambdas o closures\n",
        "def get_all_3_itemsets(items):\n",
        "  itemset = []\n",
        "  k = 3\n",
        "  d = len(items)\n",
        "  d_k = d - k + 1 #para contar desde 0\n",
        "  for i in range(0, d_k):\n",
        "    for j in range(i+1, d_k + 1):\n",
        "      for k1 in range(j+1, d_k + 2):\n",
        "        itemset.append([items[i], items[j], items[k1]])\n",
        "  return itemset, k\n",
        "\n",
        "def get_all_2_itemsets(items):\n",
        "  itemset = []\n",
        "  k = 2\n",
        "  d = len(items)\n",
        "  d_k = d - k + 1 #para contar desde 0\n",
        "  for i in range(0, d_k):\n",
        "    for j in range(i+1, d_k + 1):\n",
        "        itemset.append([items[i], items[j]])\n",
        "  return itemset, k\n",
        "\n",
        "def get_all_1_itemsets(items):\n",
        "  itemset = []\n",
        "  k = 1\n",
        "  d = len(items)\n",
        "  d_k = d - k + 1 #para contar desde 0\n",
        "  for i in range(0, d_k):\n",
        "        itemset.append([items[i]])\n",
        "  return itemset, k\n"
      ],
      "execution_count": 56,
      "outputs": []
    },
    {
      "cell_type": "markdown",
      "metadata": {
        "id": "Uw7NRqqjSgfm"
      },
      "source": [
        "- Encontrar un conjunto de items (de tamaño mayor a 2) con el valor de soporte máximo."
      ]
    },
    {
      "cell_type": "code",
      "metadata": {
        "colab": {
          "base_uri": "https://localhost:8080/"
        },
        "id": "5gFoMREVSfgw",
        "outputId": "88e49024-43a9-473b-9acc-fd38c3fff2b8"
      },
      "source": [
        "k3_itemsets, _ = get_all_3_itemsets(items)\n",
        "k3_itemsets"
      ],
      "execution_count": 57,
      "outputs": [
        {
          "output_type": "execute_result",
          "data": {
            "text/plain": [
              "[['cookies', 'diapers', 'beer'],\n",
              " ['cookies', 'diapers', 'bread'],\n",
              " ['cookies', 'diapers', 'milk'],\n",
              " ['cookies', 'diapers', 'butter'],\n",
              " ['cookies', 'beer', 'bread'],\n",
              " ['cookies', 'beer', 'milk'],\n",
              " ['cookies', 'beer', 'butter'],\n",
              " ['cookies', 'bread', 'milk'],\n",
              " ['cookies', 'bread', 'butter'],\n",
              " ['cookies', 'milk', 'butter'],\n",
              " ['diapers', 'beer', 'bread'],\n",
              " ['diapers', 'beer', 'milk'],\n",
              " ['diapers', 'beer', 'butter'],\n",
              " ['diapers', 'bread', 'milk'],\n",
              " ['diapers', 'bread', 'butter'],\n",
              " ['diapers', 'milk', 'butter'],\n",
              " ['beer', 'bread', 'milk'],\n",
              " ['beer', 'bread', 'butter'],\n",
              " ['beer', 'milk', 'butter'],\n",
              " ['bread', 'milk', 'butter']]"
            ]
          },
          "metadata": {
            "tags": []
          },
          "execution_count": 57
        }
      ]
    },
    {
      "cell_type": "code",
      "metadata": {
        "id": "f96ggqtEoC0P"
      },
      "source": [
        "def get_support(k_itemsets, transactions):\n",
        "  # implemetnación por fuerza bruta\n",
        "  l = len(k_itemsets)\n",
        "  supports = np.zeros(l)\n",
        "  for t in transactions:\n",
        "    for i in range(l):\n",
        "      i_s = k_itemsets[i]\n",
        "      if len(t) > len(i_s):\n",
        "        supports[i] = supports[i] + int(set(i_s).issubset(t))\n",
        "  return supports\n",
        "        "
      ],
      "execution_count": 58,
      "outputs": []
    },
    {
      "cell_type": "code",
      "metadata": {
        "colab": {
          "base_uri": "https://localhost:8080/"
        },
        "id": "WupEC_YZweJz",
        "outputId": "7ce349ec-e79b-451c-e55b-21328c4e31ee"
      },
      "source": [
        "k3_itemsets_supp = get_support(k3_itemsets, list_transactions)\n",
        "k3_itemsets_supp"
      ],
      "execution_count": 59,
      "outputs": [
        {
          "output_type": "execute_result",
          "data": {
            "text/plain": [
              "array([0., 0., 0., 0., 0., 0., 0., 0., 0., 0., 0., 0., 0., 2., 2., 2., 0.,\n",
              "       0., 0., 2.])"
            ]
          },
          "metadata": {
            "tags": []
          },
          "execution_count": 59
        }
      ]
    },
    {
      "cell_type": "code",
      "metadata": {
        "colab": {
          "base_uri": "https://localhost:8080/",
          "height": 167
        },
        "id": "z5G8r0unxL1a",
        "outputId": "858caf8f-8f50-43ae-bcf4-45f830696719"
      },
      "source": [
        "df_support_3 = pd.DataFrame({'support_count': k3_itemsets_supp, 'k3_itemsets': k3_itemsets})\n",
        "df_support_3[ df_support_3['support_count'] > 0]"
      ],
      "execution_count": 60,
      "outputs": [
        {
          "output_type": "execute_result",
          "data": {
            "text/html": [
              "<div>\n",
              "<style scoped>\n",
              "    .dataframe tbody tr th:only-of-type {\n",
              "        vertical-align: middle;\n",
              "    }\n",
              "\n",
              "    .dataframe tbody tr th {\n",
              "        vertical-align: top;\n",
              "    }\n",
              "\n",
              "    .dataframe thead th {\n",
              "        text-align: right;\n",
              "    }\n",
              "</style>\n",
              "<table border=\"1\" class=\"dataframe\">\n",
              "  <thead>\n",
              "    <tr style=\"text-align: right;\">\n",
              "      <th></th>\n",
              "      <th>support_count</th>\n",
              "      <th>k3_itemsets</th>\n",
              "    </tr>\n",
              "  </thead>\n",
              "  <tbody>\n",
              "    <tr>\n",
              "      <th>13</th>\n",
              "      <td>2.0</td>\n",
              "      <td>[diapers, bread, milk]</td>\n",
              "    </tr>\n",
              "    <tr>\n",
              "      <th>14</th>\n",
              "      <td>2.0</td>\n",
              "      <td>[diapers, bread, butter]</td>\n",
              "    </tr>\n",
              "    <tr>\n",
              "      <th>15</th>\n",
              "      <td>2.0</td>\n",
              "      <td>[diapers, milk, butter]</td>\n",
              "    </tr>\n",
              "    <tr>\n",
              "      <th>19</th>\n",
              "      <td>2.0</td>\n",
              "      <td>[bread, milk, butter]</td>\n",
              "    </tr>\n",
              "  </tbody>\n",
              "</table>\n",
              "</div>"
            ],
            "text/plain": [
              "    support_count               k3_itemsets\n",
              "13            2.0    [diapers, bread, milk]\n",
              "14            2.0  [diapers, bread, butter]\n",
              "15            2.0   [diapers, milk, butter]\n",
              "19            2.0     [bread, milk, butter]"
            ]
          },
          "metadata": {
            "tags": []
          },
          "execution_count": 60
        }
      ]
    },
    {
      "cell_type": "markdown",
      "metadata": {
        "id": "F-_bHhsAoDHw"
      },
      "source": [
        "- Encontrar un par de ítems (a y b) tal que las reglas a → b y b → a tengan la misma confianza."
      ]
    },
    {
      "cell_type": "code",
      "metadata": {
        "id": "e5279bqM1oGY"
      },
      "source": [
        "def get_support_df(items, list_transactions, fn_get_k_itemsets):\n",
        "  k_itemsets, k = fn_get_k_itemsets(items)\n",
        "  k_itemsets_s = get_support(k_itemsets, list_transactions)\n",
        "  N = len(list_transactions)\n",
        "  l = len(k_itemsets)\n",
        "  df = pd.DataFrame({'k_itemsets': k_itemsets, 'k': np.ones(l)*k, 'support_count': k_itemsets_s})\n",
        "  df['support'] = df['support_count']/N\n",
        "  return df"
      ],
      "execution_count": 61,
      "outputs": []
    },
    {
      "cell_type": "code",
      "metadata": {
        "colab": {
          "base_uri": "https://localhost:8080/",
          "height": 437
        },
        "id": "fZZgYPm7joYB",
        "outputId": "3b424998-698e-4985-b240-f15157654f43"
      },
      "source": [
        "df_support_2 = get_support_df(items, list_transactions, get_all_2_itemsets)\n",
        "\n",
        "#filtramos los que tienen support_count > 0\n",
        "df_support_2 = df_support_2[ df_support_2['support_count'] > 0]\n",
        "df_support_2"
      ],
      "execution_count": 62,
      "outputs": [
        {
          "output_type": "execute_result",
          "data": {
            "text/html": [
              "<div>\n",
              "<style scoped>\n",
              "    .dataframe tbody tr th:only-of-type {\n",
              "        vertical-align: middle;\n",
              "    }\n",
              "\n",
              "    .dataframe tbody tr th {\n",
              "        vertical-align: top;\n",
              "    }\n",
              "\n",
              "    .dataframe thead th {\n",
              "        text-align: right;\n",
              "    }\n",
              "</style>\n",
              "<table border=\"1\" class=\"dataframe\">\n",
              "  <thead>\n",
              "    <tr style=\"text-align: right;\">\n",
              "      <th></th>\n",
              "      <th>k_itemsets</th>\n",
              "      <th>k</th>\n",
              "      <th>support_count</th>\n",
              "      <th>support</th>\n",
              "    </tr>\n",
              "  </thead>\n",
              "  <tbody>\n",
              "    <tr>\n",
              "      <th>0</th>\n",
              "      <td>[cookies, diapers]</td>\n",
              "      <td>2.0</td>\n",
              "      <td>2.0</td>\n",
              "      <td>0.2</td>\n",
              "    </tr>\n",
              "    <tr>\n",
              "      <th>1</th>\n",
              "      <td>[cookies, beer]</td>\n",
              "      <td>2.0</td>\n",
              "      <td>1.0</td>\n",
              "      <td>0.1</td>\n",
              "    </tr>\n",
              "    <tr>\n",
              "      <th>2</th>\n",
              "      <td>[cookies, bread]</td>\n",
              "      <td>2.0</td>\n",
              "      <td>1.0</td>\n",
              "      <td>0.1</td>\n",
              "    </tr>\n",
              "    <tr>\n",
              "      <th>3</th>\n",
              "      <td>[cookies, milk]</td>\n",
              "      <td>2.0</td>\n",
              "      <td>1.0</td>\n",
              "      <td>0.1</td>\n",
              "    </tr>\n",
              "    <tr>\n",
              "      <th>4</th>\n",
              "      <td>[cookies, butter]</td>\n",
              "      <td>2.0</td>\n",
              "      <td>1.0</td>\n",
              "      <td>0.1</td>\n",
              "    </tr>\n",
              "    <tr>\n",
              "      <th>5</th>\n",
              "      <td>[diapers, beer]</td>\n",
              "      <td>2.0</td>\n",
              "      <td>2.0</td>\n",
              "      <td>0.2</td>\n",
              "    </tr>\n",
              "    <tr>\n",
              "      <th>6</th>\n",
              "      <td>[diapers, bread]</td>\n",
              "      <td>2.0</td>\n",
              "      <td>3.0</td>\n",
              "      <td>0.3</td>\n",
              "    </tr>\n",
              "    <tr>\n",
              "      <th>7</th>\n",
              "      <td>[diapers, milk]</td>\n",
              "      <td>2.0</td>\n",
              "      <td>4.0</td>\n",
              "      <td>0.4</td>\n",
              "    </tr>\n",
              "    <tr>\n",
              "      <th>8</th>\n",
              "      <td>[diapers, butter]</td>\n",
              "      <td>2.0</td>\n",
              "      <td>3.0</td>\n",
              "      <td>0.3</td>\n",
              "    </tr>\n",
              "    <tr>\n",
              "      <th>10</th>\n",
              "      <td>[beer, milk]</td>\n",
              "      <td>2.0</td>\n",
              "      <td>1.0</td>\n",
              "      <td>0.1</td>\n",
              "    </tr>\n",
              "    <tr>\n",
              "      <th>12</th>\n",
              "      <td>[bread, milk]</td>\n",
              "      <td>2.0</td>\n",
              "      <td>3.0</td>\n",
              "      <td>0.3</td>\n",
              "    </tr>\n",
              "    <tr>\n",
              "      <th>13</th>\n",
              "      <td>[bread, butter]</td>\n",
              "      <td>2.0</td>\n",
              "      <td>5.0</td>\n",
              "      <td>0.5</td>\n",
              "    </tr>\n",
              "    <tr>\n",
              "      <th>14</th>\n",
              "      <td>[milk, butter]</td>\n",
              "      <td>2.0</td>\n",
              "      <td>3.0</td>\n",
              "      <td>0.3</td>\n",
              "    </tr>\n",
              "  </tbody>\n",
              "</table>\n",
              "</div>"
            ],
            "text/plain": [
              "            k_itemsets    k  support_count  support\n",
              "0   [cookies, diapers]  2.0            2.0      0.2\n",
              "1      [cookies, beer]  2.0            1.0      0.1\n",
              "2     [cookies, bread]  2.0            1.0      0.1\n",
              "3      [cookies, milk]  2.0            1.0      0.1\n",
              "4    [cookies, butter]  2.0            1.0      0.1\n",
              "5      [diapers, beer]  2.0            2.0      0.2\n",
              "6     [diapers, bread]  2.0            3.0      0.3\n",
              "7      [diapers, milk]  2.0            4.0      0.4\n",
              "8    [diapers, butter]  2.0            3.0      0.3\n",
              "10        [beer, milk]  2.0            1.0      0.1\n",
              "12       [bread, milk]  2.0            3.0      0.3\n",
              "13     [bread, butter]  2.0            5.0      0.5\n",
              "14      [milk, butter]  2.0            3.0      0.3"
            ]
          },
          "metadata": {
            "tags": []
          },
          "execution_count": 62
        }
      ]
    },
    {
      "cell_type": "code",
      "metadata": {
        "colab": {
          "base_uri": "https://localhost:8080/",
          "height": 227
        },
        "id": "_H-Fpjxl1QEi",
        "outputId": "8fc0d3c0-69dd-4cbc-ead2-78a7e3a483d2"
      },
      "source": [
        "df_support_1 = get_support_df(items, list_transactions, get_all_1_itemsets)\n",
        "\n",
        "#desempaquetamos del array ['item'] -> 'item'\n",
        "df_support_1['k_itemsets'] = df_support_1['k_itemsets'].map(lambda s: s[0])\n",
        "\n",
        "df_support_1"
      ],
      "execution_count": 63,
      "outputs": [
        {
          "output_type": "execute_result",
          "data": {
            "text/html": [
              "<div>\n",
              "<style scoped>\n",
              "    .dataframe tbody tr th:only-of-type {\n",
              "        vertical-align: middle;\n",
              "    }\n",
              "\n",
              "    .dataframe tbody tr th {\n",
              "        vertical-align: top;\n",
              "    }\n",
              "\n",
              "    .dataframe thead th {\n",
              "        text-align: right;\n",
              "    }\n",
              "</style>\n",
              "<table border=\"1\" class=\"dataframe\">\n",
              "  <thead>\n",
              "    <tr style=\"text-align: right;\">\n",
              "      <th></th>\n",
              "      <th>k_itemsets</th>\n",
              "      <th>k</th>\n",
              "      <th>support_count</th>\n",
              "      <th>support</th>\n",
              "    </tr>\n",
              "  </thead>\n",
              "  <tbody>\n",
              "    <tr>\n",
              "      <th>0</th>\n",
              "      <td>cookies</td>\n",
              "      <td>1.0</td>\n",
              "      <td>4.0</td>\n",
              "      <td>0.4</td>\n",
              "    </tr>\n",
              "    <tr>\n",
              "      <th>1</th>\n",
              "      <td>diapers</td>\n",
              "      <td>1.0</td>\n",
              "      <td>7.0</td>\n",
              "      <td>0.7</td>\n",
              "    </tr>\n",
              "    <tr>\n",
              "      <th>2</th>\n",
              "      <td>beer</td>\n",
              "      <td>1.0</td>\n",
              "      <td>4.0</td>\n",
              "      <td>0.4</td>\n",
              "    </tr>\n",
              "    <tr>\n",
              "      <th>3</th>\n",
              "      <td>bread</td>\n",
              "      <td>1.0</td>\n",
              "      <td>5.0</td>\n",
              "      <td>0.5</td>\n",
              "    </tr>\n",
              "    <tr>\n",
              "      <th>4</th>\n",
              "      <td>milk</td>\n",
              "      <td>1.0</td>\n",
              "      <td>5.0</td>\n",
              "      <td>0.5</td>\n",
              "    </tr>\n",
              "    <tr>\n",
              "      <th>5</th>\n",
              "      <td>butter</td>\n",
              "      <td>1.0</td>\n",
              "      <td>5.0</td>\n",
              "      <td>0.5</td>\n",
              "    </tr>\n",
              "  </tbody>\n",
              "</table>\n",
              "</div>"
            ],
            "text/plain": [
              "  k_itemsets    k  support_count  support\n",
              "0    cookies  1.0            4.0      0.4\n",
              "1    diapers  1.0            7.0      0.7\n",
              "2       beer  1.0            4.0      0.4\n",
              "3      bread  1.0            5.0      0.5\n",
              "4       milk  1.0            5.0      0.5\n",
              "5     butter  1.0            5.0      0.5"
            ]
          },
          "metadata": {
            "tags": []
          },
          "execution_count": 63
        }
      ]
    },
    {
      "cell_type": "code",
      "metadata": {
        "id": "MyscGSsl7loT"
      },
      "source": [
        "# Ahora que ya vimos que funciona creamos un closure con acceso al diccionario\n",
        "def add_a_b_metrics(k1_itemset):\n",
        "\n",
        "  #convertimos a el df a diccionario\n",
        "  dict_support = dict(zip(k1_itemset['k_itemsets'].values, k1_itemset['support_count'].values))\n",
        "\n",
        "  print(dict_support)\n",
        "  #retornamos un closure con acceso al diccionario\n",
        "  def add_metrics_cols(row):\n",
        "\n",
        "    #calculamos la confianza = supp(a->b)/supp(a)\n",
        "    itemset = row['k_itemsets'] # [a, b]\n",
        "    \n",
        "    supp_a_b = row['support_count']\n",
        "\n",
        "    supp_a = dict_support[itemset[0]]\n",
        "    supp_b = dict_support[itemset[1]]\n",
        "    \n",
        "\n",
        "    row['c(a->b)'] = supp_a_b/supp_a\n",
        "    row['c(b->a)'] = supp_a_b/supp_b\n",
        "    row['I(a,b)'] = supp_a_b/(supp_b*supp_a)\n",
        "    return row\n",
        "  \n",
        "  return add_metrics_cols"
      ],
      "execution_count": 64,
      "outputs": []
    },
    {
      "cell_type": "code",
      "metadata": {
        "colab": {
          "base_uri": "https://localhost:8080/",
          "height": 455
        },
        "id": "bz8oS5ZQ74dU",
        "outputId": "3cf7fccc-35bd-4aac-e8f8-d1f14ac76619"
      },
      "source": [
        "df_support_2_metrics = df_support_2.apply(add_a_b_metrics(df_support_1), axis=1)\n",
        "df_support_2_metrics"
      ],
      "execution_count": 65,
      "outputs": [
        {
          "output_type": "stream",
          "text": [
            "{'cookies': 4.0, 'diapers': 7.0, 'beer': 4.0, 'bread': 5.0, 'milk': 5.0, 'butter': 5.0}\n"
          ],
          "name": "stdout"
        },
        {
          "output_type": "execute_result",
          "data": {
            "text/html": [
              "<div>\n",
              "<style scoped>\n",
              "    .dataframe tbody tr th:only-of-type {\n",
              "        vertical-align: middle;\n",
              "    }\n",
              "\n",
              "    .dataframe tbody tr th {\n",
              "        vertical-align: top;\n",
              "    }\n",
              "\n",
              "    .dataframe thead th {\n",
              "        text-align: right;\n",
              "    }\n",
              "</style>\n",
              "<table border=\"1\" class=\"dataframe\">\n",
              "  <thead>\n",
              "    <tr style=\"text-align: right;\">\n",
              "      <th></th>\n",
              "      <th>k_itemsets</th>\n",
              "      <th>k</th>\n",
              "      <th>support_count</th>\n",
              "      <th>support</th>\n",
              "      <th>c(a-&gt;b)</th>\n",
              "      <th>c(b-&gt;a)</th>\n",
              "      <th>I(a,b)</th>\n",
              "    </tr>\n",
              "  </thead>\n",
              "  <tbody>\n",
              "    <tr>\n",
              "      <th>0</th>\n",
              "      <td>[cookies, diapers]</td>\n",
              "      <td>2.0</td>\n",
              "      <td>2.0</td>\n",
              "      <td>0.2</td>\n",
              "      <td>0.500000</td>\n",
              "      <td>0.285714</td>\n",
              "      <td>0.071429</td>\n",
              "    </tr>\n",
              "    <tr>\n",
              "      <th>1</th>\n",
              "      <td>[cookies, beer]</td>\n",
              "      <td>2.0</td>\n",
              "      <td>1.0</td>\n",
              "      <td>0.1</td>\n",
              "      <td>0.250000</td>\n",
              "      <td>0.250000</td>\n",
              "      <td>0.062500</td>\n",
              "    </tr>\n",
              "    <tr>\n",
              "      <th>2</th>\n",
              "      <td>[cookies, bread]</td>\n",
              "      <td>2.0</td>\n",
              "      <td>1.0</td>\n",
              "      <td>0.1</td>\n",
              "      <td>0.250000</td>\n",
              "      <td>0.200000</td>\n",
              "      <td>0.050000</td>\n",
              "    </tr>\n",
              "    <tr>\n",
              "      <th>3</th>\n",
              "      <td>[cookies, milk]</td>\n",
              "      <td>2.0</td>\n",
              "      <td>1.0</td>\n",
              "      <td>0.1</td>\n",
              "      <td>0.250000</td>\n",
              "      <td>0.200000</td>\n",
              "      <td>0.050000</td>\n",
              "    </tr>\n",
              "    <tr>\n",
              "      <th>4</th>\n",
              "      <td>[cookies, butter]</td>\n",
              "      <td>2.0</td>\n",
              "      <td>1.0</td>\n",
              "      <td>0.1</td>\n",
              "      <td>0.250000</td>\n",
              "      <td>0.200000</td>\n",
              "      <td>0.050000</td>\n",
              "    </tr>\n",
              "    <tr>\n",
              "      <th>5</th>\n",
              "      <td>[diapers, beer]</td>\n",
              "      <td>2.0</td>\n",
              "      <td>2.0</td>\n",
              "      <td>0.2</td>\n",
              "      <td>0.285714</td>\n",
              "      <td>0.500000</td>\n",
              "      <td>0.071429</td>\n",
              "    </tr>\n",
              "    <tr>\n",
              "      <th>6</th>\n",
              "      <td>[diapers, bread]</td>\n",
              "      <td>2.0</td>\n",
              "      <td>3.0</td>\n",
              "      <td>0.3</td>\n",
              "      <td>0.428571</td>\n",
              "      <td>0.600000</td>\n",
              "      <td>0.085714</td>\n",
              "    </tr>\n",
              "    <tr>\n",
              "      <th>7</th>\n",
              "      <td>[diapers, milk]</td>\n",
              "      <td>2.0</td>\n",
              "      <td>4.0</td>\n",
              "      <td>0.4</td>\n",
              "      <td>0.571429</td>\n",
              "      <td>0.800000</td>\n",
              "      <td>0.114286</td>\n",
              "    </tr>\n",
              "    <tr>\n",
              "      <th>8</th>\n",
              "      <td>[diapers, butter]</td>\n",
              "      <td>2.0</td>\n",
              "      <td>3.0</td>\n",
              "      <td>0.3</td>\n",
              "      <td>0.428571</td>\n",
              "      <td>0.600000</td>\n",
              "      <td>0.085714</td>\n",
              "    </tr>\n",
              "    <tr>\n",
              "      <th>10</th>\n",
              "      <td>[beer, milk]</td>\n",
              "      <td>2.0</td>\n",
              "      <td>1.0</td>\n",
              "      <td>0.1</td>\n",
              "      <td>0.250000</td>\n",
              "      <td>0.200000</td>\n",
              "      <td>0.050000</td>\n",
              "    </tr>\n",
              "    <tr>\n",
              "      <th>12</th>\n",
              "      <td>[bread, milk]</td>\n",
              "      <td>2.0</td>\n",
              "      <td>3.0</td>\n",
              "      <td>0.3</td>\n",
              "      <td>0.600000</td>\n",
              "      <td>0.600000</td>\n",
              "      <td>0.120000</td>\n",
              "    </tr>\n",
              "    <tr>\n",
              "      <th>13</th>\n",
              "      <td>[bread, butter]</td>\n",
              "      <td>2.0</td>\n",
              "      <td>5.0</td>\n",
              "      <td>0.5</td>\n",
              "      <td>1.000000</td>\n",
              "      <td>1.000000</td>\n",
              "      <td>0.200000</td>\n",
              "    </tr>\n",
              "    <tr>\n",
              "      <th>14</th>\n",
              "      <td>[milk, butter]</td>\n",
              "      <td>2.0</td>\n",
              "      <td>3.0</td>\n",
              "      <td>0.3</td>\n",
              "      <td>0.600000</td>\n",
              "      <td>0.600000</td>\n",
              "      <td>0.120000</td>\n",
              "    </tr>\n",
              "  </tbody>\n",
              "</table>\n",
              "</div>"
            ],
            "text/plain": [
              "            k_itemsets    k  support_count  ...   c(a->b)   c(b->a)    I(a,b)\n",
              "0   [cookies, diapers]  2.0            2.0  ...  0.500000  0.285714  0.071429\n",
              "1      [cookies, beer]  2.0            1.0  ...  0.250000  0.250000  0.062500\n",
              "2     [cookies, bread]  2.0            1.0  ...  0.250000  0.200000  0.050000\n",
              "3      [cookies, milk]  2.0            1.0  ...  0.250000  0.200000  0.050000\n",
              "4    [cookies, butter]  2.0            1.0  ...  0.250000  0.200000  0.050000\n",
              "5      [diapers, beer]  2.0            2.0  ...  0.285714  0.500000  0.071429\n",
              "6     [diapers, bread]  2.0            3.0  ...  0.428571  0.600000  0.085714\n",
              "7      [diapers, milk]  2.0            4.0  ...  0.571429  0.800000  0.114286\n",
              "8    [diapers, butter]  2.0            3.0  ...  0.428571  0.600000  0.085714\n",
              "10        [beer, milk]  2.0            1.0  ...  0.250000  0.200000  0.050000\n",
              "12       [bread, milk]  2.0            3.0  ...  0.600000  0.600000  0.120000\n",
              "13     [bread, butter]  2.0            5.0  ...  1.000000  1.000000  0.200000\n",
              "14      [milk, butter]  2.0            3.0  ...  0.600000  0.600000  0.120000\n",
              "\n",
              "[13 rows x 7 columns]"
            ]
          },
          "metadata": {
            "tags": []
          },
          "execution_count": 65
        }
      ]
    },
    {
      "cell_type": "code",
      "metadata": {
        "colab": {
          "base_uri": "https://localhost:8080/",
          "height": 167
        },
        "id": "5bh5WLLKHQ49",
        "outputId": "d636b158-5c40-4070-e339-2adf7edfe978"
      },
      "source": [
        "df_support_2_metrics[ df_support_2_metrics['c(a->b)'] == df_support_2_metrics['c(b->a)']]"
      ],
      "execution_count": 66,
      "outputs": [
        {
          "output_type": "execute_result",
          "data": {
            "text/html": [
              "<div>\n",
              "<style scoped>\n",
              "    .dataframe tbody tr th:only-of-type {\n",
              "        vertical-align: middle;\n",
              "    }\n",
              "\n",
              "    .dataframe tbody tr th {\n",
              "        vertical-align: top;\n",
              "    }\n",
              "\n",
              "    .dataframe thead th {\n",
              "        text-align: right;\n",
              "    }\n",
              "</style>\n",
              "<table border=\"1\" class=\"dataframe\">\n",
              "  <thead>\n",
              "    <tr style=\"text-align: right;\">\n",
              "      <th></th>\n",
              "      <th>k_itemsets</th>\n",
              "      <th>k</th>\n",
              "      <th>support_count</th>\n",
              "      <th>support</th>\n",
              "      <th>c(a-&gt;b)</th>\n",
              "      <th>c(b-&gt;a)</th>\n",
              "      <th>I(a,b)</th>\n",
              "    </tr>\n",
              "  </thead>\n",
              "  <tbody>\n",
              "    <tr>\n",
              "      <th>1</th>\n",
              "      <td>[cookies, beer]</td>\n",
              "      <td>2.0</td>\n",
              "      <td>1.0</td>\n",
              "      <td>0.1</td>\n",
              "      <td>0.25</td>\n",
              "      <td>0.25</td>\n",
              "      <td>0.0625</td>\n",
              "    </tr>\n",
              "    <tr>\n",
              "      <th>12</th>\n",
              "      <td>[bread, milk]</td>\n",
              "      <td>2.0</td>\n",
              "      <td>3.0</td>\n",
              "      <td>0.3</td>\n",
              "      <td>0.60</td>\n",
              "      <td>0.60</td>\n",
              "      <td>0.1200</td>\n",
              "    </tr>\n",
              "    <tr>\n",
              "      <th>13</th>\n",
              "      <td>[bread, butter]</td>\n",
              "      <td>2.0</td>\n",
              "      <td>5.0</td>\n",
              "      <td>0.5</td>\n",
              "      <td>1.00</td>\n",
              "      <td>1.00</td>\n",
              "      <td>0.2000</td>\n",
              "    </tr>\n",
              "    <tr>\n",
              "      <th>14</th>\n",
              "      <td>[milk, butter]</td>\n",
              "      <td>2.0</td>\n",
              "      <td>3.0</td>\n",
              "      <td>0.3</td>\n",
              "      <td>0.60</td>\n",
              "      <td>0.60</td>\n",
              "      <td>0.1200</td>\n",
              "    </tr>\n",
              "  </tbody>\n",
              "</table>\n",
              "</div>"
            ],
            "text/plain": [
              "         k_itemsets    k  support_count  support  c(a->b)  c(b->a)  I(a,b)\n",
              "1   [cookies, beer]  2.0            1.0      0.1     0.25     0.25  0.0625\n",
              "12    [bread, milk]  2.0            3.0      0.3     0.60     0.60  0.1200\n",
              "13  [bread, butter]  2.0            5.0      0.5     1.00     1.00  0.2000\n",
              "14   [milk, butter]  2.0            3.0      0.3     0.60     0.60  0.1200"
            ]
          },
          "metadata": {
            "tags": []
          },
          "execution_count": 66
        }
      ]
    },
    {
      "cell_type": "markdown",
      "metadata": {
        "id": "2o19TxV7mIUI"
      },
      "source": [
        "## 4. \n",
        "\n",
        "Dado la siguiente base de datos X:\n"
      ]
    },
    {
      "cell_type": "code",
      "metadata": {
        "colab": {
          "base_uri": "https://localhost:8080/",
          "height": 317
        },
        "id": "Vrv7jIAvvQWl",
        "outputId": "e6328e84-d219-4b4a-c93c-1a400f817aaa"
      },
      "source": [
        "dic_4 = { \n",
        "        'TID': ['T01', 'T02', 'T03', 'T04', 'T05', 'T06', 'T07', 'T08'],\n",
        "        'Items': ['A, B, C, D',\n",
        "                  'A, C, D, F',\n",
        "                  'C, D, E, G, A',\n",
        "                  'A, D, F, B',\n",
        "                  'B, C, G',\n",
        "                  'D, F, G',\n",
        "                  'A, B, G',\n",
        "                  'C, D, F, G']\n",
        "       }\n",
        "df_items_4 = pd.DataFrame(dic_4)\n",
        "df_items_4.set_index('TID', inplace=True)\n",
        "df_items_4"
      ],
      "execution_count": 67,
      "outputs": [
        {
          "output_type": "execute_result",
          "data": {
            "text/html": [
              "<div>\n",
              "<style scoped>\n",
              "    .dataframe tbody tr th:only-of-type {\n",
              "        vertical-align: middle;\n",
              "    }\n",
              "\n",
              "    .dataframe tbody tr th {\n",
              "        vertical-align: top;\n",
              "    }\n",
              "\n",
              "    .dataframe thead th {\n",
              "        text-align: right;\n",
              "    }\n",
              "</style>\n",
              "<table border=\"1\" class=\"dataframe\">\n",
              "  <thead>\n",
              "    <tr style=\"text-align: right;\">\n",
              "      <th></th>\n",
              "      <th>Items</th>\n",
              "    </tr>\n",
              "    <tr>\n",
              "      <th>TID</th>\n",
              "      <th></th>\n",
              "    </tr>\n",
              "  </thead>\n",
              "  <tbody>\n",
              "    <tr>\n",
              "      <th>T01</th>\n",
              "      <td>A, B, C, D</td>\n",
              "    </tr>\n",
              "    <tr>\n",
              "      <th>T02</th>\n",
              "      <td>A, C, D, F</td>\n",
              "    </tr>\n",
              "    <tr>\n",
              "      <th>T03</th>\n",
              "      <td>C, D, E, G, A</td>\n",
              "    </tr>\n",
              "    <tr>\n",
              "      <th>T04</th>\n",
              "      <td>A, D, F, B</td>\n",
              "    </tr>\n",
              "    <tr>\n",
              "      <th>T05</th>\n",
              "      <td>B, C, G</td>\n",
              "    </tr>\n",
              "    <tr>\n",
              "      <th>T06</th>\n",
              "      <td>D, F, G</td>\n",
              "    </tr>\n",
              "    <tr>\n",
              "      <th>T07</th>\n",
              "      <td>A, B, G</td>\n",
              "    </tr>\n",
              "    <tr>\n",
              "      <th>T08</th>\n",
              "      <td>C, D, F, G</td>\n",
              "    </tr>\n",
              "  </tbody>\n",
              "</table>\n",
              "</div>"
            ],
            "text/plain": [
              "             Items\n",
              "TID               \n",
              "T01     A, B, C, D\n",
              "T02     A, C, D, F\n",
              "T03  C, D, E, G, A\n",
              "T04     A, D, F, B\n",
              "T05        B, C, G\n",
              "T06        D, F, G\n",
              "T07        A, B, G\n",
              "T08     C, D, F, G"
            ]
          },
          "metadata": {
            "tags": []
          },
          "execution_count": 67
        }
      ]
    },
    {
      "cell_type": "markdown",
      "metadata": {
        "id": "NkyaEGtdNDUC"
      },
      "source": [
        "Usando valores de umbral de soporte = 25 % y confianza = 60 %, encuentre:\n",
        "- Todos los conjuntos de ítems en la base de datos X\n"
      ]
    },
    {
      "cell_type": "code",
      "metadata": {
        "id": "iDEZg389KbQ_"
      },
      "source": [
        "list_transactions_4, items_4 = get_list_transactions(df_items_4['Items'])"
      ],
      "execution_count": 68,
      "outputs": []
    },
    {
      "cell_type": "code",
      "metadata": {
        "colab": {
          "base_uri": "https://localhost:8080/"
        },
        "id": "9Uuq0BtfKjUM",
        "outputId": "9d5dd094-2e79-40c2-e79b-4ff6544831ba"
      },
      "source": [
        "list_transactions_4"
      ],
      "execution_count": 69,
      "outputs": [
        {
          "output_type": "execute_result",
          "data": {
            "text/plain": [
              "[['A', 'B', 'C', 'D'],\n",
              " ['A', 'C', 'D', 'F'],\n",
              " ['C', 'D', 'E', 'G', 'A'],\n",
              " ['A', 'D', 'F', 'B'],\n",
              " ['B', 'C', 'G'],\n",
              " ['D', 'F', 'G'],\n",
              " ['A', 'B', 'G'],\n",
              " ['C', 'D', 'F', 'G']]"
            ]
          },
          "metadata": {
            "tags": []
          },
          "execution_count": 69
        }
      ]
    },
    {
      "cell_type": "code",
      "metadata": {
        "colab": {
          "base_uri": "https://localhost:8080/",
          "height": 257
        },
        "id": "pWbWPq8LJUuh",
        "outputId": "a08b1abd-764c-4a6b-f136-642e332af128"
      },
      "source": [
        "df_p4_support_2 = get_support_df(items_4, list_transactions_4, get_all_2_itemsets)\n",
        "df_p4_support_3 = get_support_df(items_4, list_transactions_4, get_all_3_itemsets)\n",
        "\n",
        "df_p4_support = pd.concat([df_p4_support_3, df_p4_support_2])\n",
        "\n",
        "#filtramos los que tienen support_count > 0\n",
        "df_p4_support = df_p4_support[ (df_p4_support['support'] > 0.25) & (df_p4_support['k'] == 2)]\n",
        "df_p4_support"
      ],
      "execution_count": 70,
      "outputs": [
        {
          "output_type": "execute_result",
          "data": {
            "text/html": [
              "<div>\n",
              "<style scoped>\n",
              "    .dataframe tbody tr th:only-of-type {\n",
              "        vertical-align: middle;\n",
              "    }\n",
              "\n",
              "    .dataframe tbody tr th {\n",
              "        vertical-align: top;\n",
              "    }\n",
              "\n",
              "    .dataframe thead th {\n",
              "        text-align: right;\n",
              "    }\n",
              "</style>\n",
              "<table border=\"1\" class=\"dataframe\">\n",
              "  <thead>\n",
              "    <tr style=\"text-align: right;\">\n",
              "      <th></th>\n",
              "      <th>k_itemsets</th>\n",
              "      <th>k</th>\n",
              "      <th>support_count</th>\n",
              "      <th>support</th>\n",
              "    </tr>\n",
              "  </thead>\n",
              "  <tbody>\n",
              "    <tr>\n",
              "      <th>7</th>\n",
              "      <td>[B, A]</td>\n",
              "      <td>2.0</td>\n",
              "      <td>3.0</td>\n",
              "      <td>0.375</td>\n",
              "    </tr>\n",
              "    <tr>\n",
              "      <th>11</th>\n",
              "      <td>[D, A]</td>\n",
              "      <td>2.0</td>\n",
              "      <td>4.0</td>\n",
              "      <td>0.500</td>\n",
              "    </tr>\n",
              "    <tr>\n",
              "      <th>12</th>\n",
              "      <td>[D, G]</td>\n",
              "      <td>2.0</td>\n",
              "      <td>3.0</td>\n",
              "      <td>0.375</td>\n",
              "    </tr>\n",
              "    <tr>\n",
              "      <th>13</th>\n",
              "      <td>[D, F]</td>\n",
              "      <td>2.0</td>\n",
              "      <td>4.0</td>\n",
              "      <td>0.500</td>\n",
              "    </tr>\n",
              "    <tr>\n",
              "      <th>14</th>\n",
              "      <td>[D, C]</td>\n",
              "      <td>2.0</td>\n",
              "      <td>4.0</td>\n",
              "      <td>0.500</td>\n",
              "    </tr>\n",
              "    <tr>\n",
              "      <th>17</th>\n",
              "      <td>[A, C]</td>\n",
              "      <td>2.0</td>\n",
              "      <td>3.0</td>\n",
              "      <td>0.375</td>\n",
              "    </tr>\n",
              "    <tr>\n",
              "      <th>19</th>\n",
              "      <td>[G, C]</td>\n",
              "      <td>2.0</td>\n",
              "      <td>3.0</td>\n",
              "      <td>0.375</td>\n",
              "    </tr>\n",
              "  </tbody>\n",
              "</table>\n",
              "</div>"
            ],
            "text/plain": [
              "   k_itemsets    k  support_count  support\n",
              "7      [B, A]  2.0            3.0    0.375\n",
              "11     [D, A]  2.0            4.0    0.500\n",
              "12     [D, G]  2.0            3.0    0.375\n",
              "13     [D, F]  2.0            4.0    0.500\n",
              "14     [D, C]  2.0            4.0    0.500\n",
              "17     [A, C]  2.0            3.0    0.375\n",
              "19     [G, C]  2.0            3.0    0.375"
            ]
          },
          "metadata": {
            "tags": []
          },
          "execution_count": 70
        }
      ]
    },
    {
      "cell_type": "code",
      "metadata": {
        "colab": {
          "base_uri": "https://localhost:8080/",
          "height": 257
        },
        "id": "x4tXPMBYNuJW",
        "outputId": "18efd949-44f0-4e6f-bd2b-d221ecf7e452"
      },
      "source": [
        "df_p4_support_1 = get_support_df(items_4, list_transactions_4, get_all_1_itemsets)\n",
        "\n",
        "#desempaquetamos del array ['item'] -> 'item'\n",
        "df_p4_support_1['k_itemsets'] = df_p4_support_1['k_itemsets'].map(lambda s: s[0])\n",
        "\n",
        "df_p4_support_1"
      ],
      "execution_count": 71,
      "outputs": [
        {
          "output_type": "execute_result",
          "data": {
            "text/html": [
              "<div>\n",
              "<style scoped>\n",
              "    .dataframe tbody tr th:only-of-type {\n",
              "        vertical-align: middle;\n",
              "    }\n",
              "\n",
              "    .dataframe tbody tr th {\n",
              "        vertical-align: top;\n",
              "    }\n",
              "\n",
              "    .dataframe thead th {\n",
              "        text-align: right;\n",
              "    }\n",
              "</style>\n",
              "<table border=\"1\" class=\"dataframe\">\n",
              "  <thead>\n",
              "    <tr style=\"text-align: right;\">\n",
              "      <th></th>\n",
              "      <th>k_itemsets</th>\n",
              "      <th>k</th>\n",
              "      <th>support_count</th>\n",
              "      <th>support</th>\n",
              "    </tr>\n",
              "  </thead>\n",
              "  <tbody>\n",
              "    <tr>\n",
              "      <th>0</th>\n",
              "      <td>E</td>\n",
              "      <td>1.0</td>\n",
              "      <td>1.0</td>\n",
              "      <td>0.125</td>\n",
              "    </tr>\n",
              "    <tr>\n",
              "      <th>1</th>\n",
              "      <td>B</td>\n",
              "      <td>1.0</td>\n",
              "      <td>4.0</td>\n",
              "      <td>0.500</td>\n",
              "    </tr>\n",
              "    <tr>\n",
              "      <th>2</th>\n",
              "      <td>D</td>\n",
              "      <td>1.0</td>\n",
              "      <td>6.0</td>\n",
              "      <td>0.750</td>\n",
              "    </tr>\n",
              "    <tr>\n",
              "      <th>3</th>\n",
              "      <td>A</td>\n",
              "      <td>1.0</td>\n",
              "      <td>5.0</td>\n",
              "      <td>0.625</td>\n",
              "    </tr>\n",
              "    <tr>\n",
              "      <th>4</th>\n",
              "      <td>G</td>\n",
              "      <td>1.0</td>\n",
              "      <td>5.0</td>\n",
              "      <td>0.625</td>\n",
              "    </tr>\n",
              "    <tr>\n",
              "      <th>5</th>\n",
              "      <td>F</td>\n",
              "      <td>1.0</td>\n",
              "      <td>4.0</td>\n",
              "      <td>0.500</td>\n",
              "    </tr>\n",
              "    <tr>\n",
              "      <th>6</th>\n",
              "      <td>C</td>\n",
              "      <td>1.0</td>\n",
              "      <td>5.0</td>\n",
              "      <td>0.625</td>\n",
              "    </tr>\n",
              "  </tbody>\n",
              "</table>\n",
              "</div>"
            ],
            "text/plain": [
              "  k_itemsets    k  support_count  support\n",
              "0          E  1.0            1.0    0.125\n",
              "1          B  1.0            4.0    0.500\n",
              "2          D  1.0            6.0    0.750\n",
              "3          A  1.0            5.0    0.625\n",
              "4          G  1.0            5.0    0.625\n",
              "5          F  1.0            4.0    0.500\n",
              "6          C  1.0            5.0    0.625"
            ]
          },
          "metadata": {
            "tags": []
          },
          "execution_count": 71
        }
      ]
    },
    {
      "cell_type": "markdown",
      "metadata": {
        "id": "lORAFVQaVJhF"
      },
      "source": [
        "- Reglas de asociación fuertes para la base de datos X\n"
      ]
    },
    {
      "cell_type": "code",
      "metadata": {
        "colab": {
          "base_uri": "https://localhost:8080/",
          "height": 275
        },
        "id": "Ov4N-K5oOeAc",
        "outputId": "19a81ebd-19be-4828-87c3-0bdfe82f1872"
      },
      "source": [
        "df_p4_support_metrics = df_p4_support.apply(add_a_b_metrics(df_p4_support_1), axis=1)\n",
        "df_p4_support_metrics"
      ],
      "execution_count": 72,
      "outputs": [
        {
          "output_type": "stream",
          "text": [
            "{'E': 1.0, 'B': 4.0, 'D': 6.0, 'A': 5.0, 'G': 5.0, 'F': 4.0, 'C': 5.0}\n"
          ],
          "name": "stdout"
        },
        {
          "output_type": "execute_result",
          "data": {
            "text/html": [
              "<div>\n",
              "<style scoped>\n",
              "    .dataframe tbody tr th:only-of-type {\n",
              "        vertical-align: middle;\n",
              "    }\n",
              "\n",
              "    .dataframe tbody tr th {\n",
              "        vertical-align: top;\n",
              "    }\n",
              "\n",
              "    .dataframe thead th {\n",
              "        text-align: right;\n",
              "    }\n",
              "</style>\n",
              "<table border=\"1\" class=\"dataframe\">\n",
              "  <thead>\n",
              "    <tr style=\"text-align: right;\">\n",
              "      <th></th>\n",
              "      <th>k_itemsets</th>\n",
              "      <th>k</th>\n",
              "      <th>support_count</th>\n",
              "      <th>support</th>\n",
              "      <th>c(a-&gt;b)</th>\n",
              "      <th>c(b-&gt;a)</th>\n",
              "      <th>I(a,b)</th>\n",
              "    </tr>\n",
              "  </thead>\n",
              "  <tbody>\n",
              "    <tr>\n",
              "      <th>7</th>\n",
              "      <td>[B, A]</td>\n",
              "      <td>2.0</td>\n",
              "      <td>3.0</td>\n",
              "      <td>0.375</td>\n",
              "      <td>0.750000</td>\n",
              "      <td>0.6</td>\n",
              "      <td>0.150000</td>\n",
              "    </tr>\n",
              "    <tr>\n",
              "      <th>11</th>\n",
              "      <td>[D, A]</td>\n",
              "      <td>2.0</td>\n",
              "      <td>4.0</td>\n",
              "      <td>0.500</td>\n",
              "      <td>0.666667</td>\n",
              "      <td>0.8</td>\n",
              "      <td>0.133333</td>\n",
              "    </tr>\n",
              "    <tr>\n",
              "      <th>12</th>\n",
              "      <td>[D, G]</td>\n",
              "      <td>2.0</td>\n",
              "      <td>3.0</td>\n",
              "      <td>0.375</td>\n",
              "      <td>0.500000</td>\n",
              "      <td>0.6</td>\n",
              "      <td>0.100000</td>\n",
              "    </tr>\n",
              "    <tr>\n",
              "      <th>13</th>\n",
              "      <td>[D, F]</td>\n",
              "      <td>2.0</td>\n",
              "      <td>4.0</td>\n",
              "      <td>0.500</td>\n",
              "      <td>0.666667</td>\n",
              "      <td>1.0</td>\n",
              "      <td>0.166667</td>\n",
              "    </tr>\n",
              "    <tr>\n",
              "      <th>14</th>\n",
              "      <td>[D, C]</td>\n",
              "      <td>2.0</td>\n",
              "      <td>4.0</td>\n",
              "      <td>0.500</td>\n",
              "      <td>0.666667</td>\n",
              "      <td>0.8</td>\n",
              "      <td>0.133333</td>\n",
              "    </tr>\n",
              "    <tr>\n",
              "      <th>17</th>\n",
              "      <td>[A, C]</td>\n",
              "      <td>2.0</td>\n",
              "      <td>3.0</td>\n",
              "      <td>0.375</td>\n",
              "      <td>0.600000</td>\n",
              "      <td>0.6</td>\n",
              "      <td>0.120000</td>\n",
              "    </tr>\n",
              "    <tr>\n",
              "      <th>19</th>\n",
              "      <td>[G, C]</td>\n",
              "      <td>2.0</td>\n",
              "      <td>3.0</td>\n",
              "      <td>0.375</td>\n",
              "      <td>0.600000</td>\n",
              "      <td>0.6</td>\n",
              "      <td>0.120000</td>\n",
              "    </tr>\n",
              "  </tbody>\n",
              "</table>\n",
              "</div>"
            ],
            "text/plain": [
              "   k_itemsets    k  support_count  support   c(a->b)  c(b->a)    I(a,b)\n",
              "7      [B, A]  2.0            3.0    0.375  0.750000      0.6  0.150000\n",
              "11     [D, A]  2.0            4.0    0.500  0.666667      0.8  0.133333\n",
              "12     [D, G]  2.0            3.0    0.375  0.500000      0.6  0.100000\n",
              "13     [D, F]  2.0            4.0    0.500  0.666667      1.0  0.166667\n",
              "14     [D, C]  2.0            4.0    0.500  0.666667      0.8  0.133333\n",
              "17     [A, C]  2.0            3.0    0.375  0.600000      0.6  0.120000\n",
              "19     [G, C]  2.0            3.0    0.375  0.600000      0.6  0.120000"
            ]
          },
          "metadata": {
            "tags": []
          },
          "execution_count": 72
        }
      ]
    },
    {
      "cell_type": "code",
      "metadata": {
        "colab": {
          "base_uri": "https://localhost:8080/",
          "height": 167
        },
        "id": "teYkfVFHOvP7",
        "outputId": "c77fe1f9-79f3-4316-9b9a-60243aabfe15"
      },
      "source": [
        "df_p4_support_metrics[(df_p4_support_metrics['c(a->b)'] > 0.6) | (df_p4_support_metrics['c(b->a)'] > 0.6)]"
      ],
      "execution_count": 73,
      "outputs": [
        {
          "output_type": "execute_result",
          "data": {
            "text/html": [
              "<div>\n",
              "<style scoped>\n",
              "    .dataframe tbody tr th:only-of-type {\n",
              "        vertical-align: middle;\n",
              "    }\n",
              "\n",
              "    .dataframe tbody tr th {\n",
              "        vertical-align: top;\n",
              "    }\n",
              "\n",
              "    .dataframe thead th {\n",
              "        text-align: right;\n",
              "    }\n",
              "</style>\n",
              "<table border=\"1\" class=\"dataframe\">\n",
              "  <thead>\n",
              "    <tr style=\"text-align: right;\">\n",
              "      <th></th>\n",
              "      <th>k_itemsets</th>\n",
              "      <th>k</th>\n",
              "      <th>support_count</th>\n",
              "      <th>support</th>\n",
              "      <th>c(a-&gt;b)</th>\n",
              "      <th>c(b-&gt;a)</th>\n",
              "      <th>I(a,b)</th>\n",
              "    </tr>\n",
              "  </thead>\n",
              "  <tbody>\n",
              "    <tr>\n",
              "      <th>7</th>\n",
              "      <td>[B, A]</td>\n",
              "      <td>2.0</td>\n",
              "      <td>3.0</td>\n",
              "      <td>0.375</td>\n",
              "      <td>0.750000</td>\n",
              "      <td>0.6</td>\n",
              "      <td>0.150000</td>\n",
              "    </tr>\n",
              "    <tr>\n",
              "      <th>11</th>\n",
              "      <td>[D, A]</td>\n",
              "      <td>2.0</td>\n",
              "      <td>4.0</td>\n",
              "      <td>0.500</td>\n",
              "      <td>0.666667</td>\n",
              "      <td>0.8</td>\n",
              "      <td>0.133333</td>\n",
              "    </tr>\n",
              "    <tr>\n",
              "      <th>13</th>\n",
              "      <td>[D, F]</td>\n",
              "      <td>2.0</td>\n",
              "      <td>4.0</td>\n",
              "      <td>0.500</td>\n",
              "      <td>0.666667</td>\n",
              "      <td>1.0</td>\n",
              "      <td>0.166667</td>\n",
              "    </tr>\n",
              "    <tr>\n",
              "      <th>14</th>\n",
              "      <td>[D, C]</td>\n",
              "      <td>2.0</td>\n",
              "      <td>4.0</td>\n",
              "      <td>0.500</td>\n",
              "      <td>0.666667</td>\n",
              "      <td>0.8</td>\n",
              "      <td>0.133333</td>\n",
              "    </tr>\n",
              "  </tbody>\n",
              "</table>\n",
              "</div>"
            ],
            "text/plain": [
              "   k_itemsets    k  support_count  support   c(a->b)  c(b->a)    I(a,b)\n",
              "7      [B, A]  2.0            3.0    0.375  0.750000      0.6  0.150000\n",
              "11     [D, A]  2.0            4.0    0.500  0.666667      0.8  0.133333\n",
              "13     [D, F]  2.0            4.0    0.500  0.666667      1.0  0.166667\n",
              "14     [D, C]  2.0            4.0    0.500  0.666667      0.8  0.133333"
            ]
          },
          "metadata": {
            "tags": []
          },
          "execution_count": 73
        }
      ]
    },
    {
      "cell_type": "markdown",
      "metadata": {
        "id": "bgznuwIuVMac"
      },
      "source": [
        "- Analice las asociaciones engañosas para el conjunto de reglas obtenido en el numeral anterior."
      ]
    },
    {
      "cell_type": "markdown",
      "metadata": {
        "id": "jO2Z7cgZS0rV"
      },
      "source": [
        "**Notas**: Engañosas son las reglas que tienen un valor interesante de 'confianza' sin embargo pueden ser resultado del azar mas que de un comportamiento real reflejado por los datos. \n",
        "\n",
        "\n",
        "Al revisar el lift(I) vemos que las reglas las engañosas son las que estan bajo del umbral 1, por lo que se puede concluir que la relación es debil, aunque aparecen juntos C->D y D->F aparecen aún con menos frecuencia de lo que se esperaría por azar."
      ]
    },
    {
      "cell_type": "markdown",
      "metadata": {
        "id": "G5fn2MQyKT6U"
      },
      "source": [
        "## 5. \n",
        "\n",
        "El algoritmo Apriori usa estrategías de generación y conteo para derivar conjuntos de items frecuentes. \n",
        "\n",
        "| id | items   |\n",
        "| -- | ------- |\n",
        "| 1  | a,b,d,e |\n",
        "| 2  | b,c,d   |\n",
        "| 3  | a,b,d,e |\n",
        "| 4  | a,c,d,e |\n",
        "| 5  | b,c,d,e |\n",
        "| 6  | b,d,e   |\n",
        "| 7  | c,d     |\n",
        "| 8  | a,b,c   |\n",
        "| 9  | a,d,e   |\n",
        "| 10 | b,d     |\n",
        "\n",
        "Conjuntos de item de tamaño k + 1 son creados de conjuntos de items de tamaño k. Un conjunto candidato es eliminado si uno de sus subconjuntos no es frecuente en la fase de poda. Supongamos que el algoritmo Apriori es aplicado a los datos de la siguiente tabla con un soporte mínimo de 30% (ejercicio realizado en clase)."
      ]
    },
    {
      "cell_type": "markdown",
      "metadata": {
        "id": "jXVOvNOZNT9Z"
      },
      "source": [
        "- Dibujar el lattice de los conjuntos de items y etiquetar cada nodo con las siguientes letras:\n",
        "  - i. N: si el conjunto no es considerado candidato\n",
        "  - ii. F: si el conjunto candidato es frecuente\n",
        "  - iii. I: si el conjunto candidato no es frecuente\n",
        "\n",
        "  ![lattice_anotado](https://github.com/alejandro56664-adl/unal-data-mining/blob/main/assets/Tarea3_lattice/Diapositiva1.png?raw=true)\n",
        "\n",
        "| Itemset | Conteo | Estado |\n",
        "| ------- | ------ | ------ |\n",
        "| ab      | 3      | F      |\n",
        "| ac      | 2      | I      |\n",
        "| ad      | 1      | I      |\n",
        "| ae      | 4      | F      |\n",
        "| bc      | 3      | F      |\n",
        "| bd      | 5      | F      |\n",
        "| be      | 4      | F      |\n",
        "| cd      | 4      | F      |\n",
        "| ce      | 2      | I      |\n",
        "| de      | 6      | F      |\n",
        "\n",
        "\n",
        "| Itemset | Conteo | Estado |\n",
        "| ------- | ------ | ------ |\n",
        "| abe     | 2      | I      |\n",
        "| bcd     | 2      | I      |\n",
        "| bde     | 3      | F      |\n",
        "\n",
        "- ¿Cuál es el porcentaje de conjuntos de items frecuente?\n",
        "\n",
        "R/: \n",
        "\n",
        "![\\Large F_c=\\frac{13}{31}\\approx0.42](https://latex.codecogs.com/svg.latex?\\Large&space;F_c=\\frac{13}{31}\\approx42%) \n",
        "\n",
        "\n",
        "- ¿Cuál es el radio de poda en este conjunto de datos? (El radio de poda es definido como el porcentaje de conjuntos de items no considerados a ser candidatos, ya sea por que no son generados durante la etapa de generación de candidatos, o por que son podados en la etapa de poda).\n",
        "\n",
        "R/:\n",
        "\n",
        "![\\Large N_c=\\frac{12}{31}\\approx0.39](https://latex.codecogs.com/svg.latex?\\Large&space;N_c=\\frac{12}{31}\\approx39%) \n",
        "\n",
        "- ¿Cuál es la rata de falsa alarma? (porcentaje de los conjuntos de items candidatos que son encontrados NO frecuentes después de calcular el soporte).\n",
        "\n",
        "R/: \n",
        "\n",
        "![\\Large I_c=\\frac{5}{13}\\approx0.38](https://latex.codecogs.com/svg.latex?\\Large&space;I_c=\\frac{5}{13}\\approx38%) "
      ]
    },
    {
      "cell_type": "markdown",
      "metadata": {
        "id": "EmyK0kNpNasp"
      },
      "source": [
        "**Notas**: frecuentes se queda, identificar los no frecuentes,\n",
        "los q se podan son los de N\n",
        "F, I, candidatos pero no son frecuentes, al no ser frecuentes se eliminan, en adelante es poda\n",
        "Frecuentes: pasan el umbral del soporte\n",
        "al no pasar el umbral no es frecuente. N es el q se poda"
      ]
    },
    {
      "cell_type": "code",
      "metadata": {
        "colab": {
          "base_uri": "https://localhost:8080/",
          "height": 377
        },
        "id": "r6E37Y4uLcim",
        "outputId": "616815ff-d1a5-47a0-8439-78e939b4dc2b"
      },
      "source": [
        "dic_5 = { \n",
        "        'TID': [i for i in range(10)],\n",
        "        'Items': ['a, b, d, e',\n",
        "                  'b, c, d',\n",
        "                  'a, b, d, e',\n",
        "                  'a, c, d, e',\n",
        "                  'b, c, d, e',\n",
        "                  'b, d, e',\n",
        "                  'c, d',\n",
        "                  'a, b, c',\n",
        "                  'a, d, e',\n",
        "                  'b, d']\n",
        "       }\n",
        "df_items_5 = pd.DataFrame(dic_5)\n",
        "df_items_5.set_index('TID', inplace=True)\n",
        "df_items_5"
      ],
      "execution_count": 74,
      "outputs": [
        {
          "output_type": "execute_result",
          "data": {
            "text/html": [
              "<div>\n",
              "<style scoped>\n",
              "    .dataframe tbody tr th:only-of-type {\n",
              "        vertical-align: middle;\n",
              "    }\n",
              "\n",
              "    .dataframe tbody tr th {\n",
              "        vertical-align: top;\n",
              "    }\n",
              "\n",
              "    .dataframe thead th {\n",
              "        text-align: right;\n",
              "    }\n",
              "</style>\n",
              "<table border=\"1\" class=\"dataframe\">\n",
              "  <thead>\n",
              "    <tr style=\"text-align: right;\">\n",
              "      <th></th>\n",
              "      <th>Items</th>\n",
              "    </tr>\n",
              "    <tr>\n",
              "      <th>TID</th>\n",
              "      <th></th>\n",
              "    </tr>\n",
              "  </thead>\n",
              "  <tbody>\n",
              "    <tr>\n",
              "      <th>0</th>\n",
              "      <td>a, b, d, e</td>\n",
              "    </tr>\n",
              "    <tr>\n",
              "      <th>1</th>\n",
              "      <td>b, c, d</td>\n",
              "    </tr>\n",
              "    <tr>\n",
              "      <th>2</th>\n",
              "      <td>a, b, d, e</td>\n",
              "    </tr>\n",
              "    <tr>\n",
              "      <th>3</th>\n",
              "      <td>a, c, d, e</td>\n",
              "    </tr>\n",
              "    <tr>\n",
              "      <th>4</th>\n",
              "      <td>b, c, d, e</td>\n",
              "    </tr>\n",
              "    <tr>\n",
              "      <th>5</th>\n",
              "      <td>b, d, e</td>\n",
              "    </tr>\n",
              "    <tr>\n",
              "      <th>6</th>\n",
              "      <td>c, d</td>\n",
              "    </tr>\n",
              "    <tr>\n",
              "      <th>7</th>\n",
              "      <td>a, b, c</td>\n",
              "    </tr>\n",
              "    <tr>\n",
              "      <th>8</th>\n",
              "      <td>a, d, e</td>\n",
              "    </tr>\n",
              "    <tr>\n",
              "      <th>9</th>\n",
              "      <td>b, d</td>\n",
              "    </tr>\n",
              "  </tbody>\n",
              "</table>\n",
              "</div>"
            ],
            "text/plain": [
              "          Items\n",
              "TID            \n",
              "0    a, b, d, e\n",
              "1       b, c, d\n",
              "2    a, b, d, e\n",
              "3    a, c, d, e\n",
              "4    b, c, d, e\n",
              "5       b, d, e\n",
              "6          c, d\n",
              "7       a, b, c\n",
              "8       a, d, e\n",
              "9          b, d"
            ]
          },
          "metadata": {
            "tags": []
          },
          "execution_count": 74
        }
      ]
    },
    {
      "cell_type": "markdown",
      "metadata": {
        "id": "TXlNheLsPTTl"
      },
      "source": [
        "## 6. \n",
        "\n",
        "Dada la siguiente base de datos transaccional Y:\n"
      ]
    },
    {
      "cell_type": "code",
      "metadata": {
        "colab": {
          "base_uri": "https://localhost:8080/",
          "height": 437
        },
        "id": "wP7W_5vLQ9PX",
        "outputId": "acc93356-87fb-49df-dc87-8b73645e7471"
      },
      "source": [
        "dic_6 = { \n",
        "        'TID': ['1', '2', '3', '4', '5', '6', '7', '8', '9', '10', '11', '12'],\n",
        "        'Items': ['A, B, C',\n",
        "                  'A, C, D, E',\n",
        "                  'A, B, D',\n",
        "                  'A, C, F',\n",
        "                  'A, B',\n",
        "                  'A, E, F',\n",
        "                  'A, B, D, E, F',\n",
        "                  'A, F',\n",
        "                  'B, D, E',\n",
        "                  'B, D, E, F',\n",
        "                  'B, C, D, E',\n",
        "                  'C, D, E']\n",
        "       }\n",
        "df_items_6 = pd.DataFrame(dic_6)\n",
        "df_items_6.set_index('TID', inplace=True)\n",
        "df_items_6"
      ],
      "execution_count": 75,
      "outputs": [
        {
          "output_type": "execute_result",
          "data": {
            "text/html": [
              "<div>\n",
              "<style scoped>\n",
              "    .dataframe tbody tr th:only-of-type {\n",
              "        vertical-align: middle;\n",
              "    }\n",
              "\n",
              "    .dataframe tbody tr th {\n",
              "        vertical-align: top;\n",
              "    }\n",
              "\n",
              "    .dataframe thead th {\n",
              "        text-align: right;\n",
              "    }\n",
              "</style>\n",
              "<table border=\"1\" class=\"dataframe\">\n",
              "  <thead>\n",
              "    <tr style=\"text-align: right;\">\n",
              "      <th></th>\n",
              "      <th>Items</th>\n",
              "    </tr>\n",
              "    <tr>\n",
              "      <th>TID</th>\n",
              "      <th></th>\n",
              "    </tr>\n",
              "  </thead>\n",
              "  <tbody>\n",
              "    <tr>\n",
              "      <th>1</th>\n",
              "      <td>A, B, C</td>\n",
              "    </tr>\n",
              "    <tr>\n",
              "      <th>2</th>\n",
              "      <td>A, C, D, E</td>\n",
              "    </tr>\n",
              "    <tr>\n",
              "      <th>3</th>\n",
              "      <td>A, B, D</td>\n",
              "    </tr>\n",
              "    <tr>\n",
              "      <th>4</th>\n",
              "      <td>A, C, F</td>\n",
              "    </tr>\n",
              "    <tr>\n",
              "      <th>5</th>\n",
              "      <td>A, B</td>\n",
              "    </tr>\n",
              "    <tr>\n",
              "      <th>6</th>\n",
              "      <td>A, E, F</td>\n",
              "    </tr>\n",
              "    <tr>\n",
              "      <th>7</th>\n",
              "      <td>A, B, D, E, F</td>\n",
              "    </tr>\n",
              "    <tr>\n",
              "      <th>8</th>\n",
              "      <td>A, F</td>\n",
              "    </tr>\n",
              "    <tr>\n",
              "      <th>9</th>\n",
              "      <td>B, D, E</td>\n",
              "    </tr>\n",
              "    <tr>\n",
              "      <th>10</th>\n",
              "      <td>B, D, E, F</td>\n",
              "    </tr>\n",
              "    <tr>\n",
              "      <th>11</th>\n",
              "      <td>B, C, D, E</td>\n",
              "    </tr>\n",
              "    <tr>\n",
              "      <th>12</th>\n",
              "      <td>C, D, E</td>\n",
              "    </tr>\n",
              "  </tbody>\n",
              "</table>\n",
              "</div>"
            ],
            "text/plain": [
              "             Items\n",
              "TID               \n",
              "1          A, B, C\n",
              "2       A, C, D, E\n",
              "3          A, B, D\n",
              "4          A, C, F\n",
              "5             A, B\n",
              "6          A, E, F\n",
              "7    A, B, D, E, F\n",
              "8             A, F\n",
              "9          B, D, E\n",
              "10      B, D, E, F\n",
              "11      B, C, D, E\n",
              "12         C, D, E"
            ]
          },
          "metadata": {
            "tags": []
          },
          "execution_count": 75
        }
      ]
    },
    {
      "cell_type": "markdown",
      "metadata": {
        "id": "yH-0QWOWQ4Z9"
      },
      "source": [
        "Usar Apriori y FP-Growth para encontrar los conjuntos de ítems frecuentes con mínimo soporte de 2. Tratar con varios valores de confianza. Ordenar los conjuntos resultados y analizar resultados de cada algoritmo. Comparar eficiencia de los dos procesos de mineria. Repetir con soporte de 3 y comparar los resultados."
      ]
    },
    {
      "cell_type": "code",
      "metadata": {
        "colab": {
          "base_uri": "https://localhost:8080/"
        },
        "id": "qUc1wx_gh2Ko",
        "outputId": "437ae4ff-d0cd-4378-84ed-04c6ad403809"
      },
      "source": [
        "list_transactions_6, items_6 = get_list_transactions(df_items_6['Items'])\n",
        "list_transactions_6"
      ],
      "execution_count": 76,
      "outputs": [
        {
          "output_type": "execute_result",
          "data": {
            "text/plain": [
              "[['A', 'B', 'C'],\n",
              " ['A', 'C', 'D', 'E'],\n",
              " ['A', 'B', 'D'],\n",
              " ['A', 'C', 'F'],\n",
              " ['A', 'B'],\n",
              " ['A', 'E', 'F'],\n",
              " ['A', 'B', 'D', 'E', 'F'],\n",
              " ['A', 'F'],\n",
              " ['B', 'D', 'E'],\n",
              " ['B', 'D', 'E', 'F'],\n",
              " ['B', 'C', 'D', 'E'],\n",
              " ['C', 'D', 'E']]"
            ]
          },
          "metadata": {
            "tags": []
          },
          "execution_count": 76
        }
      ]
    },
    {
      "cell_type": "code",
      "metadata": {
        "id": "eUAMnEdCiDM0"
      },
      "source": [
        "N = len(list_transactions_6)"
      ],
      "execution_count": 77,
      "outputs": []
    },
    {
      "cell_type": "markdown",
      "metadata": {
        "id": "FQ9ec7srJwjC"
      },
      "source": [
        "### 6.1\n",
        "\n",
        "Se realiza la prueba con _min\\_soporte = 2_\n"
      ]
    },
    {
      "cell_type": "code",
      "metadata": {
        "id": "PUHSwIzxKcYe"
      },
      "source": [
        "def run_test1(transactions, min_support, min_confidence):\n",
        "  print('Prueba con Apriori')\n",
        "  itemsets, rules = apriori(transactions, min_support=min_support/N, min_confidence=min_confidence)\n",
        "\n",
        "  print('Cantidad de reglas: ', len(rules))\n",
        "  for r in rules:\n",
        "    print(r)\n",
        "\n",
        "  print('\\nPrueba con FP-Growth')\n",
        "\n",
        "  patterns = pyfpgrowth.find_frequent_patterns(transactions, min_support)\n",
        "  rules = pyfpgrowth.generate_association_rules(patterns, min_confidence)\n",
        "  print('Cantidad de reglas: ', len(rules))\n",
        "  return rules\n"
      ],
      "execution_count": 78,
      "outputs": []
    },
    {
      "cell_type": "code",
      "metadata": {
        "id": "Czol1q5liHKA"
      },
      "source": [
        "min_soporte = 2\n",
        "min_confianza = 0.8"
      ],
      "execution_count": 79,
      "outputs": []
    },
    {
      "cell_type": "code",
      "metadata": {
        "colab": {
          "base_uri": "https://localhost:8080/"
        },
        "id": "WFU9qO40JUgb",
        "outputId": "1b423171-e0a8-4200-917b-8309f4589eab"
      },
      "source": [
        " run_test1(list_transactions_6, min_soporte, min_confianza)"
      ],
      "execution_count": 80,
      "outputs": [
        {
          "output_type": "stream",
          "text": [
            "Prueba con Apriori\n",
            "Cantidad de reglas:  16\n",
            "{E} -> {D} (conf: 0.857, supp: 0.500, lift: 1.469, conv: 2.917)\n",
            "{D} -> {E} (conf: 0.857, supp: 0.500, lift: 1.469, conv: 2.917)\n",
            "{F} -> {A} (conf: 0.800, supp: 0.333, lift: 1.200, conv: 1.667)\n",
            "{C, E} -> {D} (conf: 1.000, supp: 0.250, lift: 1.714, conv: 416666666.667)\n",
            "{C, D} -> {E} (conf: 1.000, supp: 0.250, lift: 1.714, conv: 416666666.667)\n",
            "{B, E} -> {D} (conf: 1.000, supp: 0.333, lift: 1.714, conv: 416666666.667)\n",
            "{B, D} -> {E} (conf: 0.800, supp: 0.333, lift: 1.371, conv: 2.083)\n",
            "{D, F} -> {B} (conf: 1.000, supp: 0.167, lift: 1.714, conv: 416666666.667)\n",
            "{B, F} -> {D} (conf: 1.000, supp: 0.167, lift: 1.714, conv: 416666666.667)\n",
            "{B, F} -> {E} (conf: 1.000, supp: 0.167, lift: 1.714, conv: 416666666.667)\n",
            "{D, F} -> {E} (conf: 1.000, supp: 0.167, lift: 1.714, conv: 416666666.667)\n",
            "{D, E, F} -> {B} (conf: 1.000, supp: 0.167, lift: 1.714, conv: 416666666.667)\n",
            "{B, E, F} -> {D} (conf: 1.000, supp: 0.167, lift: 1.714, conv: 416666666.667)\n",
            "{B, D, F} -> {E} (conf: 1.000, supp: 0.167, lift: 1.714, conv: 416666666.667)\n",
            "{D, F} -> {B, E} (conf: 1.000, supp: 0.167, lift: 3.000, conv: 666666666.667)\n",
            "{B, F} -> {D, E} (conf: 1.000, supp: 0.167, lift: 2.000, conv: 500000000.000)\n",
            "\n",
            "Prueba con FP-Growth\n",
            "Cantidad de reglas:  9\n"
          ],
          "name": "stdout"
        },
        {
          "output_type": "execute_result",
          "data": {
            "text/plain": [
              "{('B', 'D'): (('E',), 0.8),\n",
              " ('B', 'D', 'F'): (('E',), 1.0),\n",
              " ('B', 'E'): (('D',), 1.0),\n",
              " ('B', 'E', 'F'): (('D',), 1.0),\n",
              " ('B', 'F'): (('D', 'E'), 1.0),\n",
              " ('C', 'D'): (('E',), 1.0),\n",
              " ('C', 'E'): (('D',), 1.0),\n",
              " ('D', 'E', 'F'): (('B',), 1.0),\n",
              " ('D', 'F'): (('B', 'E'), 1.0)}"
            ]
          },
          "metadata": {
            "tags": []
          },
          "execution_count": 80
        }
      ]
    },
    {
      "cell_type": "markdown",
      "metadata": {
        "id": "0QdB3dihJ-h4"
      },
      "source": [
        "### 6.2\n",
        "\n",
        "Se realiza la prueba con _min\\_soporte = 3_"
      ]
    },
    {
      "cell_type": "code",
      "metadata": {
        "id": "c8tCLWdTKGZy"
      },
      "source": [
        "min_soporte = 3\n",
        "min_confianza = 0.8"
      ],
      "execution_count": 81,
      "outputs": []
    },
    {
      "cell_type": "code",
      "metadata": {
        "colab": {
          "base_uri": "https://localhost:8080/"
        },
        "id": "Q1LBS28BLxDk",
        "outputId": "04852866-e6db-4f8c-f967-07ec0b9bbadd"
      },
      "source": [
        " run_test1(list_transactions_6, min_soporte, min_confianza)"
      ],
      "execution_count": 82,
      "outputs": [
        {
          "output_type": "stream",
          "text": [
            "Prueba con Apriori\n",
            "Cantidad de reglas:  7\n",
            "{E} -> {D} (conf: 0.857, supp: 0.500, lift: 1.469, conv: 2.917)\n",
            "{D} -> {E} (conf: 0.857, supp: 0.500, lift: 1.469, conv: 2.917)\n",
            "{F} -> {A} (conf: 0.800, supp: 0.333, lift: 1.200, conv: 1.667)\n",
            "{C, E} -> {D} (conf: 1.000, supp: 0.250, lift: 1.714, conv: 416666666.667)\n",
            "{C, D} -> {E} (conf: 1.000, supp: 0.250, lift: 1.714, conv: 416666666.667)\n",
            "{B, E} -> {D} (conf: 1.000, supp: 0.333, lift: 1.714, conv: 416666666.667)\n",
            "{B, D} -> {E} (conf: 0.800, supp: 0.333, lift: 1.371, conv: 2.083)\n",
            "\n",
            "Prueba con FP-Growth\n",
            "Cantidad de reglas:  4\n"
          ],
          "name": "stdout"
        },
        {
          "output_type": "execute_result",
          "data": {
            "text/plain": [
              "{('B', 'D'): (('E',), 0.8),\n",
              " ('B', 'E'): (('D',), 1.0),\n",
              " ('C', 'D'): (('E',), 1.0),\n",
              " ('C', 'E'): (('D',), 1.0)}"
            ]
          },
          "metadata": {
            "tags": []
          },
          "execution_count": 82
        }
      ]
    },
    {
      "cell_type": "code",
      "metadata": {
        "colab": {
          "base_uri": "https://localhost:8080/"
        },
        "id": "YKc6ZYM9h1XS",
        "outputId": "ea08065c-133a-490e-846c-f653478bd757"
      },
      "source": [
        "# Pruebas de rendimiento \n",
        "%%timeit\n",
        "itemsets, rules = apriori(list_transactions_6, min_support=0, min_confidence=0)"
      ],
      "execution_count": 83,
      "outputs": [
        {
          "output_type": "stream",
          "text": [
            "The slowest run took 5.22 times longer than the fastest. This could mean that an intermediate result is being cached.\n",
            "1000 loops, best of 5: 1.65 ms per loop\n"
          ],
          "name": "stdout"
        }
      ]
    },
    {
      "cell_type": "code",
      "metadata": {
        "colab": {
          "base_uri": "https://localhost:8080/"
        },
        "id": "BTn3eqRuiGBe",
        "outputId": "a5727060-63d4-46f7-ac32-31e9eb7d6f66"
      },
      "source": [
        "%%timeit\n",
        "patterns = pyfpgrowth.find_frequent_patterns(list_transactions_6, 0)\n",
        "rules = pyfpgrowth.generate_association_rules(patterns, 0)\n"
      ],
      "execution_count": 84,
      "outputs": [
        {
          "output_type": "stream",
          "text": [
            "1000 loops, best of 5: 1.15 ms per loop\n"
          ],
          "name": "stdout"
        }
      ]
    },
    {
      "cell_type": "markdown",
      "metadata": {
        "id": "ZJkioJdYL4S8"
      },
      "source": [
        "Conclusión:\n",
        "\n",
        "La cantidad de reglas generadas por la implementación algoritmo FP-Growth es menor a las generadas por la implmentación del algoritmo Apriori usado en estas pruebas, sin embargo esto sea debido a las decisiones de diseño tomadas en el primero para realizar la poda. Aunque en la ejecución se puede ver una leve diferencia entre los tiempos de ejecución el tamaño del conjunto de datos es demasiado pequeño para sacar conclusiones. Sin embargo debido al conocimiento del funcionamiento de los algoritmos, se puede decir que es una respuesta esperaa."
      ]
    },
    {
      "cell_type": "markdown",
      "metadata": {
        "id": "jS2bdgwcPakw"
      },
      "source": [
        "## 7. \n",
        "\n",
        "Usando el conjunto de datos del punto 5\n",
        "- realizar la tabla de contingencia para las siguientes reglas: b→c , a→d , b→d , e→c , c→a\n",
        "\n",
        "- usar las tablas de contigencia del punto anterior para computar y “realizar un ranking” de las reglas usando:\n",
        " - i. soporte\n",
        " - ii. confianza\n",
        " - iii. lift"
      ]
    },
    {
      "cell_type": "code",
      "metadata": {
        "id": "T7k8PfeHs339"
      },
      "source": [
        "def get_k2_metrics(s, minsop):\n",
        "  list_transactions, items = get_list_transactions(s)\n",
        "  df = get_support_df(items, list_transactions, get_all_2_itemsets)\n",
        "  df = df[ (df['support'] > minsop) & (df['k'] == 2)]\n",
        "\n",
        "  df_1 = get_support_df(items, list_transactions, get_all_1_itemsets)\n",
        "\n",
        "  #desempaquetamos del array ['item'] -> 'item'\n",
        "  df_1['k_itemsets'] = df_1['k_itemsets'].map(lambda s: s[0])\n",
        "\n",
        "  return df.apply(add_a_b_metrics(df_1), axis=1)"
      ],
      "execution_count": 85,
      "outputs": []
    },
    {
      "cell_type": "code",
      "metadata": {
        "id": "diAAzR6zyPYD"
      },
      "source": [
        "def build_crosstab(rule, transactions=[]):\n",
        "  a = rule[0]\n",
        "  not_a = '~'+rule[0]\n",
        "\n",
        "  b = rule[1]\n",
        "  not_b = '~'+rule[1]\n",
        "\n",
        "  f11 = 0 #'f11'\n",
        "  f10 = 0 #'f10'\n",
        "  f01 = 0 #'f01'\n",
        "  f00 = 0 #'f00'\n",
        "\n",
        "  N = len(transactions) #'N'\n",
        "  set_rule = set(rule)\n",
        "\n",
        "  for t in transactions:\n",
        "\n",
        "    not_a_in_t =  not a in t\n",
        "    not_b_in_t =  not b in t\n",
        "    f11 = f11 + int(set_rule.issubset(t))\n",
        "    f01 = f01 + int(b in t and not_a_in_t)\n",
        "    f10 = f10 + int(a in t and not_b_in_t)\n",
        "    f00 = f00 + int(not_a_in_t and not_b_in_t)\n",
        "\n",
        "\n",
        "  fp1 = f11 + f01 #'f+1' \n",
        "  fp0 = f10 + f00 #'f+0'\n",
        "  f1p = f11 + f10 #'f1+'\n",
        "  f0p = f01 + f00 #'f0+'\n",
        "\n",
        "\n",
        "  crosstab = { \n",
        "                b:      [f11, f01, fp1],\n",
        "                not_b:  [f10, f00, fp0],\n",
        "                '':     [f1p, f0p, N] \n",
        "             }\n",
        "\n",
        "  metrics = {\n",
        "      'soporte': f11/N,\n",
        "      'confianza': f11/f1p,\n",
        "      'lift': f11/(fp1*f1p)\n",
        "  }\n",
        "\n",
        "  return pd.DataFrame(crosstab, index= [a, not_a, '']), metrics"
      ],
      "execution_count": 86,
      "outputs": []
    },
    {
      "cell_type": "code",
      "metadata": {
        "id": "kaRaBj514zZr"
      },
      "source": [
        "list_transactions_7, items_7 = get_list_transactions(df_items_5['Items'])"
      ],
      "execution_count": 87,
      "outputs": []
    },
    {
      "cell_type": "code",
      "metadata": {
        "id": "mUhqx9yX7815"
      },
      "source": [
        "reglas = []"
      ],
      "execution_count": 88,
      "outputs": []
    },
    {
      "cell_type": "code",
      "metadata": {
        "colab": {
          "base_uri": "https://localhost:8080/",
          "height": 155
        },
        "id": "5Rm5_k0m0GUd",
        "outputId": "3b13eca3-0d60-4456-82f8-f4f449bcd057"
      },
      "source": [
        "#b→c\n",
        "ct, m = build_crosstab(['b', 'c'], list_transactions_7)\n",
        "m['regla'] = 'b→c'\n",
        "reglas.append(m)\n",
        "print(m)\n",
        "ct"
      ],
      "execution_count": 89,
      "outputs": [
        {
          "output_type": "stream",
          "text": [
            "{'soporte': 0.3, 'confianza': 0.42857142857142855, 'lift': 0.08571428571428572, 'regla': 'b→c'}\n"
          ],
          "name": "stdout"
        },
        {
          "output_type": "execute_result",
          "data": {
            "text/html": [
              "<div>\n",
              "<style scoped>\n",
              "    .dataframe tbody tr th:only-of-type {\n",
              "        vertical-align: middle;\n",
              "    }\n",
              "\n",
              "    .dataframe tbody tr th {\n",
              "        vertical-align: top;\n",
              "    }\n",
              "\n",
              "    .dataframe thead th {\n",
              "        text-align: right;\n",
              "    }\n",
              "</style>\n",
              "<table border=\"1\" class=\"dataframe\">\n",
              "  <thead>\n",
              "    <tr style=\"text-align: right;\">\n",
              "      <th></th>\n",
              "      <th>c</th>\n",
              "      <th>~c</th>\n",
              "      <th></th>\n",
              "    </tr>\n",
              "  </thead>\n",
              "  <tbody>\n",
              "    <tr>\n",
              "      <th>b</th>\n",
              "      <td>3</td>\n",
              "      <td>4</td>\n",
              "      <td>7</td>\n",
              "    </tr>\n",
              "    <tr>\n",
              "      <th>~b</th>\n",
              "      <td>2</td>\n",
              "      <td>1</td>\n",
              "      <td>3</td>\n",
              "    </tr>\n",
              "    <tr>\n",
              "      <th></th>\n",
              "      <td>5</td>\n",
              "      <td>5</td>\n",
              "      <td>10</td>\n",
              "    </tr>\n",
              "  </tbody>\n",
              "</table>\n",
              "</div>"
            ],
            "text/plain": [
              "    c  ~c    \n",
              "b   3   4   7\n",
              "~b  2   1   3\n",
              "    5   5  10"
            ]
          },
          "metadata": {
            "tags": []
          },
          "execution_count": 89
        }
      ]
    },
    {
      "cell_type": "code",
      "metadata": {
        "colab": {
          "base_uri": "https://localhost:8080/",
          "height": 155
        },
        "id": "wYCE8USi7T-x",
        "outputId": "b9139d3d-f51c-4f24-9581-943e88cd7421"
      },
      "source": [
        "#a→d\n",
        "ct, m = build_crosstab(['a', 'd'], list_transactions_7)\n",
        "m['regla'] = 'a→d'\n",
        "reglas.append(m)\n",
        "print(m)\n",
        "ct"
      ],
      "execution_count": 90,
      "outputs": [
        {
          "output_type": "stream",
          "text": [
            "{'soporte': 0.4, 'confianza': 0.8, 'lift': 0.08888888888888889, 'regla': 'a→d'}\n"
          ],
          "name": "stdout"
        },
        {
          "output_type": "execute_result",
          "data": {
            "text/html": [
              "<div>\n",
              "<style scoped>\n",
              "    .dataframe tbody tr th:only-of-type {\n",
              "        vertical-align: middle;\n",
              "    }\n",
              "\n",
              "    .dataframe tbody tr th {\n",
              "        vertical-align: top;\n",
              "    }\n",
              "\n",
              "    .dataframe thead th {\n",
              "        text-align: right;\n",
              "    }\n",
              "</style>\n",
              "<table border=\"1\" class=\"dataframe\">\n",
              "  <thead>\n",
              "    <tr style=\"text-align: right;\">\n",
              "      <th></th>\n",
              "      <th>d</th>\n",
              "      <th>~d</th>\n",
              "      <th></th>\n",
              "    </tr>\n",
              "  </thead>\n",
              "  <tbody>\n",
              "    <tr>\n",
              "      <th>a</th>\n",
              "      <td>4</td>\n",
              "      <td>1</td>\n",
              "      <td>5</td>\n",
              "    </tr>\n",
              "    <tr>\n",
              "      <th>~a</th>\n",
              "      <td>5</td>\n",
              "      <td>0</td>\n",
              "      <td>5</td>\n",
              "    </tr>\n",
              "    <tr>\n",
              "      <th></th>\n",
              "      <td>9</td>\n",
              "      <td>1</td>\n",
              "      <td>10</td>\n",
              "    </tr>\n",
              "  </tbody>\n",
              "</table>\n",
              "</div>"
            ],
            "text/plain": [
              "    d  ~d    \n",
              "a   4   1   5\n",
              "~a  5   0   5\n",
              "    9   1  10"
            ]
          },
          "metadata": {
            "tags": []
          },
          "execution_count": 90
        }
      ]
    },
    {
      "cell_type": "code",
      "metadata": {
        "colab": {
          "base_uri": "https://localhost:8080/",
          "height": 155
        },
        "id": "7tkTwXRa7YlI",
        "outputId": "cf9ffd6a-348a-4d4f-f76e-490ced5a0499"
      },
      "source": [
        "#e→c\n",
        "ct, m = build_crosstab(['e', 'c'], list_transactions_7)\n",
        "m['regla'] = 'e→c'\n",
        "reglas.append(m)\n",
        "print(m)\n",
        "ct"
      ],
      "execution_count": 91,
      "outputs": [
        {
          "output_type": "stream",
          "text": [
            "{'soporte': 0.2, 'confianza': 0.3333333333333333, 'lift': 0.06666666666666667, 'regla': 'e→c'}\n"
          ],
          "name": "stdout"
        },
        {
          "output_type": "execute_result",
          "data": {
            "text/html": [
              "<div>\n",
              "<style scoped>\n",
              "    .dataframe tbody tr th:only-of-type {\n",
              "        vertical-align: middle;\n",
              "    }\n",
              "\n",
              "    .dataframe tbody tr th {\n",
              "        vertical-align: top;\n",
              "    }\n",
              "\n",
              "    .dataframe thead th {\n",
              "        text-align: right;\n",
              "    }\n",
              "</style>\n",
              "<table border=\"1\" class=\"dataframe\">\n",
              "  <thead>\n",
              "    <tr style=\"text-align: right;\">\n",
              "      <th></th>\n",
              "      <th>c</th>\n",
              "      <th>~c</th>\n",
              "      <th></th>\n",
              "    </tr>\n",
              "  </thead>\n",
              "  <tbody>\n",
              "    <tr>\n",
              "      <th>e</th>\n",
              "      <td>2</td>\n",
              "      <td>4</td>\n",
              "      <td>6</td>\n",
              "    </tr>\n",
              "    <tr>\n",
              "      <th>~e</th>\n",
              "      <td>3</td>\n",
              "      <td>1</td>\n",
              "      <td>4</td>\n",
              "    </tr>\n",
              "    <tr>\n",
              "      <th></th>\n",
              "      <td>5</td>\n",
              "      <td>5</td>\n",
              "      <td>10</td>\n",
              "    </tr>\n",
              "  </tbody>\n",
              "</table>\n",
              "</div>"
            ],
            "text/plain": [
              "    c  ~c    \n",
              "e   2   4   6\n",
              "~e  3   1   4\n",
              "    5   5  10"
            ]
          },
          "metadata": {
            "tags": []
          },
          "execution_count": 91
        }
      ]
    },
    {
      "cell_type": "code",
      "metadata": {
        "colab": {
          "base_uri": "https://localhost:8080/",
          "height": 155
        },
        "id": "VRXtkbus7uN-",
        "outputId": "451e5700-ef47-433d-875d-7b908d0ba7ca"
      },
      "source": [
        "#c→a\n",
        "ct, m = build_crosstab(['c', 'a'], list_transactions_7)\n",
        "m['regla'] = 'c→a'\n",
        "reglas.append(m)\n",
        "print(m)\n",
        "ct"
      ],
      "execution_count": 92,
      "outputs": [
        {
          "output_type": "stream",
          "text": [
            "{'soporte': 0.2, 'confianza': 0.4, 'lift': 0.08, 'regla': 'c→a'}\n"
          ],
          "name": "stdout"
        },
        {
          "output_type": "execute_result",
          "data": {
            "text/html": [
              "<div>\n",
              "<style scoped>\n",
              "    .dataframe tbody tr th:only-of-type {\n",
              "        vertical-align: middle;\n",
              "    }\n",
              "\n",
              "    .dataframe tbody tr th {\n",
              "        vertical-align: top;\n",
              "    }\n",
              "\n",
              "    .dataframe thead th {\n",
              "        text-align: right;\n",
              "    }\n",
              "</style>\n",
              "<table border=\"1\" class=\"dataframe\">\n",
              "  <thead>\n",
              "    <tr style=\"text-align: right;\">\n",
              "      <th></th>\n",
              "      <th>a</th>\n",
              "      <th>~a</th>\n",
              "      <th></th>\n",
              "    </tr>\n",
              "  </thead>\n",
              "  <tbody>\n",
              "    <tr>\n",
              "      <th>c</th>\n",
              "      <td>2</td>\n",
              "      <td>3</td>\n",
              "      <td>5</td>\n",
              "    </tr>\n",
              "    <tr>\n",
              "      <th>~c</th>\n",
              "      <td>3</td>\n",
              "      <td>2</td>\n",
              "      <td>5</td>\n",
              "    </tr>\n",
              "    <tr>\n",
              "      <th></th>\n",
              "      <td>5</td>\n",
              "      <td>5</td>\n",
              "      <td>10</td>\n",
              "    </tr>\n",
              "  </tbody>\n",
              "</table>\n",
              "</div>"
            ],
            "text/plain": [
              "    a  ~a    \n",
              "c   2   3   5\n",
              "~c  3   2   5\n",
              "    5   5  10"
            ]
          },
          "metadata": {
            "tags": []
          },
          "execution_count": 92
        }
      ]
    },
    {
      "cell_type": "code",
      "metadata": {
        "colab": {
          "base_uri": "https://localhost:8080/",
          "height": 167
        },
        "id": "vAbZzjr38dp7",
        "outputId": "560f060e-fb5b-4b43-f1f7-495818bb03e3"
      },
      "source": [
        "pd.DataFrame(reglas)"
      ],
      "execution_count": 93,
      "outputs": [
        {
          "output_type": "execute_result",
          "data": {
            "text/html": [
              "<div>\n",
              "<style scoped>\n",
              "    .dataframe tbody tr th:only-of-type {\n",
              "        vertical-align: middle;\n",
              "    }\n",
              "\n",
              "    .dataframe tbody tr th {\n",
              "        vertical-align: top;\n",
              "    }\n",
              "\n",
              "    .dataframe thead th {\n",
              "        text-align: right;\n",
              "    }\n",
              "</style>\n",
              "<table border=\"1\" class=\"dataframe\">\n",
              "  <thead>\n",
              "    <tr style=\"text-align: right;\">\n",
              "      <th></th>\n",
              "      <th>soporte</th>\n",
              "      <th>confianza</th>\n",
              "      <th>lift</th>\n",
              "      <th>regla</th>\n",
              "    </tr>\n",
              "  </thead>\n",
              "  <tbody>\n",
              "    <tr>\n",
              "      <th>0</th>\n",
              "      <td>0.3</td>\n",
              "      <td>0.428571</td>\n",
              "      <td>0.085714</td>\n",
              "      <td>b→c</td>\n",
              "    </tr>\n",
              "    <tr>\n",
              "      <th>1</th>\n",
              "      <td>0.4</td>\n",
              "      <td>0.800000</td>\n",
              "      <td>0.088889</td>\n",
              "      <td>a→d</td>\n",
              "    </tr>\n",
              "    <tr>\n",
              "      <th>2</th>\n",
              "      <td>0.2</td>\n",
              "      <td>0.333333</td>\n",
              "      <td>0.066667</td>\n",
              "      <td>e→c</td>\n",
              "    </tr>\n",
              "    <tr>\n",
              "      <th>3</th>\n",
              "      <td>0.2</td>\n",
              "      <td>0.400000</td>\n",
              "      <td>0.080000</td>\n",
              "      <td>c→a</td>\n",
              "    </tr>\n",
              "  </tbody>\n",
              "</table>\n",
              "</div>"
            ],
            "text/plain": [
              "   soporte  confianza      lift regla\n",
              "0      0.3   0.428571  0.085714   b→c\n",
              "1      0.4   0.800000  0.088889   a→d\n",
              "2      0.2   0.333333  0.066667   e→c\n",
              "3      0.2   0.400000  0.080000   c→a"
            ]
          },
          "metadata": {
            "tags": []
          },
          "execution_count": 93
        }
      ]
    },
    {
      "cell_type": "code",
      "metadata": {
        "colab": {
          "base_uri": "https://localhost:8080/",
          "height": 305
        },
        "id": "5sanuF7irWao",
        "outputId": "75e8e771-6c7b-412b-a98a-60f31d302b88"
      },
      "source": [
        "get_k2_metrics(df_items_5['Items'], minsop=0.25)\n"
      ],
      "execution_count": 94,
      "outputs": [
        {
          "output_type": "stream",
          "text": [
            "{'d': 9.0, 'e': 6.0, 'a': 5.0, 'c': 5.0, 'b': 7.0}\n"
          ],
          "name": "stdout"
        },
        {
          "output_type": "execute_result",
          "data": {
            "text/html": [
              "<div>\n",
              "<style scoped>\n",
              "    .dataframe tbody tr th:only-of-type {\n",
              "        vertical-align: middle;\n",
              "    }\n",
              "\n",
              "    .dataframe tbody tr th {\n",
              "        vertical-align: top;\n",
              "    }\n",
              "\n",
              "    .dataframe thead th {\n",
              "        text-align: right;\n",
              "    }\n",
              "</style>\n",
              "<table border=\"1\" class=\"dataframe\">\n",
              "  <thead>\n",
              "    <tr style=\"text-align: right;\">\n",
              "      <th></th>\n",
              "      <th>k_itemsets</th>\n",
              "      <th>k</th>\n",
              "      <th>support_count</th>\n",
              "      <th>support</th>\n",
              "      <th>c(a-&gt;b)</th>\n",
              "      <th>c(b-&gt;a)</th>\n",
              "      <th>I(a,b)</th>\n",
              "    </tr>\n",
              "  </thead>\n",
              "  <tbody>\n",
              "    <tr>\n",
              "      <th>0</th>\n",
              "      <td>[d, e]</td>\n",
              "      <td>2.0</td>\n",
              "      <td>6.0</td>\n",
              "      <td>0.6</td>\n",
              "      <td>0.666667</td>\n",
              "      <td>1.000000</td>\n",
              "      <td>0.111111</td>\n",
              "    </tr>\n",
              "    <tr>\n",
              "      <th>1</th>\n",
              "      <td>[d, a]</td>\n",
              "      <td>2.0</td>\n",
              "      <td>4.0</td>\n",
              "      <td>0.4</td>\n",
              "      <td>0.444444</td>\n",
              "      <td>0.800000</td>\n",
              "      <td>0.088889</td>\n",
              "    </tr>\n",
              "    <tr>\n",
              "      <th>2</th>\n",
              "      <td>[d, c]</td>\n",
              "      <td>2.0</td>\n",
              "      <td>3.0</td>\n",
              "      <td>0.3</td>\n",
              "      <td>0.333333</td>\n",
              "      <td>0.600000</td>\n",
              "      <td>0.066667</td>\n",
              "    </tr>\n",
              "    <tr>\n",
              "      <th>3</th>\n",
              "      <td>[d, b]</td>\n",
              "      <td>2.0</td>\n",
              "      <td>5.0</td>\n",
              "      <td>0.5</td>\n",
              "      <td>0.555556</td>\n",
              "      <td>0.714286</td>\n",
              "      <td>0.079365</td>\n",
              "    </tr>\n",
              "    <tr>\n",
              "      <th>4</th>\n",
              "      <td>[e, a]</td>\n",
              "      <td>2.0</td>\n",
              "      <td>4.0</td>\n",
              "      <td>0.4</td>\n",
              "      <td>0.666667</td>\n",
              "      <td>0.800000</td>\n",
              "      <td>0.133333</td>\n",
              "    </tr>\n",
              "    <tr>\n",
              "      <th>6</th>\n",
              "      <td>[e, b]</td>\n",
              "      <td>2.0</td>\n",
              "      <td>4.0</td>\n",
              "      <td>0.4</td>\n",
              "      <td>0.666667</td>\n",
              "      <td>0.571429</td>\n",
              "      <td>0.095238</td>\n",
              "    </tr>\n",
              "    <tr>\n",
              "      <th>8</th>\n",
              "      <td>[a, b]</td>\n",
              "      <td>2.0</td>\n",
              "      <td>3.0</td>\n",
              "      <td>0.3</td>\n",
              "      <td>0.600000</td>\n",
              "      <td>0.428571</td>\n",
              "      <td>0.085714</td>\n",
              "    </tr>\n",
              "    <tr>\n",
              "      <th>9</th>\n",
              "      <td>[c, b]</td>\n",
              "      <td>2.0</td>\n",
              "      <td>3.0</td>\n",
              "      <td>0.3</td>\n",
              "      <td>0.600000</td>\n",
              "      <td>0.428571</td>\n",
              "      <td>0.085714</td>\n",
              "    </tr>\n",
              "  </tbody>\n",
              "</table>\n",
              "</div>"
            ],
            "text/plain": [
              "  k_itemsets    k  support_count  support   c(a->b)   c(b->a)    I(a,b)\n",
              "0     [d, e]  2.0            6.0      0.6  0.666667  1.000000  0.111111\n",
              "1     [d, a]  2.0            4.0      0.4  0.444444  0.800000  0.088889\n",
              "2     [d, c]  2.0            3.0      0.3  0.333333  0.600000  0.066667\n",
              "3     [d, b]  2.0            5.0      0.5  0.555556  0.714286  0.079365\n",
              "4     [e, a]  2.0            4.0      0.4  0.666667  0.800000  0.133333\n",
              "6     [e, b]  2.0            4.0      0.4  0.666667  0.571429  0.095238\n",
              "8     [a, b]  2.0            3.0      0.3  0.600000  0.428571  0.085714\n",
              "9     [c, b]  2.0            3.0      0.3  0.600000  0.428571  0.085714"
            ]
          },
          "metadata": {
            "tags": []
          },
          "execution_count": 94
        }
      ]
    },
    {
      "cell_type": "markdown",
      "metadata": {
        "id": "zm5zyyraPmgZ"
      },
      "source": [
        "## 8. \n",
        "\n",
        "Importar el conjunto de datos marketBasquet.csv. Extraer reglas de asociación utilizando diferentes valores mínimos de confíanza. Analice los resultados. Reporte los itemsets frecuentes con sus respectivos valores de soporte. "
      ]
    },
    {
      "cell_type": "code",
      "metadata": {
        "colab": {
          "base_uri": "https://localhost:8080/"
        },
        "id": "egEsGCHavfEN",
        "outputId": "d680cf3e-e3f6-40da-a201-6eec74dd795b"
      },
      "source": [
        "#uploaded = files.upload()\n",
        "!wget https://raw.githubusercontent.com/alejandro56664-adl/unal-data-mining/main/datasets/marketBasket.csv"
      ],
      "execution_count": 95,
      "outputs": [
        {
          "output_type": "stream",
          "text": [
            "--2021-05-01 02:30:35--  https://raw.githubusercontent.com/alejandro56664-adl/unal-data-mining/main/datasets/marketBasket.csv\n",
            "Resolving raw.githubusercontent.com (raw.githubusercontent.com)... 185.199.108.133, 185.199.109.133, 185.199.110.133, ...\n",
            "Connecting to raw.githubusercontent.com (raw.githubusercontent.com)|185.199.108.133|:443... connected.\n",
            "HTTP request sent, awaiting response... 200 OK\n",
            "Length: 413 [text/plain]\n",
            "Saving to: ‘marketBasket.csv.1’\n",
            "\n",
            "marketBasket.csv.1  100%[===================>]     413  --.-KB/s    in 0s      \n",
            "\n",
            "2021-05-01 02:30:36 (15.4 MB/s) - ‘marketBasket.csv.1’ saved [413/413]\n",
            "\n"
          ],
          "name": "stdout"
        }
      ]
    },
    {
      "cell_type": "code",
      "metadata": {
        "colab": {
          "base_uri": "https://localhost:8080/"
        },
        "id": "0-7SeMaIvo20",
        "outputId": "0af565c2-01a5-4bc9-d655-091c8abd1ce9"
      },
      "source": [
        "!cat marketBasket.csv"
      ],
      "execution_count": 96,
      "outputs": [
        {
          "output_type": "stream",
          "text": [
            "\n",
            "ID;Leche;Cerveza;Pa�ales;Pan;Mantequilla;Galletas\r\n",
            "1;true;true;true;false;false;false\r\n",
            "2;true;false;false;true;true;false\r\n",
            "3;true;false;true;false;false;true\r\n",
            "4;false;false;false;true;true;true\r\n",
            "5;false;true;true;false;false;true\r\n",
            "6;true;false;true;true;true;false\r\n",
            "7;false;false;true;true;true;false\r\n",
            "8;false;true;true;false;false;false\r\n",
            "9;true;false;true;true;true;false\r\n",
            "10;false;true;false;false;false;true\r\n"
          ],
          "name": "stdout"
        }
      ]
    },
    {
      "cell_type": "code",
      "metadata": {
        "id": "-XzQio2qxFHd"
      },
      "source": [
        "#Eliminamos las primeras dos lineas (linea en blanco, la segunda linea tiene un error)\n",
        "!sed '2d' marketBasket.csv > marketBasket1.csv"
      ],
      "execution_count": 97,
      "outputs": []
    },
    {
      "cell_type": "code",
      "metadata": {
        "colab": {
          "base_uri": "https://localhost:8080/"
        },
        "id": "Mcgd0SKSxtoL",
        "outputId": "59df5e0f-88f8-4b90-990f-c03c846c7ae4"
      },
      "source": [
        "!cat marketBasket1.csv"
      ],
      "execution_count": 98,
      "outputs": [
        {
          "output_type": "stream",
          "text": [
            "\n",
            "1;true;true;true;false;false;false\r\n",
            "2;true;false;false;true;true;false\r\n",
            "3;true;false;true;false;false;true\r\n",
            "4;false;false;false;true;true;true\r\n",
            "5;false;true;true;false;false;true\r\n",
            "6;true;false;true;true;true;false\r\n",
            "7;false;false;true;true;true;false\r\n",
            "8;false;true;true;false;false;false\r\n",
            "9;true;false;true;true;true;false\r\n",
            "10;false;true;false;false;false;true\r\n"
          ],
          "name": "stdout"
        }
      ]
    },
    {
      "cell_type": "code",
      "metadata": {
        "colab": {
          "base_uri": "https://localhost:8080/",
          "height": 377
        },
        "id": "nGUF5rgKs24Z",
        "outputId": "0f319742-3ca3-4373-804b-ec68b732a74d"
      },
      "source": [
        "\n",
        "df_market_basket = pd.read_csv('marketBasket1.csv', sep=';', names=['ID', 'Leche', 'Cerveza', 'Pañales','Pan', 'Mantequilla', 'Galletas'], index_col='ID')\n",
        "df_market_basket"
      ],
      "execution_count": 99,
      "outputs": [
        {
          "output_type": "execute_result",
          "data": {
            "text/html": [
              "<div>\n",
              "<style scoped>\n",
              "    .dataframe tbody tr th:only-of-type {\n",
              "        vertical-align: middle;\n",
              "    }\n",
              "\n",
              "    .dataframe tbody tr th {\n",
              "        vertical-align: top;\n",
              "    }\n",
              "\n",
              "    .dataframe thead th {\n",
              "        text-align: right;\n",
              "    }\n",
              "</style>\n",
              "<table border=\"1\" class=\"dataframe\">\n",
              "  <thead>\n",
              "    <tr style=\"text-align: right;\">\n",
              "      <th></th>\n",
              "      <th>Leche</th>\n",
              "      <th>Cerveza</th>\n",
              "      <th>Pañales</th>\n",
              "      <th>Pan</th>\n",
              "      <th>Mantequilla</th>\n",
              "      <th>Galletas</th>\n",
              "    </tr>\n",
              "    <tr>\n",
              "      <th>ID</th>\n",
              "      <th></th>\n",
              "      <th></th>\n",
              "      <th></th>\n",
              "      <th></th>\n",
              "      <th></th>\n",
              "      <th></th>\n",
              "    </tr>\n",
              "  </thead>\n",
              "  <tbody>\n",
              "    <tr>\n",
              "      <th>1</th>\n",
              "      <td>True</td>\n",
              "      <td>True</td>\n",
              "      <td>True</td>\n",
              "      <td>False</td>\n",
              "      <td>False</td>\n",
              "      <td>False</td>\n",
              "    </tr>\n",
              "    <tr>\n",
              "      <th>2</th>\n",
              "      <td>True</td>\n",
              "      <td>False</td>\n",
              "      <td>False</td>\n",
              "      <td>True</td>\n",
              "      <td>True</td>\n",
              "      <td>False</td>\n",
              "    </tr>\n",
              "    <tr>\n",
              "      <th>3</th>\n",
              "      <td>True</td>\n",
              "      <td>False</td>\n",
              "      <td>True</td>\n",
              "      <td>False</td>\n",
              "      <td>False</td>\n",
              "      <td>True</td>\n",
              "    </tr>\n",
              "    <tr>\n",
              "      <th>4</th>\n",
              "      <td>False</td>\n",
              "      <td>False</td>\n",
              "      <td>False</td>\n",
              "      <td>True</td>\n",
              "      <td>True</td>\n",
              "      <td>True</td>\n",
              "    </tr>\n",
              "    <tr>\n",
              "      <th>5</th>\n",
              "      <td>False</td>\n",
              "      <td>True</td>\n",
              "      <td>True</td>\n",
              "      <td>False</td>\n",
              "      <td>False</td>\n",
              "      <td>True</td>\n",
              "    </tr>\n",
              "    <tr>\n",
              "      <th>6</th>\n",
              "      <td>True</td>\n",
              "      <td>False</td>\n",
              "      <td>True</td>\n",
              "      <td>True</td>\n",
              "      <td>True</td>\n",
              "      <td>False</td>\n",
              "    </tr>\n",
              "    <tr>\n",
              "      <th>7</th>\n",
              "      <td>False</td>\n",
              "      <td>False</td>\n",
              "      <td>True</td>\n",
              "      <td>True</td>\n",
              "      <td>True</td>\n",
              "      <td>False</td>\n",
              "    </tr>\n",
              "    <tr>\n",
              "      <th>8</th>\n",
              "      <td>False</td>\n",
              "      <td>True</td>\n",
              "      <td>True</td>\n",
              "      <td>False</td>\n",
              "      <td>False</td>\n",
              "      <td>False</td>\n",
              "    </tr>\n",
              "    <tr>\n",
              "      <th>9</th>\n",
              "      <td>True</td>\n",
              "      <td>False</td>\n",
              "      <td>True</td>\n",
              "      <td>True</td>\n",
              "      <td>True</td>\n",
              "      <td>False</td>\n",
              "    </tr>\n",
              "    <tr>\n",
              "      <th>10</th>\n",
              "      <td>False</td>\n",
              "      <td>True</td>\n",
              "      <td>False</td>\n",
              "      <td>False</td>\n",
              "      <td>False</td>\n",
              "      <td>True</td>\n",
              "    </tr>\n",
              "  </tbody>\n",
              "</table>\n",
              "</div>"
            ],
            "text/plain": [
              "    Leche  Cerveza  Pañales    Pan  Mantequilla  Galletas\n",
              "ID                                                       \n",
              "1    True     True     True  False        False     False\n",
              "2    True    False    False   True         True     False\n",
              "3    True    False     True  False        False      True\n",
              "4   False    False    False   True         True      True\n",
              "5   False     True     True  False        False      True\n",
              "6    True    False     True   True         True     False\n",
              "7   False    False     True   True         True     False\n",
              "8   False     True     True  False        False     False\n",
              "9    True    False     True   True         True     False\n",
              "10  False     True    False  False        False      True"
            ]
          },
          "metadata": {
            "tags": []
          },
          "execution_count": 99
        }
      ]
    },
    {
      "cell_type": "code",
      "metadata": {
        "colab": {
          "base_uri": "https://localhost:8080/"
        },
        "id": "A89mXUbLEuU8",
        "outputId": "0b75bc36-7255-4e8a-a81b-c2095d103c9e"
      },
      "source": [
        "transactions = df_market_basket.apply(lambda s: s.index[s].tolist(), axis=1).values.tolist()\n",
        "transactions"
      ],
      "execution_count": 100,
      "outputs": [
        {
          "output_type": "execute_result",
          "data": {
            "text/plain": [
              "[['Leche', 'Cerveza', 'Pañales'],\n",
              " ['Leche', 'Pan', 'Mantequilla'],\n",
              " ['Leche', 'Pañales', 'Galletas'],\n",
              " ['Pan', 'Mantequilla', 'Galletas'],\n",
              " ['Cerveza', 'Pañales', 'Galletas'],\n",
              " ['Leche', 'Pañales', 'Pan', 'Mantequilla'],\n",
              " ['Pañales', 'Pan', 'Mantequilla'],\n",
              " ['Cerveza', 'Pañales'],\n",
              " ['Leche', 'Pañales', 'Pan', 'Mantequilla'],\n",
              " ['Cerveza', 'Galletas']]"
            ]
          },
          "metadata": {
            "tags": []
          },
          "execution_count": 100
        }
      ]
    },
    {
      "cell_type": "code",
      "metadata": {
        "id": "ayKTI3qcPnlr"
      },
      "source": [
        "def build_df_from_rules(rules):\n",
        "  l = []\n",
        "  for r in rules_s_2:\n",
        "    l.append({ 'Rule':  f'{r.lhs} -> {r.rhs}', 'Supp': r.support, 'Conf': r.confidence, 'Lift': r.lift })\n",
        "  \n",
        "  df = pd.DataFrame(l)\n",
        "  df = df.set_index('Rule')\n",
        "  return df\n"
      ],
      "execution_count": 101,
      "outputs": []
    },
    {
      "cell_type": "markdown",
      "metadata": {
        "id": "t1wNv0uP3I_4"
      },
      "source": [
        "Reporte los itemsets frecuentes con sus respectivos valores de soporte. Analice los resultados y discuta las diferencias con el esquema que no posee un filtro de atributos."
      ]
    },
    {
      "cell_type": "code",
      "metadata": {
        "colab": {
          "base_uri": "https://localhost:8080/",
          "height": 677
        },
        "id": "g3IjdR4HEcFa",
        "outputId": "61bc7c1b-b921-4792-d6b3-0d5112a1d150"
      },
      "source": [
        "itemsets_s_2, rules_s_2 = apriori(transactions, min_support=2/N, min_confidence=0.65)\n",
        "df_rules_s_2 = build_df_from_rules(rules_s_2)\n",
        "df_rules_s_2"
      ],
      "execution_count": 102,
      "outputs": [
        {
          "output_type": "execute_result",
          "data": {
            "text/html": [
              "<div>\n",
              "<style scoped>\n",
              "    .dataframe tbody tr th:only-of-type {\n",
              "        vertical-align: middle;\n",
              "    }\n",
              "\n",
              "    .dataframe tbody tr th {\n",
              "        vertical-align: top;\n",
              "    }\n",
              "\n",
              "    .dataframe thead th {\n",
              "        text-align: right;\n",
              "    }\n",
              "</style>\n",
              "<table border=\"1\" class=\"dataframe\">\n",
              "  <thead>\n",
              "    <tr style=\"text-align: right;\">\n",
              "      <th></th>\n",
              "      <th>Supp</th>\n",
              "      <th>Conf</th>\n",
              "      <th>Lift</th>\n",
              "    </tr>\n",
              "    <tr>\n",
              "      <th>Rule</th>\n",
              "      <th></th>\n",
              "      <th></th>\n",
              "      <th></th>\n",
              "    </tr>\n",
              "  </thead>\n",
              "  <tbody>\n",
              "    <tr>\n",
              "      <th>('Cerveza',) -&gt; ('Pañales',)</th>\n",
              "      <td>0.3</td>\n",
              "      <td>0.750000</td>\n",
              "      <td>1.071429</td>\n",
              "    </tr>\n",
              "    <tr>\n",
              "      <th>('Leche',) -&gt; ('Pañales',)</th>\n",
              "      <td>0.4</td>\n",
              "      <td>0.800000</td>\n",
              "      <td>1.142857</td>\n",
              "    </tr>\n",
              "    <tr>\n",
              "      <th>('Pan',) -&gt; ('Mantequilla',)</th>\n",
              "      <td>0.5</td>\n",
              "      <td>1.000000</td>\n",
              "      <td>2.000000</td>\n",
              "    </tr>\n",
              "    <tr>\n",
              "      <th>('Mantequilla',) -&gt; ('Pan',)</th>\n",
              "      <td>0.5</td>\n",
              "      <td>1.000000</td>\n",
              "      <td>2.000000</td>\n",
              "    </tr>\n",
              "    <tr>\n",
              "      <th>('Leche', 'Pan') -&gt; ('Mantequilla',)</th>\n",
              "      <td>0.3</td>\n",
              "      <td>1.000000</td>\n",
              "      <td>2.000000</td>\n",
              "    </tr>\n",
              "    <tr>\n",
              "      <th>('Leche', 'Mantequilla') -&gt; ('Pan',)</th>\n",
              "      <td>0.3</td>\n",
              "      <td>1.000000</td>\n",
              "      <td>2.000000</td>\n",
              "    </tr>\n",
              "    <tr>\n",
              "      <th>('Mantequilla', 'Pañales') -&gt; ('Leche',)</th>\n",
              "      <td>0.2</td>\n",
              "      <td>0.666667</td>\n",
              "      <td>1.333333</td>\n",
              "    </tr>\n",
              "    <tr>\n",
              "      <th>('Leche', 'Mantequilla') -&gt; ('Pañales',)</th>\n",
              "      <td>0.2</td>\n",
              "      <td>0.666667</td>\n",
              "      <td>0.952381</td>\n",
              "    </tr>\n",
              "    <tr>\n",
              "      <th>('Pan', 'Pañales') -&gt; ('Leche',)</th>\n",
              "      <td>0.2</td>\n",
              "      <td>0.666667</td>\n",
              "      <td>1.333333</td>\n",
              "    </tr>\n",
              "    <tr>\n",
              "      <th>('Leche', 'Pan') -&gt; ('Pañales',)</th>\n",
              "      <td>0.2</td>\n",
              "      <td>0.666667</td>\n",
              "      <td>0.952381</td>\n",
              "    </tr>\n",
              "    <tr>\n",
              "      <th>('Pan', 'Pañales') -&gt; ('Mantequilla',)</th>\n",
              "      <td>0.3</td>\n",
              "      <td>1.000000</td>\n",
              "      <td>2.000000</td>\n",
              "    </tr>\n",
              "    <tr>\n",
              "      <th>('Mantequilla', 'Pañales') -&gt; ('Pan',)</th>\n",
              "      <td>0.3</td>\n",
              "      <td>1.000000</td>\n",
              "      <td>2.000000</td>\n",
              "    </tr>\n",
              "    <tr>\n",
              "      <th>('Mantequilla', 'Pan', 'Pañales') -&gt; ('Leche',)</th>\n",
              "      <td>0.2</td>\n",
              "      <td>0.666667</td>\n",
              "      <td>1.333333</td>\n",
              "    </tr>\n",
              "    <tr>\n",
              "      <th>('Leche', 'Pan', 'Pañales') -&gt; ('Mantequilla',)</th>\n",
              "      <td>0.2</td>\n",
              "      <td>1.000000</td>\n",
              "      <td>2.000000</td>\n",
              "    </tr>\n",
              "    <tr>\n",
              "      <th>('Leche', 'Mantequilla', 'Pañales') -&gt; ('Pan',)</th>\n",
              "      <td>0.2</td>\n",
              "      <td>1.000000</td>\n",
              "      <td>2.000000</td>\n",
              "    </tr>\n",
              "    <tr>\n",
              "      <th>('Leche', 'Mantequilla', 'Pan') -&gt; ('Pañales',)</th>\n",
              "      <td>0.2</td>\n",
              "      <td>0.666667</td>\n",
              "      <td>0.952381</td>\n",
              "    </tr>\n",
              "    <tr>\n",
              "      <th>('Pan', 'Pañales') -&gt; ('Leche', 'Mantequilla')</th>\n",
              "      <td>0.2</td>\n",
              "      <td>0.666667</td>\n",
              "      <td>2.222222</td>\n",
              "    </tr>\n",
              "    <tr>\n",
              "      <th>('Mantequilla', 'Pañales') -&gt; ('Leche', 'Pan')</th>\n",
              "      <td>0.2</td>\n",
              "      <td>0.666667</td>\n",
              "      <td>2.222222</td>\n",
              "    </tr>\n",
              "    <tr>\n",
              "      <th>('Leche', 'Pan') -&gt; ('Mantequilla', 'Pañales')</th>\n",
              "      <td>0.2</td>\n",
              "      <td>0.666667</td>\n",
              "      <td>2.222222</td>\n",
              "    </tr>\n",
              "    <tr>\n",
              "      <th>('Leche', 'Mantequilla') -&gt; ('Pan', 'Pañales')</th>\n",
              "      <td>0.2</td>\n",
              "      <td>0.666667</td>\n",
              "      <td>2.222222</td>\n",
              "    </tr>\n",
              "  </tbody>\n",
              "</table>\n",
              "</div>"
            ],
            "text/plain": [
              "                                                 Supp      Conf      Lift\n",
              "Rule                                                                     \n",
              "('Cerveza',) -> ('Pañales',)                      0.3  0.750000  1.071429\n",
              "('Leche',) -> ('Pañales',)                        0.4  0.800000  1.142857\n",
              "('Pan',) -> ('Mantequilla',)                      0.5  1.000000  2.000000\n",
              "('Mantequilla',) -> ('Pan',)                      0.5  1.000000  2.000000\n",
              "('Leche', 'Pan') -> ('Mantequilla',)              0.3  1.000000  2.000000\n",
              "('Leche', 'Mantequilla') -> ('Pan',)              0.3  1.000000  2.000000\n",
              "('Mantequilla', 'Pañales') -> ('Leche',)          0.2  0.666667  1.333333\n",
              "('Leche', 'Mantequilla') -> ('Pañales',)          0.2  0.666667  0.952381\n",
              "('Pan', 'Pañales') -> ('Leche',)                  0.2  0.666667  1.333333\n",
              "('Leche', 'Pan') -> ('Pañales',)                  0.2  0.666667  0.952381\n",
              "('Pan', 'Pañales') -> ('Mantequilla',)            0.3  1.000000  2.000000\n",
              "('Mantequilla', 'Pañales') -> ('Pan',)            0.3  1.000000  2.000000\n",
              "('Mantequilla', 'Pan', 'Pañales') -> ('Leche',)   0.2  0.666667  1.333333\n",
              "('Leche', 'Pan', 'Pañales') -> ('Mantequilla',)   0.2  1.000000  2.000000\n",
              "('Leche', 'Mantequilla', 'Pañales') -> ('Pan',)   0.2  1.000000  2.000000\n",
              "('Leche', 'Mantequilla', 'Pan') -> ('Pañales',)   0.2  0.666667  0.952381\n",
              "('Pan', 'Pañales') -> ('Leche', 'Mantequilla')    0.2  0.666667  2.222222\n",
              "('Mantequilla', 'Pañales') -> ('Leche', 'Pan')    0.2  0.666667  2.222222\n",
              "('Leche', 'Pan') -> ('Mantequilla', 'Pañales')    0.2  0.666667  2.222222\n",
              "('Leche', 'Mantequilla') -> ('Pan', 'Pañales')    0.2  0.666667  2.222222"
            ]
          },
          "metadata": {
            "tags": []
          },
          "execution_count": 102
        }
      ]
    },
    {
      "cell_type": "code",
      "metadata": {
        "colab": {
          "base_uri": "https://localhost:8080/",
          "height": 422
        },
        "id": "5XCW8bvWRcDT",
        "outputId": "27a2f5cb-8abf-4166-9fcf-bfa1489214eb"
      },
      "source": [
        "#Filtramos por Lift y Soporte\n",
        "df_rules_s_2_filt = df_rules_s_2[(df_rules_s_2['Lift'] > 1)]\n",
        "\n",
        "plt.figure(figsize=(10,6))\n",
        "# Add title\n",
        "plt.title(\"Reglas Minadas vs Lift Lift > 1\")\n",
        "sns.barplot(y=df_rules_s_2_filt.index, x=df_rules_s_2_filt['Supp'])\n"
      ],
      "execution_count": 103,
      "outputs": [
        {
          "output_type": "execute_result",
          "data": {
            "text/plain": [
              "<matplotlib.axes._subplots.AxesSubplot at 0x7f1a24c58910>"
            ]
          },
          "metadata": {
            "tags": []
          },
          "execution_count": 103
        },
        {
          "output_type": "display_data",
          "data": {
            "image/png": "[encoded data removed]",
            "text/plain": [
              "<Figure size 720x432 with 1 Axes>"
            ]
          },
          "metadata": {
            "tags": [],
            "needs_background": "light"
          }
        }
      ]
    },
    {
      "cell_type": "code",
      "metadata": {
        "colab": {
          "base_uri": "https://localhost:8080/",
          "height": 677
        },
        "id": "SBmhG-h7N9S5",
        "outputId": "dba4e161-a68f-4387-a991-2cd57a7b1721"
      },
      "source": [
        "itemsets_s_3, rules_s_3 = apriori(transactions, min_support=3/N, min_confidence=0.65)\n",
        "rules_s_3\n",
        "df_rules_s_3 = build_df_from_rules(rules_s_3)\n",
        "df_rules_s_3"
      ],
      "execution_count": 104,
      "outputs": [
        {
          "output_type": "execute_result",
          "data": {
            "text/html": [
              "<div>\n",
              "<style scoped>\n",
              "    .dataframe tbody tr th:only-of-type {\n",
              "        vertical-align: middle;\n",
              "    }\n",
              "\n",
              "    .dataframe tbody tr th {\n",
              "        vertical-align: top;\n",
              "    }\n",
              "\n",
              "    .dataframe thead th {\n",
              "        text-align: right;\n",
              "    }\n",
              "</style>\n",
              "<table border=\"1\" class=\"dataframe\">\n",
              "  <thead>\n",
              "    <tr style=\"text-align: right;\">\n",
              "      <th></th>\n",
              "      <th>Supp</th>\n",
              "      <th>Conf</th>\n",
              "      <th>Lift</th>\n",
              "    </tr>\n",
              "    <tr>\n",
              "      <th>Rule</th>\n",
              "      <th></th>\n",
              "      <th></th>\n",
              "      <th></th>\n",
              "    </tr>\n",
              "  </thead>\n",
              "  <tbody>\n",
              "    <tr>\n",
              "      <th>('Cerveza',) -&gt; ('Pañales',)</th>\n",
              "      <td>0.3</td>\n",
              "      <td>0.750000</td>\n",
              "      <td>1.071429</td>\n",
              "    </tr>\n",
              "    <tr>\n",
              "      <th>('Leche',) -&gt; ('Pañales',)</th>\n",
              "      <td>0.4</td>\n",
              "      <td>0.800000</td>\n",
              "      <td>1.142857</td>\n",
              "    </tr>\n",
              "    <tr>\n",
              "      <th>('Pan',) -&gt; ('Mantequilla',)</th>\n",
              "      <td>0.5</td>\n",
              "      <td>1.000000</td>\n",
              "      <td>2.000000</td>\n",
              "    </tr>\n",
              "    <tr>\n",
              "      <th>('Mantequilla',) -&gt; ('Pan',)</th>\n",
              "      <td>0.5</td>\n",
              "      <td>1.000000</td>\n",
              "      <td>2.000000</td>\n",
              "    </tr>\n",
              "    <tr>\n",
              "      <th>('Leche', 'Pan') -&gt; ('Mantequilla',)</th>\n",
              "      <td>0.3</td>\n",
              "      <td>1.000000</td>\n",
              "      <td>2.000000</td>\n",
              "    </tr>\n",
              "    <tr>\n",
              "      <th>('Leche', 'Mantequilla') -&gt; ('Pan',)</th>\n",
              "      <td>0.3</td>\n",
              "      <td>1.000000</td>\n",
              "      <td>2.000000</td>\n",
              "    </tr>\n",
              "    <tr>\n",
              "      <th>('Mantequilla', 'Pañales') -&gt; ('Leche',)</th>\n",
              "      <td>0.2</td>\n",
              "      <td>0.666667</td>\n",
              "      <td>1.333333</td>\n",
              "    </tr>\n",
              "    <tr>\n",
              "      <th>('Leche', 'Mantequilla') -&gt; ('Pañales',)</th>\n",
              "      <td>0.2</td>\n",
              "      <td>0.666667</td>\n",
              "      <td>0.952381</td>\n",
              "    </tr>\n",
              "    <tr>\n",
              "      <th>('Pan', 'Pañales') -&gt; ('Leche',)</th>\n",
              "      <td>0.2</td>\n",
              "      <td>0.666667</td>\n",
              "      <td>1.333333</td>\n",
              "    </tr>\n",
              "    <tr>\n",
              "      <th>('Leche', 'Pan') -&gt; ('Pañales',)</th>\n",
              "      <td>0.2</td>\n",
              "      <td>0.666667</td>\n",
              "      <td>0.952381</td>\n",
              "    </tr>\n",
              "    <tr>\n",
              "      <th>('Pan', 'Pañales') -&gt; ('Mantequilla',)</th>\n",
              "      <td>0.3</td>\n",
              "      <td>1.000000</td>\n",
              "      <td>2.000000</td>\n",
              "    </tr>\n",
              "    <tr>\n",
              "      <th>('Mantequilla', 'Pañales') -&gt; ('Pan',)</th>\n",
              "      <td>0.3</td>\n",
              "      <td>1.000000</td>\n",
              "      <td>2.000000</td>\n",
              "    </tr>\n",
              "    <tr>\n",
              "      <th>('Mantequilla', 'Pan', 'Pañales') -&gt; ('Leche',)</th>\n",
              "      <td>0.2</td>\n",
              "      <td>0.666667</td>\n",
              "      <td>1.333333</td>\n",
              "    </tr>\n",
              "    <tr>\n",
              "      <th>('Leche', 'Pan', 'Pañales') -&gt; ('Mantequilla',)</th>\n",
              "      <td>0.2</td>\n",
              "      <td>1.000000</td>\n",
              "      <td>2.000000</td>\n",
              "    </tr>\n",
              "    <tr>\n",
              "      <th>('Leche', 'Mantequilla', 'Pañales') -&gt; ('Pan',)</th>\n",
              "      <td>0.2</td>\n",
              "      <td>1.000000</td>\n",
              "      <td>2.000000</td>\n",
              "    </tr>\n",
              "    <tr>\n",
              "      <th>('Leche', 'Mantequilla', 'Pan') -&gt; ('Pañales',)</th>\n",
              "      <td>0.2</td>\n",
              "      <td>0.666667</td>\n",
              "      <td>0.952381</td>\n",
              "    </tr>\n",
              "    <tr>\n",
              "      <th>('Pan', 'Pañales') -&gt; ('Leche', 'Mantequilla')</th>\n",
              "      <td>0.2</td>\n",
              "      <td>0.666667</td>\n",
              "      <td>2.222222</td>\n",
              "    </tr>\n",
              "    <tr>\n",
              "      <th>('Mantequilla', 'Pañales') -&gt; ('Leche', 'Pan')</th>\n",
              "      <td>0.2</td>\n",
              "      <td>0.666667</td>\n",
              "      <td>2.222222</td>\n",
              "    </tr>\n",
              "    <tr>\n",
              "      <th>('Leche', 'Pan') -&gt; ('Mantequilla', 'Pañales')</th>\n",
              "      <td>0.2</td>\n",
              "      <td>0.666667</td>\n",
              "      <td>2.222222</td>\n",
              "    </tr>\n",
              "    <tr>\n",
              "      <th>('Leche', 'Mantequilla') -&gt; ('Pan', 'Pañales')</th>\n",
              "      <td>0.2</td>\n",
              "      <td>0.666667</td>\n",
              "      <td>2.222222</td>\n",
              "    </tr>\n",
              "  </tbody>\n",
              "</table>\n",
              "</div>"
            ],
            "text/plain": [
              "                                                 Supp      Conf      Lift\n",
              "Rule                                                                     \n",
              "('Cerveza',) -> ('Pañales',)                      0.3  0.750000  1.071429\n",
              "('Leche',) -> ('Pañales',)                        0.4  0.800000  1.142857\n",
              "('Pan',) -> ('Mantequilla',)                      0.5  1.000000  2.000000\n",
              "('Mantequilla',) -> ('Pan',)                      0.5  1.000000  2.000000\n",
              "('Leche', 'Pan') -> ('Mantequilla',)              0.3  1.000000  2.000000\n",
              "('Leche', 'Mantequilla') -> ('Pan',)              0.3  1.000000  2.000000\n",
              "('Mantequilla', 'Pañales') -> ('Leche',)          0.2  0.666667  1.333333\n",
              "('Leche', 'Mantequilla') -> ('Pañales',)          0.2  0.666667  0.952381\n",
              "('Pan', 'Pañales') -> ('Leche',)                  0.2  0.666667  1.333333\n",
              "('Leche', 'Pan') -> ('Pañales',)                  0.2  0.666667  0.952381\n",
              "('Pan', 'Pañales') -> ('Mantequilla',)            0.3  1.000000  2.000000\n",
              "('Mantequilla', 'Pañales') -> ('Pan',)            0.3  1.000000  2.000000\n",
              "('Mantequilla', 'Pan', 'Pañales') -> ('Leche',)   0.2  0.666667  1.333333\n",
              "('Leche', 'Pan', 'Pañales') -> ('Mantequilla',)   0.2  1.000000  2.000000\n",
              "('Leche', 'Mantequilla', 'Pañales') -> ('Pan',)   0.2  1.000000  2.000000\n",
              "('Leche', 'Mantequilla', 'Pan') -> ('Pañales',)   0.2  0.666667  0.952381\n",
              "('Pan', 'Pañales') -> ('Leche', 'Mantequilla')    0.2  0.666667  2.222222\n",
              "('Mantequilla', 'Pañales') -> ('Leche', 'Pan')    0.2  0.666667  2.222222\n",
              "('Leche', 'Pan') -> ('Mantequilla', 'Pañales')    0.2  0.666667  2.222222\n",
              "('Leche', 'Mantequilla') -> ('Pan', 'Pañales')    0.2  0.666667  2.222222"
            ]
          },
          "metadata": {
            "tags": []
          },
          "execution_count": 104
        }
      ]
    },
    {
      "cell_type": "code",
      "metadata": {
        "colab": {
          "base_uri": "https://localhost:8080/",
          "height": 422
        },
        "id": "HzTlMM50fZzl",
        "outputId": "86ba8c7c-8d62-4a7e-9e5c-6bbb37ee4a00"
      },
      "source": [
        "#Filtramos por Lift y Soporte\n",
        "df_rules_s_3_filt = df_rules_s_2[(df_rules_s_2['Lift'] > 1)]\n",
        "\n",
        "plt.figure(figsize=(10,6))\n",
        "# Add title\n",
        "plt.title(\"Reglas Minadas vs Lift, Lift > 1 \")\n",
        "sns.barplot(y=df_rules_s_3_filt.index, x=df_rules_s_3_filt['Lift'])"
      ],
      "execution_count": 105,
      "outputs": [
        {
          "output_type": "execute_result",
          "data": {
            "text/plain": [
              "<matplotlib.axes._subplots.AxesSubplot at 0x7f1a24bbd810>"
            ]
          },
          "metadata": {
            "tags": []
          },
          "execution_count": 105
        },
        {
          "output_type": "display_data",
          "data": {
            "image/png": "[encoded data removed]",
            "text/plain": [
              "<Figure size 720x432 with 1 Axes>"
            ]
          },
          "metadata": {
            "tags": [],
            "needs_background": "light"
          }
        }
      ]
    },
    {
      "cell_type": "markdown",
      "metadata": {
        "id": "15vZu4r-P4MF"
      },
      "source": [
        "## 9. \n",
        "\n",
        "Importe el conjunto de datos credit-german.csv ([repositorio de machinelearning](https://archive.ics.uci.edu/ml/datasets/statlog+(german+credit+data))). Discretice los atributos numéricos en máximo 5 bins de igual tamaño. Aplique el algoritmo de reglas de asociación a este conjunto. Interprete las reglas producidas. Varíe los valores de soporte y de confianza ¿Qué sucede? Interprete las reglas producidas y escoja las que en su concepto son las más interesantes para el problema (justifíque)."
      ]
    },
    {
      "cell_type": "code",
      "metadata": {
        "colab": {
          "base_uri": "https://localhost:8080/"
        },
        "id": "e1dzhrvx1Qkz",
        "outputId": "d7780b9f-ac28-41e7-b751-63475711a119"
      },
      "source": [
        "!wget 'https://archive.ics.uci.edu/ml/machine-learning-databases/statlog/german/german.data-numeric'"
      ],
      "execution_count": 106,
      "outputs": [
        {
          "output_type": "stream",
          "text": [
            "--2021-05-01 02:30:37--  https://archive.ics.uci.edu/ml/machine-learning-databases/statlog/german/german.data-numeric\n",
            "Resolving archive.ics.uci.edu (archive.ics.uci.edu)... 128.195.10.252\n",
            "Connecting to archive.ics.uci.edu (archive.ics.uci.edu)|128.195.10.252|:443... connected.\n",
            "HTTP request sent, awaiting response... 200 OK\n",
            "Length: 102000 (100K) [application/x-httpd-php]\n",
            "Saving to: ‘german.data-numeric.1’\n",
            "\n",
            "\rgerman.data-numeric   0%[                    ]       0  --.-KB/s               \rgerman.data-numeric 100%[===================>]  99.61K  --.-KB/s    in 0.03s   \n",
            "\n",
            "2021-05-01 02:30:37 (3.39 MB/s) - ‘german.data-numeric.1’ saved [102000/102000]\n",
            "\n"
          ],
          "name": "stdout"
        }
      ]
    },
    {
      "cell_type": "code",
      "metadata": {
        "id": "hWvMewql4MWB"
      },
      "source": [
        "#!cat german.data-numeric"
      ],
      "execution_count": 107,
      "outputs": []
    },
    {
      "cell_type": "code",
      "metadata": {
        "colab": {
          "base_uri": "https://localhost:8080/"
        },
        "id": "3rYMtz1z5FJb",
        "outputId": "4c2e2ea8-4fba-4b47-89f9-6b58ddff3964"
      },
      "source": [
        "\n",
        "credit = np.genfromtxt('german.data-numeric')\n",
        "#X,y = credit[:,:-1], credit[:,-1:].squeeze()\n",
        "credit"
      ],
      "execution_count": 108,
      "outputs": [
        {
          "output_type": "execute_result",
          "data": {
            "text/plain": [
              "array([[ 1.,  6.,  4., ...,  0.,  1.,  1.],\n",
              "       [ 2., 48.,  2., ...,  0.,  1.,  2.],\n",
              "       [ 4., 12.,  4., ...,  1.,  0.,  1.],\n",
              "       ...,\n",
              "       [ 4., 12.,  2., ...,  0.,  1.,  1.],\n",
              "       [ 1., 45.,  2., ...,  0.,  1.,  2.],\n",
              "       [ 2., 45.,  4., ...,  0.,  1.,  1.]])"
            ]
          },
          "metadata": {
            "tags": []
          },
          "execution_count": 108
        }
      ]
    },
    {
      "cell_type": "code",
      "metadata": {
        "id": "PxXl3_Gh7NU_"
      },
      "source": [
        "# https://scikit-learn.org/stable/modules/generated/sklearn.preprocessing.KBinsDiscretizer.html\n",
        "#  Discretice los atributos numéricos en máximo 5 bins de igual tamaño\n",
        "discretizer = preprocessing.KBinsDiscretizer(n_bins=5, encode='onehot', strategy='uniform')\n"
      ],
      "execution_count": 109,
      "outputs": []
    },
    {
      "cell_type": "code",
      "metadata": {
        "id": "xw9XkfZd-kAE"
      },
      "source": [
        "# https://scikit-learn.org/stable/modules/generated/sklearn.compose.ColumnTransformer.html#sklearn.compose.ColumnTransformer\n",
        "# las columnas 1, 3, 9 serán discretizadas en maximo 5 bins\n",
        "all_cols =  [i for i in range(0, 25, 1)] \n",
        "cols_to_discretize = [1, 3, 9]\n",
        "cols_to_ignore = list(filter(lambda i: not i in cols_to_discretize, all_cols))\n",
        "\n",
        "'''\n",
        "ct = ColumnTransformer([('nbin', discretizer, cols_to_discretize),\n",
        "                        ('passthrough',  'passthrough', cols_to_ignore) ])\n",
        "'''\n",
        "\n",
        "ct = ColumnTransformer([('nbin', discretizer, all_cols)])"
      ],
      "execution_count": 110,
      "outputs": []
    },
    {
      "cell_type": "code",
      "metadata": {
        "colab": {
          "base_uri": "https://localhost:8080/"
        },
        "id": "WlXr3-l2BIyt",
        "outputId": "f6c247eb-770b-434c-81da-0a4753ac407c"
      },
      "source": [
        "credit_disc = ct.fit_transform(credit)\n",
        "credit_disc"
      ],
      "execution_count": 111,
      "outputs": [
        {
          "output_type": "execute_result",
          "data": {
            "text/plain": [
              "<1000x125 sparse matrix of type '<class 'numpy.float64'>'\n",
              "\twith 25000 stored elements in Compressed Sparse Row format>"
            ]
          },
          "metadata": {
            "tags": []
          },
          "execution_count": 111
        }
      ]
    },
    {
      "cell_type": "code",
      "metadata": {
        "id": "yD0T3h1L-rNi"
      },
      "source": [
        "headers = []\n",
        "for a in range(1,26):\n",
        "  for i in range(5):\n",
        "    headers.append(f'A{a}_{i}')"
      ],
      "execution_count": 112,
      "outputs": []
    },
    {
      "cell_type": "code",
      "metadata": {
        "colab": {
          "base_uri": "https://localhost:8080/",
          "height": 426
        },
        "id": "oqkweDoD_jQP",
        "outputId": "7e5193c0-d9ac-4176-de8e-067c9d175940"
      },
      "source": [
        "df_credit_disc = pd.DataFrame.sparse.from_spmatrix(credit_disc, columns=headers, index=range(1000))\n",
        "df_credit_disc"
      ],
      "execution_count": 113,
      "outputs": [
        {
          "output_type": "execute_result",
          "data": {
            "text/html": [
              "<div>\n",
              "<style scoped>\n",
              "    .dataframe tbody tr th:only-of-type {\n",
              "        vertical-align: middle;\n",
              "    }\n",
              "\n",
              "    .dataframe tbody tr th {\n",
              "        vertical-align: top;\n",
              "    }\n",
              "\n",
              "    .dataframe thead th {\n",
              "        text-align: right;\n",
              "    }\n",
              "</style>\n",
              "<table border=\"1\" class=\"dataframe\">\n",
              "  <thead>\n",
              "    <tr style=\"text-align: right;\">\n",
              "      <th></th>\n",
              "      <th>A1_0</th>\n",
              "      <th>A1_1</th>\n",
              "      <th>A1_2</th>\n",
              "      <th>A1_3</th>\n",
              "      <th>A1_4</th>\n",
              "      <th>A2_0</th>\n",
              "      <th>A2_1</th>\n",
              "      <th>A2_2</th>\n",
              "      <th>A2_3</th>\n",
              "      <th>A2_4</th>\n",
              "      <th>A3_0</th>\n",
              "      <th>A3_1</th>\n",
              "      <th>A3_2</th>\n",
              "      <th>A3_3</th>\n",
              "      <th>A3_4</th>\n",
              "      <th>A4_0</th>\n",
              "      <th>A4_1</th>\n",
              "      <th>A4_2</th>\n",
              "      <th>A4_3</th>\n",
              "      <th>A4_4</th>\n",
              "      <th>A5_0</th>\n",
              "      <th>A5_1</th>\n",
              "      <th>A5_2</th>\n",
              "      <th>A5_3</th>\n",
              "      <th>A5_4</th>\n",
              "      <th>A6_0</th>\n",
              "      <th>A6_1</th>\n",
              "      <th>A6_2</th>\n",
              "      <th>A6_3</th>\n",
              "      <th>A6_4</th>\n",
              "      <th>A7_0</th>\n",
              "      <th>A7_1</th>\n",
              "      <th>A7_2</th>\n",
              "      <th>A7_3</th>\n",
              "      <th>A7_4</th>\n",
              "      <th>A8_0</th>\n",
              "      <th>A8_1</th>\n",
              "      <th>A8_2</th>\n",
              "      <th>A8_3</th>\n",
              "      <th>A8_4</th>\n",
              "      <th>...</th>\n",
              "      <th>A18_0</th>\n",
              "      <th>A18_1</th>\n",
              "      <th>A18_2</th>\n",
              "      <th>A18_3</th>\n",
              "      <th>A18_4</th>\n",
              "      <th>A19_0</th>\n",
              "      <th>A19_1</th>\n",
              "      <th>A19_2</th>\n",
              "      <th>A19_3</th>\n",
              "      <th>A19_4</th>\n",
              "      <th>A20_0</th>\n",
              "      <th>A20_1</th>\n",
              "      <th>A20_2</th>\n",
              "      <th>A20_3</th>\n",
              "      <th>A20_4</th>\n",
              "      <th>A21_0</th>\n",
              "      <th>A21_1</th>\n",
              "      <th>A21_2</th>\n",
              "      <th>A21_3</th>\n",
              "      <th>A21_4</th>\n",
              "      <th>A22_0</th>\n",
              "      <th>A22_1</th>\n",
              "      <th>A22_2</th>\n",
              "      <th>A22_3</th>\n",
              "      <th>A22_4</th>\n",
              "      <th>A23_0</th>\n",
              "      <th>A23_1</th>\n",
              "      <th>A23_2</th>\n",
              "      <th>A23_3</th>\n",
              "      <th>A23_4</th>\n",
              "      <th>A24_0</th>\n",
              "      <th>A24_1</th>\n",
              "      <th>A24_2</th>\n",
              "      <th>A24_3</th>\n",
              "      <th>A24_4</th>\n",
              "      <th>A25_0</th>\n",
              "      <th>A25_1</th>\n",
              "      <th>A25_2</th>\n",
              "      <th>A25_3</th>\n",
              "      <th>A25_4</th>\n",
              "    </tr>\n",
              "  </thead>\n",
              "  <tbody>\n",
              "    <tr>\n",
              "      <th>0</th>\n",
              "      <td>1.0</td>\n",
              "      <td>0.0</td>\n",
              "      <td>0.0</td>\n",
              "      <td>0.0</td>\n",
              "      <td>0.0</td>\n",
              "      <td>1.0</td>\n",
              "      <td>0.0</td>\n",
              "      <td>0.0</td>\n",
              "      <td>0.0</td>\n",
              "      <td>0.0</td>\n",
              "      <td>0.0</td>\n",
              "      <td>0.0</td>\n",
              "      <td>0.0</td>\n",
              "      <td>0.0</td>\n",
              "      <td>1.0</td>\n",
              "      <td>1.0</td>\n",
              "      <td>0.0</td>\n",
              "      <td>0.0</td>\n",
              "      <td>0.0</td>\n",
              "      <td>0.0</td>\n",
              "      <td>0.0</td>\n",
              "      <td>0.0</td>\n",
              "      <td>0.0</td>\n",
              "      <td>0.0</td>\n",
              "      <td>1.0</td>\n",
              "      <td>0.0</td>\n",
              "      <td>0.0</td>\n",
              "      <td>0.0</td>\n",
              "      <td>0.0</td>\n",
              "      <td>1.0</td>\n",
              "      <td>0.0</td>\n",
              "      <td>0.0</td>\n",
              "      <td>0.0</td>\n",
              "      <td>1.0</td>\n",
              "      <td>0.0</td>\n",
              "      <td>0.0</td>\n",
              "      <td>0.0</td>\n",
              "      <td>0.0</td>\n",
              "      <td>0.0</td>\n",
              "      <td>1.0</td>\n",
              "      <td>...</td>\n",
              "      <td>0.0</td>\n",
              "      <td>0.0</td>\n",
              "      <td>0.0</td>\n",
              "      <td>0.0</td>\n",
              "      <td>1.0</td>\n",
              "      <td>1.0</td>\n",
              "      <td>0.0</td>\n",
              "      <td>0.0</td>\n",
              "      <td>0.0</td>\n",
              "      <td>0.0</td>\n",
              "      <td>1.0</td>\n",
              "      <td>0.0</td>\n",
              "      <td>0.0</td>\n",
              "      <td>0.0</td>\n",
              "      <td>0.0</td>\n",
              "      <td>0.0</td>\n",
              "      <td>0.0</td>\n",
              "      <td>0.0</td>\n",
              "      <td>0.0</td>\n",
              "      <td>1.0</td>\n",
              "      <td>1.0</td>\n",
              "      <td>0.0</td>\n",
              "      <td>0.0</td>\n",
              "      <td>0.0</td>\n",
              "      <td>0.0</td>\n",
              "      <td>1.0</td>\n",
              "      <td>0.0</td>\n",
              "      <td>0.0</td>\n",
              "      <td>0.0</td>\n",
              "      <td>0.0</td>\n",
              "      <td>0.0</td>\n",
              "      <td>0.0</td>\n",
              "      <td>0.0</td>\n",
              "      <td>0.0</td>\n",
              "      <td>1.0</td>\n",
              "      <td>1.0</td>\n",
              "      <td>0.0</td>\n",
              "      <td>0.0</td>\n",
              "      <td>0.0</td>\n",
              "      <td>0.0</td>\n",
              "    </tr>\n",
              "    <tr>\n",
              "      <th>1</th>\n",
              "      <td>0.0</td>\n",
              "      <td>1.0</td>\n",
              "      <td>0.0</td>\n",
              "      <td>0.0</td>\n",
              "      <td>0.0</td>\n",
              "      <td>0.0</td>\n",
              "      <td>0.0</td>\n",
              "      <td>0.0</td>\n",
              "      <td>1.0</td>\n",
              "      <td>0.0</td>\n",
              "      <td>0.0</td>\n",
              "      <td>0.0</td>\n",
              "      <td>1.0</td>\n",
              "      <td>0.0</td>\n",
              "      <td>0.0</td>\n",
              "      <td>0.0</td>\n",
              "      <td>1.0</td>\n",
              "      <td>0.0</td>\n",
              "      <td>0.0</td>\n",
              "      <td>0.0</td>\n",
              "      <td>1.0</td>\n",
              "      <td>0.0</td>\n",
              "      <td>0.0</td>\n",
              "      <td>0.0</td>\n",
              "      <td>0.0</td>\n",
              "      <td>0.0</td>\n",
              "      <td>0.0</td>\n",
              "      <td>1.0</td>\n",
              "      <td>0.0</td>\n",
              "      <td>0.0</td>\n",
              "      <td>0.0</td>\n",
              "      <td>1.0</td>\n",
              "      <td>0.0</td>\n",
              "      <td>0.0</td>\n",
              "      <td>0.0</td>\n",
              "      <td>0.0</td>\n",
              "      <td>1.0</td>\n",
              "      <td>0.0</td>\n",
              "      <td>0.0</td>\n",
              "      <td>0.0</td>\n",
              "      <td>...</td>\n",
              "      <td>0.0</td>\n",
              "      <td>0.0</td>\n",
              "      <td>0.0</td>\n",
              "      <td>0.0</td>\n",
              "      <td>1.0</td>\n",
              "      <td>1.0</td>\n",
              "      <td>0.0</td>\n",
              "      <td>0.0</td>\n",
              "      <td>0.0</td>\n",
              "      <td>0.0</td>\n",
              "      <td>1.0</td>\n",
              "      <td>0.0</td>\n",
              "      <td>0.0</td>\n",
              "      <td>0.0</td>\n",
              "      <td>0.0</td>\n",
              "      <td>0.0</td>\n",
              "      <td>0.0</td>\n",
              "      <td>0.0</td>\n",
              "      <td>0.0</td>\n",
              "      <td>1.0</td>\n",
              "      <td>1.0</td>\n",
              "      <td>0.0</td>\n",
              "      <td>0.0</td>\n",
              "      <td>0.0</td>\n",
              "      <td>0.0</td>\n",
              "      <td>1.0</td>\n",
              "      <td>0.0</td>\n",
              "      <td>0.0</td>\n",
              "      <td>0.0</td>\n",
              "      <td>0.0</td>\n",
              "      <td>0.0</td>\n",
              "      <td>0.0</td>\n",
              "      <td>0.0</td>\n",
              "      <td>0.0</td>\n",
              "      <td>1.0</td>\n",
              "      <td>0.0</td>\n",
              "      <td>0.0</td>\n",
              "      <td>0.0</td>\n",
              "      <td>0.0</td>\n",
              "      <td>1.0</td>\n",
              "    </tr>\n",
              "    <tr>\n",
              "      <th>2</th>\n",
              "      <td>0.0</td>\n",
              "      <td>0.0</td>\n",
              "      <td>0.0</td>\n",
              "      <td>0.0</td>\n",
              "      <td>1.0</td>\n",
              "      <td>1.0</td>\n",
              "      <td>0.0</td>\n",
              "      <td>0.0</td>\n",
              "      <td>0.0</td>\n",
              "      <td>0.0</td>\n",
              "      <td>0.0</td>\n",
              "      <td>0.0</td>\n",
              "      <td>0.0</td>\n",
              "      <td>0.0</td>\n",
              "      <td>1.0</td>\n",
              "      <td>1.0</td>\n",
              "      <td>0.0</td>\n",
              "      <td>0.0</td>\n",
              "      <td>0.0</td>\n",
              "      <td>0.0</td>\n",
              "      <td>1.0</td>\n",
              "      <td>0.0</td>\n",
              "      <td>0.0</td>\n",
              "      <td>0.0</td>\n",
              "      <td>0.0</td>\n",
              "      <td>0.0</td>\n",
              "      <td>0.0</td>\n",
              "      <td>0.0</td>\n",
              "      <td>1.0</td>\n",
              "      <td>0.0</td>\n",
              "      <td>0.0</td>\n",
              "      <td>0.0</td>\n",
              "      <td>0.0</td>\n",
              "      <td>1.0</td>\n",
              "      <td>0.0</td>\n",
              "      <td>0.0</td>\n",
              "      <td>0.0</td>\n",
              "      <td>0.0</td>\n",
              "      <td>1.0</td>\n",
              "      <td>0.0</td>\n",
              "      <td>...</td>\n",
              "      <td>0.0</td>\n",
              "      <td>0.0</td>\n",
              "      <td>0.0</td>\n",
              "      <td>0.0</td>\n",
              "      <td>1.0</td>\n",
              "      <td>1.0</td>\n",
              "      <td>0.0</td>\n",
              "      <td>0.0</td>\n",
              "      <td>0.0</td>\n",
              "      <td>0.0</td>\n",
              "      <td>1.0</td>\n",
              "      <td>0.0</td>\n",
              "      <td>0.0</td>\n",
              "      <td>0.0</td>\n",
              "      <td>0.0</td>\n",
              "      <td>0.0</td>\n",
              "      <td>0.0</td>\n",
              "      <td>0.0</td>\n",
              "      <td>0.0</td>\n",
              "      <td>1.0</td>\n",
              "      <td>1.0</td>\n",
              "      <td>0.0</td>\n",
              "      <td>0.0</td>\n",
              "      <td>0.0</td>\n",
              "      <td>0.0</td>\n",
              "      <td>0.0</td>\n",
              "      <td>0.0</td>\n",
              "      <td>0.0</td>\n",
              "      <td>0.0</td>\n",
              "      <td>1.0</td>\n",
              "      <td>1.0</td>\n",
              "      <td>0.0</td>\n",
              "      <td>0.0</td>\n",
              "      <td>0.0</td>\n",
              "      <td>0.0</td>\n",
              "      <td>1.0</td>\n",
              "      <td>0.0</td>\n",
              "      <td>0.0</td>\n",
              "      <td>0.0</td>\n",
              "      <td>0.0</td>\n",
              "    </tr>\n",
              "    <tr>\n",
              "      <th>3</th>\n",
              "      <td>1.0</td>\n",
              "      <td>0.0</td>\n",
              "      <td>0.0</td>\n",
              "      <td>0.0</td>\n",
              "      <td>0.0</td>\n",
              "      <td>0.0</td>\n",
              "      <td>0.0</td>\n",
              "      <td>1.0</td>\n",
              "      <td>0.0</td>\n",
              "      <td>0.0</td>\n",
              "      <td>0.0</td>\n",
              "      <td>0.0</td>\n",
              "      <td>1.0</td>\n",
              "      <td>0.0</td>\n",
              "      <td>0.0</td>\n",
              "      <td>0.0</td>\n",
              "      <td>0.0</td>\n",
              "      <td>1.0</td>\n",
              "      <td>0.0</td>\n",
              "      <td>0.0</td>\n",
              "      <td>1.0</td>\n",
              "      <td>0.0</td>\n",
              "      <td>0.0</td>\n",
              "      <td>0.0</td>\n",
              "      <td>0.0</td>\n",
              "      <td>0.0</td>\n",
              "      <td>0.0</td>\n",
              "      <td>0.0</td>\n",
              "      <td>1.0</td>\n",
              "      <td>0.0</td>\n",
              "      <td>0.0</td>\n",
              "      <td>0.0</td>\n",
              "      <td>0.0</td>\n",
              "      <td>1.0</td>\n",
              "      <td>0.0</td>\n",
              "      <td>0.0</td>\n",
              "      <td>0.0</td>\n",
              "      <td>0.0</td>\n",
              "      <td>0.0</td>\n",
              "      <td>1.0</td>\n",
              "      <td>...</td>\n",
              "      <td>1.0</td>\n",
              "      <td>0.0</td>\n",
              "      <td>0.0</td>\n",
              "      <td>0.0</td>\n",
              "      <td>0.0</td>\n",
              "      <td>1.0</td>\n",
              "      <td>0.0</td>\n",
              "      <td>0.0</td>\n",
              "      <td>0.0</td>\n",
              "      <td>0.0</td>\n",
              "      <td>1.0</td>\n",
              "      <td>0.0</td>\n",
              "      <td>0.0</td>\n",
              "      <td>0.0</td>\n",
              "      <td>0.0</td>\n",
              "      <td>1.0</td>\n",
              "      <td>0.0</td>\n",
              "      <td>0.0</td>\n",
              "      <td>0.0</td>\n",
              "      <td>0.0</td>\n",
              "      <td>1.0</td>\n",
              "      <td>0.0</td>\n",
              "      <td>0.0</td>\n",
              "      <td>0.0</td>\n",
              "      <td>0.0</td>\n",
              "      <td>1.0</td>\n",
              "      <td>0.0</td>\n",
              "      <td>0.0</td>\n",
              "      <td>0.0</td>\n",
              "      <td>0.0</td>\n",
              "      <td>0.0</td>\n",
              "      <td>0.0</td>\n",
              "      <td>0.0</td>\n",
              "      <td>0.0</td>\n",
              "      <td>1.0</td>\n",
              "      <td>1.0</td>\n",
              "      <td>0.0</td>\n",
              "      <td>0.0</td>\n",
              "      <td>0.0</td>\n",
              "      <td>0.0</td>\n",
              "    </tr>\n",
              "    <tr>\n",
              "      <th>4</th>\n",
              "      <td>1.0</td>\n",
              "      <td>0.0</td>\n",
              "      <td>0.0</td>\n",
              "      <td>0.0</td>\n",
              "      <td>0.0</td>\n",
              "      <td>0.0</td>\n",
              "      <td>1.0</td>\n",
              "      <td>0.0</td>\n",
              "      <td>0.0</td>\n",
              "      <td>0.0</td>\n",
              "      <td>0.0</td>\n",
              "      <td>0.0</td>\n",
              "      <td>0.0</td>\n",
              "      <td>1.0</td>\n",
              "      <td>0.0</td>\n",
              "      <td>0.0</td>\n",
              "      <td>1.0</td>\n",
              "      <td>0.0</td>\n",
              "      <td>0.0</td>\n",
              "      <td>0.0</td>\n",
              "      <td>1.0</td>\n",
              "      <td>0.0</td>\n",
              "      <td>0.0</td>\n",
              "      <td>0.0</td>\n",
              "      <td>0.0</td>\n",
              "      <td>0.0</td>\n",
              "      <td>0.0</td>\n",
              "      <td>1.0</td>\n",
              "      <td>0.0</td>\n",
              "      <td>0.0</td>\n",
              "      <td>0.0</td>\n",
              "      <td>0.0</td>\n",
              "      <td>0.0</td>\n",
              "      <td>1.0</td>\n",
              "      <td>0.0</td>\n",
              "      <td>0.0</td>\n",
              "      <td>0.0</td>\n",
              "      <td>0.0</td>\n",
              "      <td>0.0</td>\n",
              "      <td>1.0</td>\n",
              "      <td>...</td>\n",
              "      <td>0.0</td>\n",
              "      <td>0.0</td>\n",
              "      <td>0.0</td>\n",
              "      <td>0.0</td>\n",
              "      <td>1.0</td>\n",
              "      <td>1.0</td>\n",
              "      <td>0.0</td>\n",
              "      <td>0.0</td>\n",
              "      <td>0.0</td>\n",
              "      <td>0.0</td>\n",
              "      <td>1.0</td>\n",
              "      <td>0.0</td>\n",
              "      <td>0.0</td>\n",
              "      <td>0.0</td>\n",
              "      <td>0.0</td>\n",
              "      <td>1.0</td>\n",
              "      <td>0.0</td>\n",
              "      <td>0.0</td>\n",
              "      <td>0.0</td>\n",
              "      <td>0.0</td>\n",
              "      <td>1.0</td>\n",
              "      <td>0.0</td>\n",
              "      <td>0.0</td>\n",
              "      <td>0.0</td>\n",
              "      <td>0.0</td>\n",
              "      <td>1.0</td>\n",
              "      <td>0.0</td>\n",
              "      <td>0.0</td>\n",
              "      <td>0.0</td>\n",
              "      <td>0.0</td>\n",
              "      <td>0.0</td>\n",
              "      <td>0.0</td>\n",
              "      <td>0.0</td>\n",
              "      <td>0.0</td>\n",
              "      <td>1.0</td>\n",
              "      <td>0.0</td>\n",
              "      <td>0.0</td>\n",
              "      <td>0.0</td>\n",
              "      <td>0.0</td>\n",
              "      <td>1.0</td>\n",
              "    </tr>\n",
              "    <tr>\n",
              "      <th>...</th>\n",
              "      <td>...</td>\n",
              "      <td>...</td>\n",
              "      <td>...</td>\n",
              "      <td>...</td>\n",
              "      <td>...</td>\n",
              "      <td>...</td>\n",
              "      <td>...</td>\n",
              "      <td>...</td>\n",
              "      <td>...</td>\n",
              "      <td>...</td>\n",
              "      <td>...</td>\n",
              "      <td>...</td>\n",
              "      <td>...</td>\n",
              "      <td>...</td>\n",
              "      <td>...</td>\n",
              "      <td>...</td>\n",
              "      <td>...</td>\n",
              "      <td>...</td>\n",
              "      <td>...</td>\n",
              "      <td>...</td>\n",
              "      <td>...</td>\n",
              "      <td>...</td>\n",
              "      <td>...</td>\n",
              "      <td>...</td>\n",
              "      <td>...</td>\n",
              "      <td>...</td>\n",
              "      <td>...</td>\n",
              "      <td>...</td>\n",
              "      <td>...</td>\n",
              "      <td>...</td>\n",
              "      <td>...</td>\n",
              "      <td>...</td>\n",
              "      <td>...</td>\n",
              "      <td>...</td>\n",
              "      <td>...</td>\n",
              "      <td>...</td>\n",
              "      <td>...</td>\n",
              "      <td>...</td>\n",
              "      <td>...</td>\n",
              "      <td>...</td>\n",
              "      <td>...</td>\n",
              "      <td>...</td>\n",
              "      <td>...</td>\n",
              "      <td>...</td>\n",
              "      <td>...</td>\n",
              "      <td>...</td>\n",
              "      <td>...</td>\n",
              "      <td>...</td>\n",
              "      <td>...</td>\n",
              "      <td>...</td>\n",
              "      <td>...</td>\n",
              "      <td>...</td>\n",
              "      <td>...</td>\n",
              "      <td>...</td>\n",
              "      <td>...</td>\n",
              "      <td>...</td>\n",
              "      <td>...</td>\n",
              "      <td>...</td>\n",
              "      <td>...</td>\n",
              "      <td>...</td>\n",
              "      <td>...</td>\n",
              "      <td>...</td>\n",
              "      <td>...</td>\n",
              "      <td>...</td>\n",
              "      <td>...</td>\n",
              "      <td>...</td>\n",
              "      <td>...</td>\n",
              "      <td>...</td>\n",
              "      <td>...</td>\n",
              "      <td>...</td>\n",
              "      <td>...</td>\n",
              "      <td>...</td>\n",
              "      <td>...</td>\n",
              "      <td>...</td>\n",
              "      <td>...</td>\n",
              "      <td>...</td>\n",
              "      <td>...</td>\n",
              "      <td>...</td>\n",
              "      <td>...</td>\n",
              "      <td>...</td>\n",
              "      <td>...</td>\n",
              "    </tr>\n",
              "    <tr>\n",
              "      <th>995</th>\n",
              "      <td>0.0</td>\n",
              "      <td>0.0</td>\n",
              "      <td>0.0</td>\n",
              "      <td>0.0</td>\n",
              "      <td>1.0</td>\n",
              "      <td>1.0</td>\n",
              "      <td>0.0</td>\n",
              "      <td>0.0</td>\n",
              "      <td>0.0</td>\n",
              "      <td>0.0</td>\n",
              "      <td>0.0</td>\n",
              "      <td>0.0</td>\n",
              "      <td>1.0</td>\n",
              "      <td>0.0</td>\n",
              "      <td>0.0</td>\n",
              "      <td>1.0</td>\n",
              "      <td>0.0</td>\n",
              "      <td>0.0</td>\n",
              "      <td>0.0</td>\n",
              "      <td>0.0</td>\n",
              "      <td>1.0</td>\n",
              "      <td>0.0</td>\n",
              "      <td>0.0</td>\n",
              "      <td>0.0</td>\n",
              "      <td>0.0</td>\n",
              "      <td>0.0</td>\n",
              "      <td>0.0</td>\n",
              "      <td>0.0</td>\n",
              "      <td>1.0</td>\n",
              "      <td>0.0</td>\n",
              "      <td>0.0</td>\n",
              "      <td>1.0</td>\n",
              "      <td>0.0</td>\n",
              "      <td>0.0</td>\n",
              "      <td>0.0</td>\n",
              "      <td>0.0</td>\n",
              "      <td>0.0</td>\n",
              "      <td>0.0</td>\n",
              "      <td>0.0</td>\n",
              "      <td>1.0</td>\n",
              "      <td>...</td>\n",
              "      <td>0.0</td>\n",
              "      <td>0.0</td>\n",
              "      <td>0.0</td>\n",
              "      <td>0.0</td>\n",
              "      <td>1.0</td>\n",
              "      <td>1.0</td>\n",
              "      <td>0.0</td>\n",
              "      <td>0.0</td>\n",
              "      <td>0.0</td>\n",
              "      <td>0.0</td>\n",
              "      <td>1.0</td>\n",
              "      <td>0.0</td>\n",
              "      <td>0.0</td>\n",
              "      <td>0.0</td>\n",
              "      <td>0.0</td>\n",
              "      <td>0.0</td>\n",
              "      <td>0.0</td>\n",
              "      <td>0.0</td>\n",
              "      <td>0.0</td>\n",
              "      <td>1.0</td>\n",
              "      <td>1.0</td>\n",
              "      <td>0.0</td>\n",
              "      <td>0.0</td>\n",
              "      <td>0.0</td>\n",
              "      <td>0.0</td>\n",
              "      <td>0.0</td>\n",
              "      <td>0.0</td>\n",
              "      <td>0.0</td>\n",
              "      <td>0.0</td>\n",
              "      <td>1.0</td>\n",
              "      <td>1.0</td>\n",
              "      <td>0.0</td>\n",
              "      <td>0.0</td>\n",
              "      <td>0.0</td>\n",
              "      <td>0.0</td>\n",
              "      <td>1.0</td>\n",
              "      <td>0.0</td>\n",
              "      <td>0.0</td>\n",
              "      <td>0.0</td>\n",
              "      <td>0.0</td>\n",
              "    </tr>\n",
              "    <tr>\n",
              "      <th>996</th>\n",
              "      <td>1.0</td>\n",
              "      <td>0.0</td>\n",
              "      <td>0.0</td>\n",
              "      <td>0.0</td>\n",
              "      <td>0.0</td>\n",
              "      <td>0.0</td>\n",
              "      <td>1.0</td>\n",
              "      <td>0.0</td>\n",
              "      <td>0.0</td>\n",
              "      <td>0.0</td>\n",
              "      <td>0.0</td>\n",
              "      <td>0.0</td>\n",
              "      <td>1.0</td>\n",
              "      <td>0.0</td>\n",
              "      <td>0.0</td>\n",
              "      <td>0.0</td>\n",
              "      <td>1.0</td>\n",
              "      <td>0.0</td>\n",
              "      <td>0.0</td>\n",
              "      <td>0.0</td>\n",
              "      <td>1.0</td>\n",
              "      <td>0.0</td>\n",
              "      <td>0.0</td>\n",
              "      <td>0.0</td>\n",
              "      <td>0.0</td>\n",
              "      <td>0.0</td>\n",
              "      <td>0.0</td>\n",
              "      <td>1.0</td>\n",
              "      <td>0.0</td>\n",
              "      <td>0.0</td>\n",
              "      <td>1.0</td>\n",
              "      <td>0.0</td>\n",
              "      <td>0.0</td>\n",
              "      <td>0.0</td>\n",
              "      <td>0.0</td>\n",
              "      <td>0.0</td>\n",
              "      <td>0.0</td>\n",
              "      <td>0.0</td>\n",
              "      <td>0.0</td>\n",
              "      <td>1.0</td>\n",
              "      <td>...</td>\n",
              "      <td>0.0</td>\n",
              "      <td>0.0</td>\n",
              "      <td>0.0</td>\n",
              "      <td>0.0</td>\n",
              "      <td>1.0</td>\n",
              "      <td>1.0</td>\n",
              "      <td>0.0</td>\n",
              "      <td>0.0</td>\n",
              "      <td>0.0</td>\n",
              "      <td>0.0</td>\n",
              "      <td>1.0</td>\n",
              "      <td>0.0</td>\n",
              "      <td>0.0</td>\n",
              "      <td>0.0</td>\n",
              "      <td>0.0</td>\n",
              "      <td>0.0</td>\n",
              "      <td>0.0</td>\n",
              "      <td>0.0</td>\n",
              "      <td>0.0</td>\n",
              "      <td>1.0</td>\n",
              "      <td>1.0</td>\n",
              "      <td>0.0</td>\n",
              "      <td>0.0</td>\n",
              "      <td>0.0</td>\n",
              "      <td>0.0</td>\n",
              "      <td>1.0</td>\n",
              "      <td>0.0</td>\n",
              "      <td>0.0</td>\n",
              "      <td>0.0</td>\n",
              "      <td>0.0</td>\n",
              "      <td>1.0</td>\n",
              "      <td>0.0</td>\n",
              "      <td>0.0</td>\n",
              "      <td>0.0</td>\n",
              "      <td>0.0</td>\n",
              "      <td>1.0</td>\n",
              "      <td>0.0</td>\n",
              "      <td>0.0</td>\n",
              "      <td>0.0</td>\n",
              "      <td>0.0</td>\n",
              "    </tr>\n",
              "    <tr>\n",
              "      <th>997</th>\n",
              "      <td>0.0</td>\n",
              "      <td>0.0</td>\n",
              "      <td>0.0</td>\n",
              "      <td>0.0</td>\n",
              "      <td>1.0</td>\n",
              "      <td>1.0</td>\n",
              "      <td>0.0</td>\n",
              "      <td>0.0</td>\n",
              "      <td>0.0</td>\n",
              "      <td>0.0</td>\n",
              "      <td>0.0</td>\n",
              "      <td>0.0</td>\n",
              "      <td>1.0</td>\n",
              "      <td>0.0</td>\n",
              "      <td>0.0</td>\n",
              "      <td>1.0</td>\n",
              "      <td>0.0</td>\n",
              "      <td>0.0</td>\n",
              "      <td>0.0</td>\n",
              "      <td>0.0</td>\n",
              "      <td>1.0</td>\n",
              "      <td>0.0</td>\n",
              "      <td>0.0</td>\n",
              "      <td>0.0</td>\n",
              "      <td>0.0</td>\n",
              "      <td>0.0</td>\n",
              "      <td>0.0</td>\n",
              "      <td>0.0</td>\n",
              "      <td>0.0</td>\n",
              "      <td>1.0</td>\n",
              "      <td>0.0</td>\n",
              "      <td>0.0</td>\n",
              "      <td>0.0</td>\n",
              "      <td>1.0</td>\n",
              "      <td>0.0</td>\n",
              "      <td>0.0</td>\n",
              "      <td>0.0</td>\n",
              "      <td>0.0</td>\n",
              "      <td>0.0</td>\n",
              "      <td>1.0</td>\n",
              "      <td>...</td>\n",
              "      <td>0.0</td>\n",
              "      <td>0.0</td>\n",
              "      <td>0.0</td>\n",
              "      <td>0.0</td>\n",
              "      <td>1.0</td>\n",
              "      <td>1.0</td>\n",
              "      <td>0.0</td>\n",
              "      <td>0.0</td>\n",
              "      <td>0.0</td>\n",
              "      <td>0.0</td>\n",
              "      <td>1.0</td>\n",
              "      <td>0.0</td>\n",
              "      <td>0.0</td>\n",
              "      <td>0.0</td>\n",
              "      <td>0.0</td>\n",
              "      <td>0.0</td>\n",
              "      <td>0.0</td>\n",
              "      <td>0.0</td>\n",
              "      <td>0.0</td>\n",
              "      <td>1.0</td>\n",
              "      <td>1.0</td>\n",
              "      <td>0.0</td>\n",
              "      <td>0.0</td>\n",
              "      <td>0.0</td>\n",
              "      <td>0.0</td>\n",
              "      <td>1.0</td>\n",
              "      <td>0.0</td>\n",
              "      <td>0.0</td>\n",
              "      <td>0.0</td>\n",
              "      <td>0.0</td>\n",
              "      <td>0.0</td>\n",
              "      <td>0.0</td>\n",
              "      <td>0.0</td>\n",
              "      <td>0.0</td>\n",
              "      <td>1.0</td>\n",
              "      <td>1.0</td>\n",
              "      <td>0.0</td>\n",
              "      <td>0.0</td>\n",
              "      <td>0.0</td>\n",
              "      <td>0.0</td>\n",
              "    </tr>\n",
              "    <tr>\n",
              "      <th>998</th>\n",
              "      <td>1.0</td>\n",
              "      <td>0.0</td>\n",
              "      <td>0.0</td>\n",
              "      <td>0.0</td>\n",
              "      <td>0.0</td>\n",
              "      <td>0.0</td>\n",
              "      <td>0.0</td>\n",
              "      <td>0.0</td>\n",
              "      <td>1.0</td>\n",
              "      <td>0.0</td>\n",
              "      <td>0.0</td>\n",
              "      <td>0.0</td>\n",
              "      <td>1.0</td>\n",
              "      <td>0.0</td>\n",
              "      <td>0.0</td>\n",
              "      <td>1.0</td>\n",
              "      <td>0.0</td>\n",
              "      <td>0.0</td>\n",
              "      <td>0.0</td>\n",
              "      <td>0.0</td>\n",
              "      <td>1.0</td>\n",
              "      <td>0.0</td>\n",
              "      <td>0.0</td>\n",
              "      <td>0.0</td>\n",
              "      <td>0.0</td>\n",
              "      <td>0.0</td>\n",
              "      <td>0.0</td>\n",
              "      <td>1.0</td>\n",
              "      <td>0.0</td>\n",
              "      <td>0.0</td>\n",
              "      <td>0.0</td>\n",
              "      <td>0.0</td>\n",
              "      <td>0.0</td>\n",
              "      <td>1.0</td>\n",
              "      <td>0.0</td>\n",
              "      <td>0.0</td>\n",
              "      <td>0.0</td>\n",
              "      <td>0.0</td>\n",
              "      <td>0.0</td>\n",
              "      <td>1.0</td>\n",
              "      <td>...</td>\n",
              "      <td>0.0</td>\n",
              "      <td>0.0</td>\n",
              "      <td>0.0</td>\n",
              "      <td>0.0</td>\n",
              "      <td>1.0</td>\n",
              "      <td>1.0</td>\n",
              "      <td>0.0</td>\n",
              "      <td>0.0</td>\n",
              "      <td>0.0</td>\n",
              "      <td>0.0</td>\n",
              "      <td>1.0</td>\n",
              "      <td>0.0</td>\n",
              "      <td>0.0</td>\n",
              "      <td>0.0</td>\n",
              "      <td>0.0</td>\n",
              "      <td>1.0</td>\n",
              "      <td>0.0</td>\n",
              "      <td>0.0</td>\n",
              "      <td>0.0</td>\n",
              "      <td>0.0</td>\n",
              "      <td>1.0</td>\n",
              "      <td>0.0</td>\n",
              "      <td>0.0</td>\n",
              "      <td>0.0</td>\n",
              "      <td>0.0</td>\n",
              "      <td>1.0</td>\n",
              "      <td>0.0</td>\n",
              "      <td>0.0</td>\n",
              "      <td>0.0</td>\n",
              "      <td>0.0</td>\n",
              "      <td>0.0</td>\n",
              "      <td>0.0</td>\n",
              "      <td>0.0</td>\n",
              "      <td>0.0</td>\n",
              "      <td>1.0</td>\n",
              "      <td>0.0</td>\n",
              "      <td>0.0</td>\n",
              "      <td>0.0</td>\n",
              "      <td>0.0</td>\n",
              "      <td>1.0</td>\n",
              "    </tr>\n",
              "    <tr>\n",
              "      <th>999</th>\n",
              "      <td>0.0</td>\n",
              "      <td>1.0</td>\n",
              "      <td>0.0</td>\n",
              "      <td>0.0</td>\n",
              "      <td>0.0</td>\n",
              "      <td>0.0</td>\n",
              "      <td>0.0</td>\n",
              "      <td>0.0</td>\n",
              "      <td>1.0</td>\n",
              "      <td>0.0</td>\n",
              "      <td>0.0</td>\n",
              "      <td>0.0</td>\n",
              "      <td>0.0</td>\n",
              "      <td>0.0</td>\n",
              "      <td>1.0</td>\n",
              "      <td>0.0</td>\n",
              "      <td>1.0</td>\n",
              "      <td>0.0</td>\n",
              "      <td>0.0</td>\n",
              "      <td>0.0</td>\n",
              "      <td>0.0</td>\n",
              "      <td>1.0</td>\n",
              "      <td>0.0</td>\n",
              "      <td>0.0</td>\n",
              "      <td>0.0</td>\n",
              "      <td>1.0</td>\n",
              "      <td>0.0</td>\n",
              "      <td>0.0</td>\n",
              "      <td>0.0</td>\n",
              "      <td>0.0</td>\n",
              "      <td>0.0</td>\n",
              "      <td>0.0</td>\n",
              "      <td>0.0</td>\n",
              "      <td>1.0</td>\n",
              "      <td>0.0</td>\n",
              "      <td>0.0</td>\n",
              "      <td>0.0</td>\n",
              "      <td>0.0</td>\n",
              "      <td>0.0</td>\n",
              "      <td>1.0</td>\n",
              "      <td>...</td>\n",
              "      <td>0.0</td>\n",
              "      <td>0.0</td>\n",
              "      <td>0.0</td>\n",
              "      <td>0.0</td>\n",
              "      <td>1.0</td>\n",
              "      <td>1.0</td>\n",
              "      <td>0.0</td>\n",
              "      <td>0.0</td>\n",
              "      <td>0.0</td>\n",
              "      <td>0.0</td>\n",
              "      <td>1.0</td>\n",
              "      <td>0.0</td>\n",
              "      <td>0.0</td>\n",
              "      <td>0.0</td>\n",
              "      <td>0.0</td>\n",
              "      <td>0.0</td>\n",
              "      <td>0.0</td>\n",
              "      <td>0.0</td>\n",
              "      <td>0.0</td>\n",
              "      <td>1.0</td>\n",
              "      <td>1.0</td>\n",
              "      <td>0.0</td>\n",
              "      <td>0.0</td>\n",
              "      <td>0.0</td>\n",
              "      <td>0.0</td>\n",
              "      <td>1.0</td>\n",
              "      <td>0.0</td>\n",
              "      <td>0.0</td>\n",
              "      <td>0.0</td>\n",
              "      <td>0.0</td>\n",
              "      <td>0.0</td>\n",
              "      <td>0.0</td>\n",
              "      <td>0.0</td>\n",
              "      <td>0.0</td>\n",
              "      <td>1.0</td>\n",
              "      <td>1.0</td>\n",
              "      <td>0.0</td>\n",
              "      <td>0.0</td>\n",
              "      <td>0.0</td>\n",
              "      <td>0.0</td>\n",
              "    </tr>\n",
              "  </tbody>\n",
              "</table>\n",
              "<p>1000 rows × 125 columns</p>\n",
              "</div>"
            ],
            "text/plain": [
              "     A1_0  A1_1  A1_2  A1_3  A1_4  ...  A25_0  A25_1  A25_2  A25_3  A25_4\n",
              "0     1.0   0.0   0.0   0.0   0.0  ...    1.0    0.0    0.0    0.0    0.0\n",
              "1     0.0   1.0   0.0   0.0   0.0  ...    0.0    0.0    0.0    0.0    1.0\n",
              "2     0.0   0.0   0.0   0.0   1.0  ...    1.0    0.0    0.0    0.0    0.0\n",
              "3     1.0   0.0   0.0   0.0   0.0  ...    1.0    0.0    0.0    0.0    0.0\n",
              "4     1.0   0.0   0.0   0.0   0.0  ...    0.0    0.0    0.0    0.0    1.0\n",
              "..    ...   ...   ...   ...   ...  ...    ...    ...    ...    ...    ...\n",
              "995   0.0   0.0   0.0   0.0   1.0  ...    1.0    0.0    0.0    0.0    0.0\n",
              "996   1.0   0.0   0.0   0.0   0.0  ...    1.0    0.0    0.0    0.0    0.0\n",
              "997   0.0   0.0   0.0   0.0   1.0  ...    1.0    0.0    0.0    0.0    0.0\n",
              "998   1.0   0.0   0.0   0.0   0.0  ...    0.0    0.0    0.0    0.0    1.0\n",
              "999   0.0   1.0   0.0   0.0   0.0  ...    1.0    0.0    0.0    0.0    0.0\n",
              "\n",
              "[1000 rows x 125 columns]"
            ]
          },
          "metadata": {
            "tags": []
          },
          "execution_count": 113
        }
      ]
    },
    {
      "cell_type": "code",
      "metadata": {
        "colab": {
          "base_uri": "https://localhost:8080/",
          "height": 347
        },
        "id": "GpjcVdNRBDnd",
        "outputId": "13ebb744-e732-4499-e856-33fb96f3287c"
      },
      "source": [
        "df_credit_disc_1 = df_credit_disc.iloc[:10, :10]\n",
        "df_credit_disc_1"
      ],
      "execution_count": 114,
      "outputs": [
        {
          "output_type": "execute_result",
          "data": {
            "text/html": [
              "<div>\n",
              "<style scoped>\n",
              "    .dataframe tbody tr th:only-of-type {\n",
              "        vertical-align: middle;\n",
              "    }\n",
              "\n",
              "    .dataframe tbody tr th {\n",
              "        vertical-align: top;\n",
              "    }\n",
              "\n",
              "    .dataframe thead th {\n",
              "        text-align: right;\n",
              "    }\n",
              "</style>\n",
              "<table border=\"1\" class=\"dataframe\">\n",
              "  <thead>\n",
              "    <tr style=\"text-align: right;\">\n",
              "      <th></th>\n",
              "      <th>A1_0</th>\n",
              "      <th>A1_1</th>\n",
              "      <th>A1_2</th>\n",
              "      <th>A1_3</th>\n",
              "      <th>A1_4</th>\n",
              "      <th>A2_0</th>\n",
              "      <th>A2_1</th>\n",
              "      <th>A2_2</th>\n",
              "      <th>A2_3</th>\n",
              "      <th>A2_4</th>\n",
              "    </tr>\n",
              "  </thead>\n",
              "  <tbody>\n",
              "    <tr>\n",
              "      <th>0</th>\n",
              "      <td>1.0</td>\n",
              "      <td>0.0</td>\n",
              "      <td>0.0</td>\n",
              "      <td>0.0</td>\n",
              "      <td>0.0</td>\n",
              "      <td>1.0</td>\n",
              "      <td>0.0</td>\n",
              "      <td>0.0</td>\n",
              "      <td>0.0</td>\n",
              "      <td>0.0</td>\n",
              "    </tr>\n",
              "    <tr>\n",
              "      <th>1</th>\n",
              "      <td>0.0</td>\n",
              "      <td>1.0</td>\n",
              "      <td>0.0</td>\n",
              "      <td>0.0</td>\n",
              "      <td>0.0</td>\n",
              "      <td>0.0</td>\n",
              "      <td>0.0</td>\n",
              "      <td>0.0</td>\n",
              "      <td>1.0</td>\n",
              "      <td>0.0</td>\n",
              "    </tr>\n",
              "    <tr>\n",
              "      <th>2</th>\n",
              "      <td>0.0</td>\n",
              "      <td>0.0</td>\n",
              "      <td>0.0</td>\n",
              "      <td>0.0</td>\n",
              "      <td>1.0</td>\n",
              "      <td>1.0</td>\n",
              "      <td>0.0</td>\n",
              "      <td>0.0</td>\n",
              "      <td>0.0</td>\n",
              "      <td>0.0</td>\n",
              "    </tr>\n",
              "    <tr>\n",
              "      <th>3</th>\n",
              "      <td>1.0</td>\n",
              "      <td>0.0</td>\n",
              "      <td>0.0</td>\n",
              "      <td>0.0</td>\n",
              "      <td>0.0</td>\n",
              "      <td>0.0</td>\n",
              "      <td>0.0</td>\n",
              "      <td>1.0</td>\n",
              "      <td>0.0</td>\n",
              "      <td>0.0</td>\n",
              "    </tr>\n",
              "    <tr>\n",
              "      <th>4</th>\n",
              "      <td>1.0</td>\n",
              "      <td>0.0</td>\n",
              "      <td>0.0</td>\n",
              "      <td>0.0</td>\n",
              "      <td>0.0</td>\n",
              "      <td>0.0</td>\n",
              "      <td>1.0</td>\n",
              "      <td>0.0</td>\n",
              "      <td>0.0</td>\n",
              "      <td>0.0</td>\n",
              "    </tr>\n",
              "    <tr>\n",
              "      <th>5</th>\n",
              "      <td>0.0</td>\n",
              "      <td>0.0</td>\n",
              "      <td>0.0</td>\n",
              "      <td>0.0</td>\n",
              "      <td>1.0</td>\n",
              "      <td>0.0</td>\n",
              "      <td>0.0</td>\n",
              "      <td>1.0</td>\n",
              "      <td>0.0</td>\n",
              "      <td>0.0</td>\n",
              "    </tr>\n",
              "    <tr>\n",
              "      <th>6</th>\n",
              "      <td>0.0</td>\n",
              "      <td>0.0</td>\n",
              "      <td>0.0</td>\n",
              "      <td>0.0</td>\n",
              "      <td>1.0</td>\n",
              "      <td>0.0</td>\n",
              "      <td>1.0</td>\n",
              "      <td>0.0</td>\n",
              "      <td>0.0</td>\n",
              "      <td>0.0</td>\n",
              "    </tr>\n",
              "    <tr>\n",
              "      <th>7</th>\n",
              "      <td>0.0</td>\n",
              "      <td>1.0</td>\n",
              "      <td>0.0</td>\n",
              "      <td>0.0</td>\n",
              "      <td>0.0</td>\n",
              "      <td>0.0</td>\n",
              "      <td>0.0</td>\n",
              "      <td>1.0</td>\n",
              "      <td>0.0</td>\n",
              "      <td>0.0</td>\n",
              "    </tr>\n",
              "    <tr>\n",
              "      <th>8</th>\n",
              "      <td>0.0</td>\n",
              "      <td>0.0</td>\n",
              "      <td>0.0</td>\n",
              "      <td>0.0</td>\n",
              "      <td>1.0</td>\n",
              "      <td>1.0</td>\n",
              "      <td>0.0</td>\n",
              "      <td>0.0</td>\n",
              "      <td>0.0</td>\n",
              "      <td>0.0</td>\n",
              "    </tr>\n",
              "    <tr>\n",
              "      <th>9</th>\n",
              "      <td>0.0</td>\n",
              "      <td>1.0</td>\n",
              "      <td>0.0</td>\n",
              "      <td>0.0</td>\n",
              "      <td>0.0</td>\n",
              "      <td>0.0</td>\n",
              "      <td>1.0</td>\n",
              "      <td>0.0</td>\n",
              "      <td>0.0</td>\n",
              "      <td>0.0</td>\n",
              "    </tr>\n",
              "  </tbody>\n",
              "</table>\n",
              "</div>"
            ],
            "text/plain": [
              "   A1_0  A1_1  A1_2  A1_3  A1_4  A2_0  A2_1  A2_2  A2_3  A2_4\n",
              "0   1.0   0.0   0.0   0.0   0.0   1.0   0.0   0.0   0.0   0.0\n",
              "1   0.0   1.0   0.0   0.0   0.0   0.0   0.0   0.0   1.0   0.0\n",
              "2   0.0   0.0   0.0   0.0   1.0   1.0   0.0   0.0   0.0   0.0\n",
              "3   1.0   0.0   0.0   0.0   0.0   0.0   0.0   1.0   0.0   0.0\n",
              "4   1.0   0.0   0.0   0.0   0.0   0.0   1.0   0.0   0.0   0.0\n",
              "5   0.0   0.0   0.0   0.0   1.0   0.0   0.0   1.0   0.0   0.0\n",
              "6   0.0   0.0   0.0   0.0   1.0   0.0   1.0   0.0   0.0   0.0\n",
              "7   0.0   1.0   0.0   0.0   0.0   0.0   0.0   1.0   0.0   0.0\n",
              "8   0.0   0.0   0.0   0.0   1.0   1.0   0.0   0.0   0.0   0.0\n",
              "9   0.0   1.0   0.0   0.0   0.0   0.0   1.0   0.0   0.0   0.0"
            ]
          },
          "metadata": {
            "tags": []
          },
          "execution_count": 114
        }
      ]
    },
    {
      "cell_type": "code",
      "metadata": {
        "colab": {
          "base_uri": "https://localhost:8080/"
        },
        "id": "_ZIvZyYBC5ZW",
        "outputId": "6242232a-83bb-496c-b543-183c7d60d611"
      },
      "source": [
        "transactions_test = df_credit_disc_1.apply(lambda s: s.index[s.values == 1].tolist(), axis=1).values.tolist()\n",
        "transactions_test"
      ],
      "execution_count": 115,
      "outputs": [
        {
          "output_type": "execute_result",
          "data": {
            "text/plain": [
              "[['A1_0', 'A2_0'],\n",
              " ['A1_1', 'A2_3'],\n",
              " ['A1_4', 'A2_0'],\n",
              " ['A1_0', 'A2_2'],\n",
              " ['A1_0', 'A2_1'],\n",
              " ['A1_4', 'A2_2'],\n",
              " ['A1_4', 'A2_1'],\n",
              " ['A1_1', 'A2_2'],\n",
              " ['A1_4', 'A2_0'],\n",
              " ['A1_1', 'A2_1']]"
            ]
          },
          "metadata": {
            "tags": []
          },
          "execution_count": 115
        }
      ]
    },
    {
      "cell_type": "code",
      "metadata": {
        "id": "txRUN61d2vX9"
      },
      "source": [
        "transactions_9 = df_credit_disc.apply(lambda s: s.index[s.values == 1].tolist(), axis=1).values.tolist()"
      ],
      "execution_count": 116,
      "outputs": []
    },
    {
      "cell_type": "code",
      "metadata": {
        "id": "3DxujU8vmrvi"
      },
      "source": [
        "def build_rules_matrix(transactions):\n",
        "  \n",
        "  confianzas =  [i/10 for i in range(5,10)]\n",
        "  soportes = [i for i in range(500, len(transactions), 100)]\n",
        "  reglas = []\n",
        "  itemsets = []\n",
        "\n",
        "  for s in soportes:\n",
        "    r_aux = []\n",
        "    i_aux = []\n",
        "    for c in confianzas:\n",
        "      patterns = pyfpgrowth.find_frequent_patterns(transactions, s)\n",
        "      rules = pyfpgrowth.generate_association_rules(patterns, c)\n",
        "      r_aux.append(len(rules))\n",
        "      i_aux.append(len(patterns))\n",
        "    reglas.append(r_aux)\n",
        "    itemsets.append(i_aux)\n",
        "\n",
        "\n",
        "  df_reglas = pd.DataFrame(reglas, index=confianzas, columns=soportes)\n",
        "  df_items = pd.DataFrame(itemsets, index=confianzas, columns=soportes)\n",
        "  return df_reglas, df_items\n"
      ],
      "execution_count": 117,
      "outputs": []
    },
    {
      "cell_type": "code",
      "metadata": {
        "id": "TDGYuVX0rCsX"
      },
      "source": [
        "df_reglas_9, df_itemsets_s_9 = build_rules_matrix(transactions_9)"
      ],
      "execution_count": 120,
      "outputs": []
    },
    {
      "cell_type": "code",
      "metadata": {
        "colab": {
          "base_uri": "https://localhost:8080/",
          "height": 312
        },
        "id": "bDiQq9sZm7Yb",
        "outputId": "663fd49b-6ac9-426a-cc60-2200b1de5c04"
      },
      "source": [
        "\n",
        "# Add title\n",
        "plt.title(\"Cantidad de Reglas minadas Confianza vs Soporte\")\n",
        "\n",
        "# Heatmap showing average arrival delay for each airline by month\n",
        "sns.heatmap(data=df_reglas_9, annot=True)\n",
        "\n",
        "# Add label for horizontal axis\n",
        "plt.xlabel(\"Soporte\")\n",
        "plt.ylabel(\"Confianza\")"
      ],
      "execution_count": 121,
      "outputs": [
        {
          "output_type": "execute_result",
          "data": {
            "text/plain": [
              "Text(33.0, 0.5, 'Confianza')"
            ]
          },
          "metadata": {
            "tags": []
          },
          "execution_count": 121
        },
        {
          "output_type": "display_data",
          "data": {
            "image/png": "[encoded data removed]",
            "text/plain": [
              "<Figure size 432x288 with 2 Axes>"
            ]
          },
          "metadata": {
            "tags": [],
            "needs_background": "light"
          }
        }
      ]
    },
    {
      "cell_type": "code",
      "metadata": {
        "colab": {
          "base_uri": "https://localhost:8080/",
          "height": 314
        },
        "id": "-WQlJWgmuiXt",
        "outputId": "8c9a238a-8a7f-4bf4-b9cf-fffea9997cb7"
      },
      "source": [
        "# Add title\n",
        "plt.title(\"Tamaño de conjuntos de Ítems minados, Confianza vs Soporte\")\n",
        "\n",
        "# Heatmap showing average arrival delay for each airline by month\n",
        "sns.heatmap(data=df_itemsets_s_9, annot=True)\n",
        "\n",
        "# Add label for horizontal axis\n",
        "plt.xlabel(\"Soporte\")\n",
        "plt.ylabel(\"Confianza\")"
      ],
      "execution_count": 122,
      "outputs": [
        {
          "output_type": "execute_result",
          "data": {
            "text/plain": [
              "Text(33.0, 0.5, 'Confianza')"
            ]
          },
          "metadata": {
            "tags": []
          },
          "execution_count": 122
        },
        {
          "output_type": "display_data",
          "data": {
            "image/png": "[encoded data removed]",
            "text/plain": [
              "<Figure size 432x288 with 2 Axes>"
            ]
          },
          "metadata": {
            "tags": [],
            "needs_background": "light"
          }
        }
      ]
    },
    {
      "cell_type": "code",
      "metadata": {
        "id": "EQ0-pF1gDqU0"
      },
      "source": [
        "min_soporte_9 = 0.8*df_credit_disc.shape[0]\n",
        "min_confianza = 0.8"
      ],
      "execution_count": 123,
      "outputs": []
    },
    {
      "cell_type": "code",
      "metadata": {
        "colab": {
          "base_uri": "https://localhost:8080/"
        },
        "id": "X7fY0ekODGQb",
        "outputId": "59ac1560-d809-4bb2-c5f1-aa10fb8b773a"
      },
      "source": [
        "patterns_9 = pyfpgrowth.find_frequent_patterns(transactions_9, min_soporte_9)\n",
        "rules_9 = pyfpgrowth.generate_association_rules(patterns_9, min_confianza)\n",
        "rules_9"
      ],
      "execution_count": 124,
      "outputs": [
        {
          "output_type": "execute_result",
          "data": {
            "text/plain": [
              "{('A13_0', 'A15_0'): (('A22_0',), 0.978021978021978),\n",
              " ('A13_0', 'A22_0'): (('A15_0',), 0.9697336561743342),\n",
              " ('A15_0',): (('A22_0',), 0.9792315680166147),\n",
              " ('A15_0', 'A17_0'): (('A22_0',), 0.9779582366589327),\n",
              " ('A15_0', 'A17_0', 'A19_0'): (('A22_0',), 0.9794188861985472),\n",
              " ('A15_0', 'A17_0', 'A22_0'): (('A19_0',), 0.9596678529062871),\n",
              " ('A15_0', 'A18_4'): (('A19_0', 'A22_0'), 0.9795454545454545),\n",
              " ('A15_0', 'A18_4', 'A19_0'): (('A22_0',), 0.9795454545454545),\n",
              " ('A15_0', 'A18_4', 'A22_0'): (('A19_0',), 1.0),\n",
              " ('A15_0', 'A19_0'): (('A22_0',), 0.980561555075594),\n",
              " ('A15_0', 'A19_0', 'A22_0'): (('A18_4',), 0.9493392070484582),\n",
              " ('A15_0', 'A22_0'): (('A19_0',), 0.9628844114528102),\n",
              " ('A17_0', 'A18_4'): (('A19_0',), 1.0),\n",
              " ('A17_0', 'A19_0', 'A22_0'): (('A15_0',), 0.9653937947494033),\n",
              " ('A17_0', 'A22_0'): (('A15_0',), 0.9623287671232876),\n",
              " ('A18_4', 'A19_0'): (('A22_0',), 0.9779492833517089),\n",
              " ('A18_4', 'A19_0', 'A22_0'): (('A15_0',), 0.971815107102593),\n",
              " ('A18_4', 'A22_0'): (('A19_0',), 1.0),\n",
              " ('A19_0', 'A22_0'): (('A15_0',), 0.966986155484558),\n",
              " ('A20_0',): (('A22_0',), 0.9792935444579781),\n",
              " ('A22_0',): (('A15_0',), 0.9642126789366053)}"
            ]
          },
          "metadata": {
            "tags": []
          },
          "execution_count": 124
        }
      ]
    }
  ]
}